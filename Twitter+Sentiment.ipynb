{
 "cells": [
  {
   "cell_type": "markdown",
   "metadata": {
    "deletable": true,
    "editable": true
   },
   "source": [
    "Walkthrough: [Sentiment Analysis on Twitter using Word2Vec](http://ahmedbesbes.com/sentiment-analysis-on-twitter-using-word2vec-and-keras.html)"
   ]
  },
  {
   "cell_type": "code",
   "execution_count": 1,
   "metadata": {
    "collapsed": false,
    "deletable": true,
    "editable": true
   },
   "outputs": [
    {
     "name": "stdout",
     "output_type": "stream",
     "text": [
      "Requirement already satisfied: gensim in /usr/local/lib/python2.7/dist-packages\n",
      "Requirement already satisfied: six>=1.5.0 in /usr/local/lib/python2.7/dist-packages (from gensim)\n",
      "Requirement already satisfied: smart-open>=1.2.1 in /usr/local/lib/python2.7/dist-packages (from gensim)\n",
      "Requirement already satisfied: numpy>=1.11.3 in /usr/local/lib/python2.7/dist-packages (from gensim)\n",
      "Requirement already satisfied: scipy>=0.18.1 in /usr/local/lib/python2.7/dist-packages (from gensim)\n",
      "Requirement already satisfied: requests in /usr/local/lib/python2.7/dist-packages (from smart-open>=1.2.1->gensim)\n",
      "Requirement already satisfied: boto>=2.32 in /usr/local/lib/python2.7/dist-packages (from smart-open>=1.2.1->gensim)\n",
      "Requirement already satisfied: bz2file in /usr/local/lib/python2.7/dist-packages (from smart-open>=1.2.1->gensim)\n",
      "Requirement already satisfied: idna<2.6,>=2.5 in /usr/local/lib/python2.7/dist-packages (from requests->smart-open>=1.2.1->gensim)\n",
      "Requirement already satisfied: chardet<3.1.0,>=3.0.2 in /usr/local/lib/python2.7/dist-packages (from requests->smart-open>=1.2.1->gensim)\n",
      "Requirement already satisfied: certifi>=2017.4.17 in /usr/local/lib/python2.7/dist-packages (from requests->smart-open>=1.2.1->gensim)\n",
      "Requirement already satisfied: urllib3<1.23,>=1.21.1 in /usr/local/lib/python2.7/dist-packages (from requests->smart-open>=1.2.1->gensim)\n"
     ]
    }
   ],
   "source": [
    "!pip install gensim"
   ]
  },
  {
   "cell_type": "code",
   "execution_count": 2,
   "metadata": {
    "collapsed": false,
    "deletable": true,
    "editable": true
   },
   "outputs": [
    {
     "name": "stderr",
     "output_type": "stream",
     "text": [
      "Using TensorFlow backend.\n"
     ]
    }
   ],
   "source": [
    "import pandas as pd # provide sql-like data manipulation tools. very handy.\n",
    "pd.options.mode.chained_assignment = None\n",
    "import numpy as np # high dimensional vector computing library.\n",
    "from copy import deepcopy\n",
    "from string import punctuation\n",
    "from random import shuffle\n",
    "\n",
    "import gensim\n",
    "from gensim.models.word2vec import Word2Vec # the word2vec model gensim class\n",
    "LabeledSentence = gensim.models.doc2vec.LabeledSentence # we'll talk about this down below\n",
    "\n",
    "from tqdm import tqdm\n",
    "tqdm.pandas(desc=\"progress-bar\")\n",
    "\n",
    "from nltk.tokenize import TweetTokenizer # a tweet tokenizer from nltk.\n",
    "tokenizer = TweetTokenizer()\n",
    "\n",
    "from sklearn.model_selection import train_test_split\n",
    "from sklearn.feature_extraction.text import TfidfVectorizer"
   ]
  },
  {
   "cell_type": "code",
   "execution_count": 4,
   "metadata": {
    "collapsed": false,
    "deletable": true,
    "editable": true
   },
   "outputs": [
    {
     "name": "stdout",
     "output_type": "stream",
     "text": [
      "dataset loaded with shape (1600000, 4)\n"
     ]
    },
    {
     "data": {
      "text/html": [
       "<div>\n",
       "<table border=\"1\" class=\"dataframe\">\n",
       "  <thead>\n",
       "    <tr style=\"text-align: right;\">\n",
       "      <th></th>\n",
       "      <th>Sentiment</th>\n",
       "      <th>Date</th>\n",
       "      <th>SentimentAuthor</th>\n",
       "      <th>SentimentText</th>\n",
       "    </tr>\n",
       "  </thead>\n",
       "  <tbody>\n",
       "    <tr>\n",
       "      <th>0</th>\n",
       "      <td>0</td>\n",
       "      <td>Mon Apr 06 22:19:45 PDT 2009</td>\n",
       "      <td>_TheSpecialOne_</td>\n",
       "      <td>@switchfoot http://twitpic.com/2y1zl - Awww, t...</td>\n",
       "    </tr>\n",
       "    <tr>\n",
       "      <th>1</th>\n",
       "      <td>0</td>\n",
       "      <td>Mon Apr 06 22:19:49 PDT 2009</td>\n",
       "      <td>scotthamilton</td>\n",
       "      <td>is upset that he can't update his Facebook by ...</td>\n",
       "    </tr>\n",
       "    <tr>\n",
       "      <th>2</th>\n",
       "      <td>0</td>\n",
       "      <td>Mon Apr 06 22:19:53 PDT 2009</td>\n",
       "      <td>mattycus</td>\n",
       "      <td>@Kenichan I dived many times for the ball. Man...</td>\n",
       "    </tr>\n",
       "    <tr>\n",
       "      <th>3</th>\n",
       "      <td>0</td>\n",
       "      <td>Mon Apr 06 22:19:57 PDT 2009</td>\n",
       "      <td>ElleCTF</td>\n",
       "      <td>my whole body feels itchy and like its on fire</td>\n",
       "    </tr>\n",
       "    <tr>\n",
       "      <th>4</th>\n",
       "      <td>0</td>\n",
       "      <td>Mon Apr 06 22:19:57 PDT 2009</td>\n",
       "      <td>Karoli</td>\n",
       "      <td>@nationwideclass no, it's not behaving at all....</td>\n",
       "    </tr>\n",
       "  </tbody>\n",
       "</table>\n",
       "</div>"
      ],
      "text/plain": [
       "   Sentiment                          Date  SentimentAuthor  \\\n",
       "0          0  Mon Apr 06 22:19:45 PDT 2009  _TheSpecialOne_   \n",
       "1          0  Mon Apr 06 22:19:49 PDT 2009    scotthamilton   \n",
       "2          0  Mon Apr 06 22:19:53 PDT 2009         mattycus   \n",
       "3          0  Mon Apr 06 22:19:57 PDT 2009          ElleCTF   \n",
       "4          0  Mon Apr 06 22:19:57 PDT 2009           Karoli   \n",
       "\n",
       "                                       SentimentText  \n",
       "0  @switchfoot http://twitpic.com/2y1zl - Awww, t...  \n",
       "1  is upset that he can't update his Facebook by ...  \n",
       "2  @Kenichan I dived many times for the ball. Man...  \n",
       "3    my whole body feels itchy and like its on fire   \n",
       "4  @nationwideclass no, it's not behaving at all....  "
      ]
     },
     "execution_count": 4,
     "metadata": {},
     "output_type": "execute_result"
    }
   ],
   "source": [
    "def ingest():\n",
    "    data = pd.read_csv('./training.1600000.processed.noemoticon.csv', header=None, names=['Sentiment', 'ItemID', 'Date', 'SentimentSource', 'SentimentAuthor','SentimentText'])\n",
    "    data.drop(['ItemID', 'SentimentSource'], axis=1, inplace=True)\n",
    "    data = data[data.Sentiment.isnull() == False]\n",
    "    data['Sentiment'] = data['Sentiment'].map(int)\n",
    "    data = data[data['SentimentText'].isnull() == False]\n",
    "    data.reset_index(inplace=True)\n",
    "    data.drop('index', axis=1, inplace=True)\n",
    "    print 'dataset loaded with shape', data.shape    \n",
    "    return data\n",
    "\n",
    "data = ingest()\n",
    "data.head(5)"
   ]
  },
  {
   "cell_type": "code",
   "execution_count": 5,
   "metadata": {
    "collapsed": false,
    "deletable": true,
    "editable": true
   },
   "outputs": [
    {
     "data": {
      "text/html": [
       "<div>\n",
       "<table border=\"1\" class=\"dataframe\">\n",
       "  <thead>\n",
       "    <tr style=\"text-align: right;\">\n",
       "      <th></th>\n",
       "      <th>Date</th>\n",
       "      <th>SentimentAuthor</th>\n",
       "      <th>SentimentText</th>\n",
       "    </tr>\n",
       "    <tr>\n",
       "      <th>Sentiment</th>\n",
       "      <th></th>\n",
       "      <th></th>\n",
       "      <th></th>\n",
       "    </tr>\n",
       "  </thead>\n",
       "  <tbody>\n",
       "    <tr>\n",
       "      <th>0</th>\n",
       "      <td>800000</td>\n",
       "      <td>800000</td>\n",
       "      <td>800000</td>\n",
       "    </tr>\n",
       "    <tr>\n",
       "      <th>4</th>\n",
       "      <td>800000</td>\n",
       "      <td>800000</td>\n",
       "      <td>800000</td>\n",
       "    </tr>\n",
       "  </tbody>\n",
       "</table>\n",
       "</div>"
      ],
      "text/plain": [
       "             Date  SentimentAuthor  SentimentText\n",
       "Sentiment                                        \n",
       "0          800000           800000         800000\n",
       "4          800000           800000         800000"
      ]
     },
     "execution_count": 5,
     "metadata": {},
     "output_type": "execute_result"
    }
   ],
   "source": [
    "data.groupby(['Sentiment']).count()"
   ]
  },
  {
   "cell_type": "code",
   "execution_count": 6,
   "metadata": {
    "collapsed": true,
    "deletable": true,
    "editable": true
   },
   "outputs": [],
   "source": [
    "def tokenize(tweet):\n",
    "    try:\n",
    "        tweet = unicode(tweet.decode('utf-8').lower())\n",
    "        tokens = tokenizer.tokenize(tweet)\n",
    "        tokens = filter(lambda t: not t.startswith('@'), tokens)\n",
    "        tokens = filter(lambda t: not t.startswith('#'), tokens)\n",
    "        tokens = filter(lambda t: not t.startswith('http'), tokens)\n",
    "        return tokens\n",
    "    except:\n",
    "        return 'NC'"
   ]
  },
  {
   "cell_type": "code",
   "execution_count": 7,
   "metadata": {
    "collapsed": false,
    "deletable": true,
    "editable": true
   },
   "outputs": [
    {
     "name": "stderr",
     "output_type": "stream",
     "text": [
      "progress-bar: 100%|██████████| 1000000/1000000 [01:20<00:00, 12371.17it/s]\n"
     ]
    }
   ],
   "source": [
    "def postprocess(data, n=1000000):\n",
    "    data = data.head(n)\n",
    "    data['tokens'] = data['SentimentText'].progress_map(tokenize)  ## progress_map is a variant of the map function plus a progress bar. Handy to monitor DataFrame creations.\n",
    "    data = data[data.tokens != 'NC']\n",
    "    data.reset_index(inplace=True)\n",
    "    data.drop('index', inplace=True, axis=1)\n",
    "    return data\n",
    "\n",
    "data = postprocess(data)"
   ]
  },
  {
   "cell_type": "markdown",
   "metadata": {
    "deletable": true,
    "editable": true
   },
   "source": [
    "## Word2Vec"
   ]
  },
  {
   "cell_type": "code",
   "execution_count": 8,
   "metadata": {
    "collapsed": false,
    "deletable": true,
    "editable": true
   },
   "outputs": [],
   "source": [
    "n=1000000\n",
    "x_train, x_test, y_train, y_test = train_test_split(np.array(data.head(n).tokens),\n",
    "                                                    np.array(data.head(n).Sentiment), test_size=0.2)"
   ]
  },
  {
   "cell_type": "code",
   "execution_count": 9,
   "metadata": {
    "collapsed": false,
    "deletable": true,
    "editable": true
   },
   "outputs": [
    {
     "data": {
      "text/html": [
       "<div>\n",
       "<table border=\"1\" class=\"dataframe\">\n",
       "  <thead>\n",
       "    <tr style=\"text-align: right;\">\n",
       "      <th></th>\n",
       "      <th>Sentiment</th>\n",
       "      <th>Date</th>\n",
       "      <th>SentimentAuthor</th>\n",
       "      <th>SentimentText</th>\n",
       "      <th>tokens</th>\n",
       "    </tr>\n",
       "  </thead>\n",
       "  <tbody>\n",
       "    <tr>\n",
       "      <th>0</th>\n",
       "      <td>0</td>\n",
       "      <td>Mon Apr 06 22:19:45 PDT 2009</td>\n",
       "      <td>_TheSpecialOne_</td>\n",
       "      <td>@switchfoot http://twitpic.com/2y1zl - Awww, t...</td>\n",
       "      <td>[-, awww, ,, that's, a, bummer, ., you, should...</td>\n",
       "    </tr>\n",
       "    <tr>\n",
       "      <th>1</th>\n",
       "      <td>0</td>\n",
       "      <td>Mon Apr 06 22:19:49 PDT 2009</td>\n",
       "      <td>scotthamilton</td>\n",
       "      <td>is upset that he can't update his Facebook by ...</td>\n",
       "      <td>[is, upset, that, he, can't, update, his, face...</td>\n",
       "    </tr>\n",
       "    <tr>\n",
       "      <th>2</th>\n",
       "      <td>0</td>\n",
       "      <td>Mon Apr 06 22:19:53 PDT 2009</td>\n",
       "      <td>mattycus</td>\n",
       "      <td>@Kenichan I dived many times for the ball. Man...</td>\n",
       "      <td>[i, dived, many, times, for, the, ball, ., man...</td>\n",
       "    </tr>\n",
       "  </tbody>\n",
       "</table>\n",
       "</div>"
      ],
      "text/plain": [
       "   Sentiment                          Date  SentimentAuthor  \\\n",
       "0          0  Mon Apr 06 22:19:45 PDT 2009  _TheSpecialOne_   \n",
       "1          0  Mon Apr 06 22:19:49 PDT 2009    scotthamilton   \n",
       "2          0  Mon Apr 06 22:19:53 PDT 2009         mattycus   \n",
       "\n",
       "                                       SentimentText  \\\n",
       "0  @switchfoot http://twitpic.com/2y1zl - Awww, t...   \n",
       "1  is upset that he can't update his Facebook by ...   \n",
       "2  @Kenichan I dived many times for the ball. Man...   \n",
       "\n",
       "                                              tokens  \n",
       "0  [-, awww, ,, that's, a, bummer, ., you, should...  \n",
       "1  [is, upset, that, he, can't, update, his, face...  \n",
       "2  [i, dived, many, times, for, the, ball, ., man...  "
      ]
     },
     "execution_count": 9,
     "metadata": {},
     "output_type": "execute_result"
    }
   ],
   "source": [
    "data.head(3)\n",
    "# print x_train.size\n",
    "# print x_test.size\n",
    "# data.groupby(['Sentiment']).count()"
   ]
  },
  {
   "cell_type": "code",
   "execution_count": 10,
   "metadata": {
    "collapsed": false,
    "deletable": true,
    "editable": true
   },
   "outputs": [
    {
     "name": "stderr",
     "output_type": "stream",
     "text": [
      "799677it [00:04, 198710.24it/s]\n",
      "199920it [00:01, 155283.35it/s]\n"
     ]
    },
    {
     "data": {
      "text/plain": [
       "TaggedDocument(words=[u'-', u'i', u'have', u'no', u'idea', u'...', u'sorry', u'...'], tags=['TRAIN_0'])"
      ]
     },
     "execution_count": 10,
     "metadata": {},
     "output_type": "execute_result"
    }
   ],
   "source": [
    "def labelizeTweets(tweets, label_type):\n",
    "    labelized = []\n",
    "    for i,v in tqdm(enumerate(tweets)):\n",
    "        label = '%s_%s'%(label_type,i)\n",
    "        labelized.append(LabeledSentence(v, [label]))\n",
    "    return labelized\n",
    "\n",
    "x_train = labelizeTweets(x_train, 'TRAIN')\n",
    "x_test = labelizeTweets(x_test, 'TEST')\n",
    "x_train[0]"
   ]
  },
  {
   "cell_type": "code",
   "execution_count": 11,
   "metadata": {
    "collapsed": false,
    "deletable": true,
    "editable": true
   },
   "outputs": [
    {
     "name": "stderr",
     "output_type": "stream",
     "text": [
      "100%|██████████| 799677/799677 [00:00<00:00, 1395782.24it/s]\n"
     ]
    },
    {
     "name": "stdout",
     "output_type": "stream",
     "text": [
      "799677\n"
     ]
    },
    {
     "data": {
      "text/plain": [
       "17179662"
      ]
     },
     "execution_count": 11,
     "metadata": {},
     "output_type": "execute_result"
    }
   ],
   "source": [
    "n_dim=200\n",
    "tweet_w2v = Word2Vec(size=n_dim, min_count=10)\n",
    "\n",
    "sentences = [x.words for x in tqdm(x_train)]\n",
    "print len(sentences)\n",
    "tweet_w2v.build_vocab(sentences)\n",
    "tweet_w2v.train(sentences, total_examples=len(sentences), epochs=2)"
   ]
  },
  {
   "cell_type": "code",
   "execution_count": 12,
   "metadata": {
    "collapsed": false,
    "deletable": true,
    "editable": true
   },
   "outputs": [
    {
     "data": {
      "text/plain": [
       "array([-0.39284831,  1.36364448,  0.46635178,  0.2713958 , -0.48652118,\n",
       "        0.50193161,  0.84410262, -1.70936477, -1.53120172,  0.80197912,\n",
       "        0.57396722,  0.68029863, -0.8885026 , -2.00265718,  0.5918566 ,\n",
       "        0.67837614,  0.73199332,  1.94352651,  0.74260366,  0.33350798,\n",
       "       -2.12764955,  0.14545818,  1.39353657,  1.01106155, -0.14764364,\n",
       "        1.9596951 ,  1.22798669,  0.23021062, -2.53860641, -1.98425472,\n",
       "       -2.14621234,  1.89197671, -0.16925699, -1.7334522 , -0.93809384,\n",
       "        0.43863964, -1.62318647, -0.15077855, -0.07147733, -1.13040972,\n",
       "        0.44699579,  1.0332346 , -0.09699228,  0.45051339,  0.83192277,\n",
       "       -0.21107209,  1.07202363, -0.15585245,  0.01553344, -0.17187543,\n",
       "        0.13921049, -0.24037331, -0.82979113,  0.38501233, -0.26025748,\n",
       "        1.03123605, -0.57371223,  0.39221483, -0.6640591 , -1.73946011,\n",
       "       -0.17789911, -1.19150722, -0.46982923, -1.10960889, -0.06245032,\n",
       "        1.57024109,  2.03154755,  1.3740834 ,  0.61822087,  1.62913239,\n",
       "        0.22787365,  0.29520106,  0.94925189,  0.42866188, -1.39412665,\n",
       "        0.21602055, -0.80685019, -0.34498534, -0.06900821,  1.90295684,\n",
       "       -0.10989735,  0.51194018, -1.15371859, -0.31282759, -1.06106198,\n",
       "        0.18523014,  0.66195673, -1.51124358,  0.37462655, -0.14591366,\n",
       "       -1.48633313, -0.56711537, -0.64484417, -0.00460703, -0.62270331,\n",
       "       -0.70598179, -0.70954162,  1.12292576,  0.89157575,  0.71022624,\n",
       "        0.20016125, -0.39215934, -1.97168052,  0.39009342,  1.88214064,\n",
       "        1.22560942,  0.9952842 , -0.19711429,  0.030113  ,  0.91134274,\n",
       "        0.92076266,  0.51772058, -1.35787904, -0.18703385, -0.99521619,\n",
       "        0.3342863 ,  0.85649258,  0.48933443, -0.031547  ,  0.53489894,\n",
       "       -0.22121669,  2.20815778,  0.18402991, -2.23707962, -0.7053411 ,\n",
       "        0.69044554, -0.25333294,  0.84327167, -1.52364874,  0.15951507,\n",
       "        0.88581192,  1.34486663, -2.62977457,  0.01449746,  1.46118653,\n",
       "       -0.44395018, -0.3754901 , -1.50342548,  2.10954571, -1.99749649,\n",
       "        0.31778273,  1.12363195, -0.09277708,  0.48730272, -0.27260989,\n",
       "       -1.45939624,  0.98329896, -1.04892826,  0.99205035,  0.62960792,\n",
       "        0.82899147,  1.50104058, -0.33663201, -0.94988906, -1.08849549,\n",
       "       -0.35492802,  0.69762683, -0.70510793,  0.7503522 , -1.5633148 ,\n",
       "       -0.60444278, -0.10042665, -0.69304723,  1.144575  ,  0.64489585,\n",
       "       -0.09436411,  1.18062401,  0.25213289,  0.16332173,  0.00683182,\n",
       "       -0.02052541,  1.35814273, -1.47598636,  1.38377917, -0.30116665,\n",
       "       -2.14813924,  0.02399312,  0.33045927,  0.19656128, -0.47189876,\n",
       "        1.36358368,  0.23070791,  1.65643013, -0.20916386,  1.61675572,\n",
       "        1.52199209,  1.43854117, -1.03905058,  1.37341833, -2.1712184 ,\n",
       "       -0.42090711, -0.82552558, -0.27288175, -0.07568011,  0.28893507,\n",
       "       -0.79581517,  0.39658132,  0.71610463,  0.72486651,  1.62006426], dtype=float32)"
      ]
     },
     "execution_count": 12,
     "metadata": {},
     "output_type": "execute_result"
    }
   ],
   "source": [
    "tweet_w2v['good']"
   ]
  },
  {
   "cell_type": "code",
   "execution_count": 13,
   "metadata": {
    "collapsed": false,
    "deletable": true,
    "editable": true
   },
   "outputs": [
    {
     "data": {
      "text/plain": [
       "[(u'great', 0.7294263243675232),\n",
       " (u'cool', 0.6542844772338867),\n",
       " (u'nice', 0.6475257873535156),\n",
       " (u'bad', 0.6421359777450562),\n",
       " (u'goood', 0.640008807182312),\n",
       " (u'rough', 0.6335230469703674),\n",
       " (u'fantastic', 0.626408040523529),\n",
       " (u'tough', 0.62546306848526),\n",
       " (u'pleasant', 0.6167764663696289),\n",
       " (u'terrible', 0.6051438450813293)]"
      ]
     },
     "execution_count": 13,
     "metadata": {},
     "output_type": "execute_result"
    }
   ],
   "source": [
    "tweet_w2v.most_similar('good')"
   ]
  },
  {
   "cell_type": "code",
   "execution_count": 14,
   "metadata": {
    "collapsed": false,
    "deletable": true,
    "editable": true
   },
   "outputs": [
    {
     "data": {
      "text/plain": [
       "[(u'table', 0.8246245384216309),\n",
       " (u'cafe', 0.814526379108429),\n",
       " (u'restaurant', 0.7878074049949646),\n",
       " (u'market', 0.7773846387863159),\n",
       " (u'shop', 0.7375199794769287),\n",
       " (u'pub', 0.735166609287262),\n",
       " (u'target', 0.728895902633667),\n",
       " (u'grill', 0.7050116062164307),\n",
       " (u'hotel', 0.7033606767654419),\n",
       " (u'ball', 0.6947258710861206)]"
      ]
     },
     "execution_count": 14,
     "metadata": {},
     "output_type": "execute_result"
    }
   ],
   "source": [
    "tweet_w2v.most_similar('bar')"
   ]
  },
  {
   "cell_type": "code",
   "execution_count": 15,
   "metadata": {
    "collapsed": false,
    "deletable": true,
    "editable": true
   },
   "outputs": [
    {
     "data": {
      "text/plain": [
       "[(u'myspace', 0.904416561126709),\n",
       " (u'fb', 0.8932054042816162),\n",
       " (u'twitter', 0.8309180736541748),\n",
       " (u'flickr', 0.8028220534324646),\n",
       " (u'yahoo', 0.7822731137275696),\n",
       " (u'aim', 0.7739897966384888),\n",
       " (u'status', 0.7601168751716614),\n",
       " (u'youtube', 0.759611964225769),\n",
       " (u'msn', 0.756036639213562),\n",
       " (u'skype', 0.7522198557853699)]"
      ]
     },
     "execution_count": 15,
     "metadata": {},
     "output_type": "execute_result"
    }
   ],
   "source": [
    "tweet_w2v.most_similar('facebook')"
   ]
  },
  {
   "cell_type": "code",
   "execution_count": 16,
   "metadata": {
    "collapsed": false,
    "deletable": true,
    "editable": true
   },
   "outputs": [
    {
     "data": {
      "text/plain": [
       "[(u'upgrade', 0.7877534627914429),\n",
       " (u'app', 0.7873260974884033),\n",
       " (u'software', 0.7820095419883728),\n",
       " (u'mac', 0.7801790237426758),\n",
       " (u'itunes', 0.7801249027252197),\n",
       " (u'pc', 0.777249813079834),\n",
       " (u'3.0', 0.7729201912879944),\n",
       " (u'update', 0.7724477052688599),\n",
       " (u'tweetdeck', 0.7670104503631592),\n",
       " (u'blackberry', 0.7582669258117676)]"
      ]
     },
     "execution_count": 16,
     "metadata": {},
     "output_type": "execute_result"
    }
   ],
   "source": [
    "tweet_w2v.most_similar('iphone')"
   ]
  },
  {
   "cell_type": "code",
   "execution_count": 17,
   "metadata": {
    "collapsed": false,
    "deletable": true,
    "editable": true
   },
   "outputs": [
    {
     "name": "stdout",
     "output_type": "stream",
     "text": [
      "Requirement already satisfied: bokeh in /usr/local/lib/python2.7/dist-packages\n",
      "Requirement already satisfied: numpy>=1.7.1 in /usr/local/lib/python2.7/dist-packages (from bokeh)\n",
      "Requirement already satisfied: requests>=1.2.3 in /usr/local/lib/python2.7/dist-packages (from bokeh)\n",
      "Requirement already satisfied: six>=1.5.2 in /usr/local/lib/python2.7/dist-packages (from bokeh)\n",
      "Requirement already satisfied: python-dateutil>=2.1 in /usr/local/lib/python2.7/dist-packages (from bokeh)\n",
      "Requirement already satisfied: PyYAML>=3.10 in /usr/local/lib/python2.7/dist-packages (from bokeh)\n",
      "Requirement already satisfied: futures>=3.0.3 in /usr/local/lib/python2.7/dist-packages (from bokeh)\n",
      "Requirement already satisfied: Jinja2>=2.7 in /usr/local/lib/python2.7/dist-packages (from bokeh)\n",
      "Requirement already satisfied: bkcharts>=0.2 in /usr/local/lib/python2.7/dist-packages (from bokeh)\n",
      "Requirement already satisfied: tornado>=4.3 in /usr/local/lib/python2.7/dist-packages (from bokeh)\n",
      "Requirement already satisfied: idna<2.6,>=2.5 in /usr/local/lib/python2.7/dist-packages (from requests>=1.2.3->bokeh)\n",
      "Requirement already satisfied: chardet<3.1.0,>=3.0.2 in /usr/local/lib/python2.7/dist-packages (from requests>=1.2.3->bokeh)\n",
      "Requirement already satisfied: certifi>=2017.4.17 in /usr/local/lib/python2.7/dist-packages (from requests>=1.2.3->bokeh)\n",
      "Requirement already satisfied: urllib3<1.23,>=1.21.1 in /usr/local/lib/python2.7/dist-packages (from requests>=1.2.3->bokeh)\n",
      "Requirement already satisfied: MarkupSafe>=0.23 in /usr/local/lib/python2.7/dist-packages (from Jinja2>=2.7->bokeh)\n",
      "Requirement already satisfied: singledispatch in /usr/local/lib/python2.7/dist-packages (from tornado>=4.3->bokeh)\n",
      "Requirement already satisfied: backports_abc>=0.4 in /usr/local/lib/python2.7/dist-packages (from tornado>=4.3->bokeh)\n"
     ]
    }
   ],
   "source": [
    "!pip install bokeh"
   ]
  },
  {
   "cell_type": "code",
   "execution_count": 18,
   "metadata": {
    "collapsed": false,
    "deletable": true,
    "editable": true
   },
   "outputs": [
    {
     "data": {
      "text/html": [
       "\n",
       "    <div class=\"bk-root\">\n",
       "        <a href=\"http://bokeh.pydata.org\" target=\"_blank\" class=\"bk-logo bk-logo-small bk-logo-notebook\"></a>\n",
       "        <span id=\"5968c5ca-ede6-453b-a902-bce808e47855\">Loading BokehJS ...</span>\n",
       "    </div>"
      ]
     },
     "metadata": {},
     "output_type": "display_data"
    },
    {
     "data": {
      "application/javascript": [
       "\n",
       "(function(global) {\n",
       "  function now() {\n",
       "    return new Date();\n",
       "  }\n",
       "\n",
       "  var force = true;\n",
       "\n",
       "  if (typeof (window._bokeh_onload_callbacks) === \"undefined\" || force === true) {\n",
       "    window._bokeh_onload_callbacks = [];\n",
       "    window._bokeh_is_loading = undefined;\n",
       "  }\n",
       "\n",
       "\n",
       "  \n",
       "  if (typeof (window._bokeh_timeout) === \"undefined\" || force === true) {\n",
       "    window._bokeh_timeout = Date.now() + 5000;\n",
       "    window._bokeh_failed_load = false;\n",
       "  }\n",
       "\n",
       "  var NB_LOAD_WARNING = {'data': {'text/html':\n",
       "     \"<div style='background-color: #fdd'>\\n\"+\n",
       "     \"<p>\\n\"+\n",
       "     \"BokehJS does not appear to have successfully loaded. If loading BokehJS from CDN, this \\n\"+\n",
       "     \"may be due to a slow or bad network connection. Possible fixes:\\n\"+\n",
       "     \"</p>\\n\"+\n",
       "     \"<ul>\\n\"+\n",
       "     \"<li>re-rerun `output_notebook()` to attempt to load from CDN again, or</li>\\n\"+\n",
       "     \"<li>use INLINE resources instead, as so:</li>\\n\"+\n",
       "     \"</ul>\\n\"+\n",
       "     \"<code>\\n\"+\n",
       "     \"from bokeh.resources import INLINE\\n\"+\n",
       "     \"output_notebook(resources=INLINE)\\n\"+\n",
       "     \"</code>\\n\"+\n",
       "     \"</div>\"}};\n",
       "\n",
       "  function display_loaded() {\n",
       "    if (window.Bokeh !== undefined) {\n",
       "      var el = document.getElementById(\"5968c5ca-ede6-453b-a902-bce808e47855\");\n",
       "      el.textContent = \"BokehJS \" + Bokeh.version + \" successfully loaded.\";\n",
       "    } else if (Date.now() < window._bokeh_timeout) {\n",
       "      setTimeout(display_loaded, 100)\n",
       "    }\n",
       "  }\n",
       "\n",
       "  function run_callbacks() {\n",
       "    try {\n",
       "      window._bokeh_onload_callbacks.forEach(function(callback) { callback() });\n",
       "    }\n",
       "    finally {\n",
       "      delete window._bokeh_onload_callbacks\n",
       "    }\n",
       "    console.info(\"Bokeh: all callbacks have finished\");\n",
       "  }\n",
       "\n",
       "  function load_libs(js_urls, callback) {\n",
       "    window._bokeh_onload_callbacks.push(callback);\n",
       "    if (window._bokeh_is_loading > 0) {\n",
       "      console.log(\"Bokeh: BokehJS is being loaded, scheduling callback at\", now());\n",
       "      return null;\n",
       "    }\n",
       "    if (js_urls == null || js_urls.length === 0) {\n",
       "      run_callbacks();\n",
       "      return null;\n",
       "    }\n",
       "    console.log(\"Bokeh: BokehJS not loaded, scheduling load and callback at\", now());\n",
       "    window._bokeh_is_loading = js_urls.length;\n",
       "    for (var i = 0; i < js_urls.length; i++) {\n",
       "      var url = js_urls[i];\n",
       "      var s = document.createElement('script');\n",
       "      s.src = url;\n",
       "      s.async = false;\n",
       "      s.onreadystatechange = s.onload = function() {\n",
       "        window._bokeh_is_loading--;\n",
       "        if (window._bokeh_is_loading === 0) {\n",
       "          console.log(\"Bokeh: all BokehJS libraries loaded\");\n",
       "          run_callbacks()\n",
       "        }\n",
       "      };\n",
       "      s.onerror = function() {\n",
       "        console.warn(\"failed to load library \" + url);\n",
       "      };\n",
       "      console.log(\"Bokeh: injecting script tag for BokehJS library: \", url);\n",
       "      document.getElementsByTagName(\"head\")[0].appendChild(s);\n",
       "    }\n",
       "  };var element = document.getElementById(\"5968c5ca-ede6-453b-a902-bce808e47855\");\n",
       "  if (element == null) {\n",
       "    console.log(\"Bokeh: ERROR: autoload.js configured with elementid '5968c5ca-ede6-453b-a902-bce808e47855' but no matching script tag was found. \")\n",
       "    return false;\n",
       "  }\n",
       "\n",
       "  var js_urls = [\"https://cdn.pydata.org/bokeh/release/bokeh-0.12.6.min.js\", \"https://cdn.pydata.org/bokeh/release/bokeh-widgets-0.12.6.min.js\"];\n",
       "\n",
       "  var inline_js = [\n",
       "    function(Bokeh) {\n",
       "      Bokeh.set_log_level(\"info\");\n",
       "    },\n",
       "    \n",
       "    function(Bokeh) {\n",
       "      \n",
       "    },\n",
       "    \n",
       "    function(Bokeh) {\n",
       "      \n",
       "      document.getElementById(\"5968c5ca-ede6-453b-a902-bce808e47855\").textContent = \"BokehJS is loading...\";\n",
       "    },\n",
       "    function(Bokeh) {\n",
       "      console.log(\"Bokeh: injecting CSS: https://cdn.pydata.org/bokeh/release/bokeh-0.12.6.min.css\");\n",
       "      Bokeh.embed.inject_css(\"https://cdn.pydata.org/bokeh/release/bokeh-0.12.6.min.css\");\n",
       "      console.log(\"Bokeh: injecting CSS: https://cdn.pydata.org/bokeh/release/bokeh-widgets-0.12.6.min.css\");\n",
       "      Bokeh.embed.inject_css(\"https://cdn.pydata.org/bokeh/release/bokeh-widgets-0.12.6.min.css\");\n",
       "    }\n",
       "  ];\n",
       "\n",
       "  function run_inline_js() {\n",
       "    \n",
       "    if ((window.Bokeh !== undefined) || (force === true)) {\n",
       "      for (var i = 0; i < inline_js.length; i++) {\n",
       "        inline_js[i](window.Bokeh);\n",
       "      }if (force === true) {\n",
       "        display_loaded();\n",
       "      }} else if (Date.now() < window._bokeh_timeout) {\n",
       "      setTimeout(run_inline_js, 100);\n",
       "    } else if (!window._bokeh_failed_load) {\n",
       "      console.log(\"Bokeh: BokehJS failed to load within specified timeout.\");\n",
       "      window._bokeh_failed_load = true;\n",
       "    } else if (force !== true) {\n",
       "      var cell = $(document.getElementById(\"5968c5ca-ede6-453b-a902-bce808e47855\")).parents('.cell').data().cell;\n",
       "      cell.output_area.append_execute_result(NB_LOAD_WARNING)\n",
       "    }\n",
       "\n",
       "  }\n",
       "\n",
       "  if (window._bokeh_is_loading === 0) {\n",
       "    console.log(\"Bokeh: BokehJS loaded, going straight to plotting\");\n",
       "    run_inline_js();\n",
       "  } else {\n",
       "    load_libs(js_urls, function() {\n",
       "      console.log(\"Bokeh: BokehJS plotting callback run at\", now());\n",
       "      run_inline_js();\n",
       "    });\n",
       "  }\n",
       "}(this));"
      ]
     },
     "metadata": {},
     "output_type": "display_data"
    },
    {
     "name": "stdout",
     "output_type": "stream",
     "text": [
      "[t-SNE] Computing pairwise distances...\n",
      "[t-SNE] Computing 91 nearest neighbors...\n",
      "[t-SNE] Computed conditional probabilities for sample 1000 / 5000\n",
      "[t-SNE] Computed conditional probabilities for sample 2000 / 5000\n",
      "[t-SNE] Computed conditional probabilities for sample 3000 / 5000\n",
      "[t-SNE] Computed conditional probabilities for sample 4000 / 5000\n",
      "[t-SNE] Computed conditional probabilities for sample 5000 / 5000\n",
      "[t-SNE] Mean sigma: 0.118706\n",
      "[t-SNE] KL divergence after 100 iterations with early exaggeration: 0.966649\n",
      "[t-SNE] Error after 300 iterations: 0.966649\n"
     ]
    },
    {
     "data": {
      "text/html": [
       "\n",
       "\n",
       "    <div class=\"bk-root\">\n",
       "        <div class=\"bk-plotdiv\" id=\"cced7781-75de-4487-bd3e-f42485677c08\"></div>\n",
       "    </div>\n",
       "<script type=\"text/javascript\">\n",
       "  \n",
       "  (function(global) {\n",
       "    function now() {\n",
       "      return new Date();\n",
       "    }\n",
       "  \n",
       "    var force = false;\n",
       "  \n",
       "    if (typeof (window._bokeh_onload_callbacks) === \"undefined\" || force === true) {\n",
       "      window._bokeh_onload_callbacks = [];\n",
       "      window._bokeh_is_loading = undefined;\n",
       "    }\n",
       "  \n",
       "  \n",
       "    \n",
       "    if (typeof (window._bokeh_timeout) === \"undefined\" || force === true) {\n",
       "      window._bokeh_timeout = Date.now() + 0;\n",
       "      window._bokeh_failed_load = false;\n",
       "    }\n",
       "  \n",
       "    var NB_LOAD_WARNING = {'data': {'text/html':\n",
       "       \"<div style='background-color: #fdd'>\\n\"+\n",
       "       \"<p>\\n\"+\n",
       "       \"BokehJS does not appear to have successfully loaded. If loading BokehJS from CDN, this \\n\"+\n",
       "       \"may be due to a slow or bad network connection. Possible fixes:\\n\"+\n",
       "       \"</p>\\n\"+\n",
       "       \"<ul>\\n\"+\n",
       "       \"<li>re-rerun `output_notebook()` to attempt to load from CDN again, or</li>\\n\"+\n",
       "       \"<li>use INLINE resources instead, as so:</li>\\n\"+\n",
       "       \"</ul>\\n\"+\n",
       "       \"<code>\\n\"+\n",
       "       \"from bokeh.resources import INLINE\\n\"+\n",
       "       \"output_notebook(resources=INLINE)\\n\"+\n",
       "       \"</code>\\n\"+\n",
       "       \"</div>\"}};\n",
       "  \n",
       "    function display_loaded() {\n",
       "      if (window.Bokeh !== undefined) {\n",
       "        var el = document.getElementById(\"cced7781-75de-4487-bd3e-f42485677c08\");\n",
       "        el.textContent = \"BokehJS \" + Bokeh.version + \" successfully loaded.\";\n",
       "      } else if (Date.now() < window._bokeh_timeout) {\n",
       "        setTimeout(display_loaded, 100)\n",
       "      }\n",
       "    }\n",
       "  \n",
       "    function run_callbacks() {\n",
       "      try {\n",
       "        window._bokeh_onload_callbacks.forEach(function(callback) { callback() });\n",
       "      }\n",
       "      finally {\n",
       "        delete window._bokeh_onload_callbacks\n",
       "      }\n",
       "      console.info(\"Bokeh: all callbacks have finished\");\n",
       "    }\n",
       "  \n",
       "    function load_libs(js_urls, callback) {\n",
       "      window._bokeh_onload_callbacks.push(callback);\n",
       "      if (window._bokeh_is_loading > 0) {\n",
       "        console.log(\"Bokeh: BokehJS is being loaded, scheduling callback at\", now());\n",
       "        return null;\n",
       "      }\n",
       "      if (js_urls == null || js_urls.length === 0) {\n",
       "        run_callbacks();\n",
       "        return null;\n",
       "      }\n",
       "      console.log(\"Bokeh: BokehJS not loaded, scheduling load and callback at\", now());\n",
       "      window._bokeh_is_loading = js_urls.length;\n",
       "      for (var i = 0; i < js_urls.length; i++) {\n",
       "        var url = js_urls[i];\n",
       "        var s = document.createElement('script');\n",
       "        s.src = url;\n",
       "        s.async = false;\n",
       "        s.onreadystatechange = s.onload = function() {\n",
       "          window._bokeh_is_loading--;\n",
       "          if (window._bokeh_is_loading === 0) {\n",
       "            console.log(\"Bokeh: all BokehJS libraries loaded\");\n",
       "            run_callbacks()\n",
       "          }\n",
       "        };\n",
       "        s.onerror = function() {\n",
       "          console.warn(\"failed to load library \" + url);\n",
       "        };\n",
       "        console.log(\"Bokeh: injecting script tag for BokehJS library: \", url);\n",
       "        document.getElementsByTagName(\"head\")[0].appendChild(s);\n",
       "      }\n",
       "    };var element = document.getElementById(\"cced7781-75de-4487-bd3e-f42485677c08\");\n",
       "    if (element == null) {\n",
       "      console.log(\"Bokeh: ERROR: autoload.js configured with elementid 'cced7781-75de-4487-bd3e-f42485677c08' but no matching script tag was found. \")\n",
       "      return false;\n",
       "    }\n",
       "  \n",
       "    var js_urls = [];\n",
       "  \n",
       "    var inline_js = [\n",
       "      function(Bokeh) {\n",
       "        (function() {\n",
       "          var fn = function() {\n",
       "            var docs_json = {\"d6cb5006-6d98-4379-81d7-e9d46427fa31\":{\"roots\":{\"references\":[{\"attributes\":{\"active_drag\":\"auto\",\"active_inspect\":\"auto\",\"active_scroll\":\"auto\",\"active_tap\":\"auto\",\"tools\":[{\"id\":\"6cde0f67-e5c0-4db7-afe9-42e9c639d654\",\"type\":\"PanTool\"},{\"id\":\"bdf3349d-9d46-4d2d-8a8d-a60e0c6cb92b\",\"type\":\"WheelZoomTool\"},{\"id\":\"3fa2cee4-6263-4486-a93d-d82b596d8484\",\"type\":\"BoxZoomTool\"},{\"id\":\"0baebfcd-68c2-48f0-9fde-378bf1e5fc34\",\"type\":\"ResetTool\"},{\"id\":\"ebb4e5f7-0d33-4efa-a778-7e1f24217771\",\"type\":\"HoverTool\"},{\"id\":\"d86b2633-b3bb-43ce-940c-8b5f6dcf0724\",\"type\":\"SaveTool\"}]},\"id\":\"8a31c11d-98ea-4ee0-97b3-e7c4576b1d61\",\"type\":\"Toolbar\"},{\"attributes\":{\"min_border\":1,\"plot_width\":700,\"renderers\":[{\"id\":\"7dbad6a8-eaf1-4344-a137-71f00630bb90\",\"type\":\"BoxAnnotation\"},{\"id\":\"e02158eb-e238-46c3-94ff-4927af15fde0\",\"type\":\"GlyphRenderer\"}],\"title\":{\"id\":\"dff1418b-b368-4de8-8f2b-2098c6808437\",\"type\":\"Title\"},\"tool_events\":{\"id\":\"5cd18061-a28e-4304-af4f-e56c7bcf6a7c\",\"type\":\"ToolEvents\"},\"toolbar\":{\"id\":\"8a31c11d-98ea-4ee0-97b3-e7c4576b1d61\",\"type\":\"Toolbar\"},\"x_range\":{\"id\":\"6e10f749-b749-492d-8ba3-ad421adf5202\",\"type\":\"DataRange1d\"},\"x_scale\":{\"id\":\"ed7595b1-fab6-4ce4-82c1-aa1f66c74256\",\"type\":\"LinearScale\"},\"y_range\":{\"id\":\"1e995e64-343d-4e6a-9be4-a9f22e35e2bc\",\"type\":\"DataRange1d\"},\"y_scale\":{\"id\":\"0d18a0a3-fb9a-4135-acd1-d0f5ac22e9eb\",\"type\":\"LinearScale\"}},\"id\":\"05c2158c-a674-4e1f-bd1c-7e911182fb8d\",\"subtype\":\"Figure\",\"type\":\"Plot\"},{\"attributes\":{\"plot\":{\"id\":\"05c2158c-a674-4e1f-bd1c-7e911182fb8d\",\"subtype\":\"Figure\",\"type\":\"Plot\"}},\"id\":\"6cde0f67-e5c0-4db7-afe9-42e9c639d654\",\"type\":\"PanTool\"},{\"attributes\":{\"fill_color\":{\"value\":\"#1f77b4\"},\"line_color\":{\"value\":\"#1f77b4\"},\"x\":{\"field\":\"x\"},\"y\":{\"field\":\"y\"}},\"id\":\"56ccf159-c887-4979-a97d-8606ff930d29\",\"type\":\"Circle\"},{\"attributes\":{\"fill_alpha\":{\"value\":0.1},\"fill_color\":{\"value\":\"#1f77b4\"},\"line_alpha\":{\"value\":0.1},\"line_color\":{\"value\":\"#1f77b4\"},\"x\":{\"field\":\"x\"},\"y\":{\"field\":\"y\"}},\"id\":\"e9db7ad2-29a7-4946-85fc-70e0cdb85ee9\",\"type\":\"Circle\"},{\"attributes\":{\"callback\":null,\"column_names\":[\"y\",\"x\",\"words\",\"index\"],\"data\":{\"index\":[0,1,2,3,4,5,6,7,8,9,10,11,12,13,14,15,16,17,18,19,20,21,22,23,24,25,26,27,28,29,30,31,32,33,34,35,36,37,38,39,40,41,42,43,44,45,46,47,48,49,50,51,52,53,54,55,56,57,58,59,60,61,62,63,64,65,66,67,68,69,70,71,72,73,74,75,76,77,78,79,80,81,82,83,84,85,86,87,88,89,90,91,92,93,94,95,96,97,98,99,100,101,102,103,104,105,106,107,108,109,110,111,112,113,114,115,116,117,118,119,120,121,122,123,124,125,126,127,128,129,130,131,132,133,134,135,136,137,138,139,140,141,142,143,144,145,146,147,148,149,150,151,152,153,154,155,156,157,158,159,160,161,162,163,164,165,166,167,168,169,170,171,172,173,174,175,176,177,178,179,180,181,182,183,184,185,186,187,188,189,190,191,192,193,194,195,196,197,198,199,200,201,202,203,204,205,206,207,208,209,210,211,212,213,214,215,216,217,218,219,220,221,222,223,224,225,226,227,228,229,230,231,232,233,234,235,236,237,238,239,240,241,242,243,244,245,246,247,248,249,250,251,252,253,254,255,256,257,258,259,260,261,262,263,264,265,266,267,268,269,270,271,272,273,274,275,276,277,278,279,280,281,282,283,284,285,286,287,288,289,290,291,292,293,294,295,296,297,298,299,300,301,302,303,304,305,306,307,308,309,310,311,312,313,314,315,316,317,318,319,320,321,322,323,324,325,326,327,328,329,330,331,332,333,334,335,336,337,338,339,340,341,342,343,344,345,346,347,348,349,350,351,352,353,354,355,356,357,358,359,360,361,362,363,364,365,366,367,368,369,370,371,372,373,374,375,376,377,378,379,380,381,382,383,384,385,386,387,388,389,390,391,392,393,394,395,396,397,398,399,400,401,402,403,404,405,406,407,408,409,410,411,412,413,414,415,416,417,418,419,420,421,422,423,424,425,426,427,428,429,430,431,432,433,434,435,436,437,438,439,440,441,442,443,444,445,446,447,448,449,450,451,452,453,454,455,456,457,458,459,460,461,462,463,464,465,466,467,468,469,470,471,472,473,474,475,476,477,478,479,480,481,482,483,484,485,486,487,488,489,490,491,492,493,494,495,496,497,498,499,500,501,502,503,504,505,506,507,508,509,510,511,512,513,514,515,516,517,518,519,520,521,522,523,524,525,526,527,528,529,530,531,532,533,534,535,536,537,538,539,540,541,542,543,544,545,546,547,548,549,550,551,552,553,554,555,556,557,558,559,560,561,562,563,564,565,566,567,568,569,570,571,572,573,574,575,576,577,578,579,580,581,582,583,584,585,586,587,588,589,590,591,592,593,594,595,596,597,598,599,600,601,602,603,604,605,606,607,608,609,610,611,612,613,614,615,616,617,618,619,620,621,622,623,624,625,626,627,628,629,630,631,632,633,634,635,636,637,638,639,640,641,642,643,644,645,646,647,648,649,650,651,652,653,654,655,656,657,658,659,660,661,662,663,664,665,666,667,668,669,670,671,672,673,674,675,676,677,678,679,680,681,682,683,684,685,686,687,688,689,690,691,692,693,694,695,696,697,698,699,700,701,702,703,704,705,706,707,708,709,710,711,712,713,714,715,716,717,718,719,720,721,722,723,724,725,726,727,728,729,730,731,732,733,734,735,736,737,738,739,740,741,742,743,744,745,746,747,748,749,750,751,752,753,754,755,756,757,758,759,760,761,762,763,764,765,766,767,768,769,770,771,772,773,774,775,776,777,778,779,780,781,782,783,784,785,786,787,788,789,790,791,792,793,794,795,796,797,798,799,800,801,802,803,804,805,806,807,808,809,810,811,812,813,814,815,816,817,818,819,820,821,822,823,824,825,826,827,828,829,830,831,832,833,834,835,836,837,838,839,840,841,842,843,844,845,846,847,848,849,850,851,852,853,854,855,856,857,858,859,860,861,862,863,864,865,866,867,868,869,870,871,872,873,874,875,876,877,878,879,880,881,882,883,884,885,886,887,888,889,890,891,892,893,894,895,896,897,898,899,900,901,902,903,904,905,906,907,908,909,910,911,912,913,914,915,916,917,918,919,920,921,922,923,924,925,926,927,928,929,930,931,932,933,934,935,936,937,938,939,940,941,942,943,944,945,946,947,948,949,950,951,952,953,954,955,956,957,958,959,960,961,962,963,964,965,966,967,968,969,970,971,972,973,974,975,976,977,978,979,980,981,982,983,984,985,986,987,988,989,990,991,992,993,994,995,996,997,998,999,1000,1001,1002,1003,1004,1005,1006,1007,1008,1009,1010,1011,1012,1013,1014,1015,1016,1017,1018,1019,1020,1021,1022,1023,1024,1025,1026,1027,1028,1029,1030,1031,1032,1033,1034,1035,1036,1037,1038,1039,1040,1041,1042,1043,1044,1045,1046,1047,1048,1049,1050,1051,1052,1053,1054,1055,1056,1057,1058,1059,1060,1061,1062,1063,1064,1065,1066,1067,1068,1069,1070,1071,1072,1073,1074,1075,1076,1077,1078,1079,1080,1081,1082,1083,1084,1085,1086,1087,1088,1089,1090,1091,1092,1093,1094,1095,1096,1097,1098,1099,1100,1101,1102,1103,1104,1105,1106,1107,1108,1109,1110,1111,1112,1113,1114,1115,1116,1117,1118,1119,1120,1121,1122,1123,1124,1125,1126,1127,1128,1129,1130,1131,1132,1133,1134,1135,1136,1137,1138,1139,1140,1141,1142,1143,1144,1145,1146,1147,1148,1149,1150,1151,1152,1153,1154,1155,1156,1157,1158,1159,1160,1161,1162,1163,1164,1165,1166,1167,1168,1169,1170,1171,1172,1173,1174,1175,1176,1177,1178,1179,1180,1181,1182,1183,1184,1185,1186,1187,1188,1189,1190,1191,1192,1193,1194,1195,1196,1197,1198,1199,1200,1201,1202,1203,1204,1205,1206,1207,1208,1209,1210,1211,1212,1213,1214,1215,1216,1217,1218,1219,1220,1221,1222,1223,1224,1225,1226,1227,1228,1229,1230,1231,1232,1233,1234,1235,1236,1237,1238,1239,1240,1241,1242,1243,1244,1245,1246,1247,1248,1249,1250,1251,1252,1253,1254,1255,1256,1257,1258,1259,1260,1261,1262,1263,1264,1265,1266,1267,1268,1269,1270,1271,1272,1273,1274,1275,1276,1277,1278,1279,1280,1281,1282,1283,1284,1285,1286,1287,1288,1289,1290,1291,1292,1293,1294,1295,1296,1297,1298,1299,1300,1301,1302,1303,1304,1305,1306,1307,1308,1309,1310,1311,1312,1313,1314,1315,1316,1317,1318,1319,1320,1321,1322,1323,1324,1325,1326,1327,1328,1329,1330,1331,1332,1333,1334,1335,1336,1337,1338,1339,1340,1341,1342,1343,1344,1345,1346,1347,1348,1349,1350,1351,1352,1353,1354,1355,1356,1357,1358,1359,1360,1361,1362,1363,1364,1365,1366,1367,1368,1369,1370,1371,1372,1373,1374,1375,1376,1377,1378,1379,1380,1381,1382,1383,1384,1385,1386,1387,1388,1389,1390,1391,1392,1393,1394,1395,1396,1397,1398,1399,1400,1401,1402,1403,1404,1405,1406,1407,1408,1409,1410,1411,1412,1413,1414,1415,1416,1417,1418,1419,1420,1421,1422,1423,1424,1425,1426,1427,1428,1429,1430,1431,1432,1433,1434,1435,1436,1437,1438,1439,1440,1441,1442,1443,1444,1445,1446,1447,1448,1449,1450,1451,1452,1453,1454,1455,1456,1457,1458,1459,1460,1461,1462,1463,1464,1465,1466,1467,1468,1469,1470,1471,1472,1473,1474,1475,1476,1477,1478,1479,1480,1481,1482,1483,1484,1485,1486,1487,1488,1489,1490,1491,1492,1493,1494,1495,1496,1497,1498,1499,1500,1501,1502,1503,1504,1505,1506,1507,1508,1509,1510,1511,1512,1513,1514,1515,1516,1517,1518,1519,1520,1521,1522,1523,1524,1525,1526,1527,1528,1529,1530,1531,1532,1533,1534,1535,1536,1537,1538,1539,1540,1541,1542,1543,1544,1545,1546,1547,1548,1549,1550,1551,1552,1553,1554,1555,1556,1557,1558,1559,1560,1561,1562,1563,1564,1565,1566,1567,1568,1569,1570,1571,1572,1573,1574,1575,1576,1577,1578,1579,1580,1581,1582,1583,1584,1585,1586,1587,1588,1589,1590,1591,1592,1593,1594,1595,1596,1597,1598,1599,1600,1601,1602,1603,1604,1605,1606,1607,1608,1609,1610,1611,1612,1613,1614,1615,1616,1617,1618,1619,1620,1621,1622,1623,1624,1625,1626,1627,1628,1629,1630,1631,1632,1633,1634,1635,1636,1637,1638,1639,1640,1641,1642,1643,1644,1645,1646,1647,1648,1649,1650,1651,1652,1653,1654,1655,1656,1657,1658,1659,1660,1661,1662,1663,1664,1665,1666,1667,1668,1669,1670,1671,1672,1673,1674,1675,1676,1677,1678,1679,1680,1681,1682,1683,1684,1685,1686,1687,1688,1689,1690,1691,1692,1693,1694,1695,1696,1697,1698,1699,1700,1701,1702,1703,1704,1705,1706,1707,1708,1709,1710,1711,1712,1713,1714,1715,1716,1717,1718,1719,1720,1721,1722,1723,1724,1725,1726,1727,1728,1729,1730,1731,1732,1733,1734,1735,1736,1737,1738,1739,1740,1741,1742,1743,1744,1745,1746,1747,1748,1749,1750,1751,1752,1753,1754,1755,1756,1757,1758,1759,1760,1761,1762,1763,1764,1765,1766,1767,1768,1769,1770,1771,1772,1773,1774,1775,1776,1777,1778,1779,1780,1781,1782,1783,1784,1785,1786,1787,1788,1789,1790,1791,1792,1793,1794,1795,1796,1797,1798,1799,1800,1801,1802,1803,1804,1805,1806,1807,1808,1809,1810,1811,1812,1813,1814,1815,1816,1817,1818,1819,1820,1821,1822,1823,1824,1825,1826,1827,1828,1829,1830,1831,1832,1833,1834,1835,1836,1837,1838,1839,1840,1841,1842,1843,1844,1845,1846,1847,1848,1849,1850,1851,1852,1853,1854,1855,1856,1857,1858,1859,1860,1861,1862,1863,1864,1865,1866,1867,1868,1869,1870,1871,1872,1873,1874,1875,1876,1877,1878,1879,1880,1881,1882,1883,1884,1885,1886,1887,1888,1889,1890,1891,1892,1893,1894,1895,1896,1897,1898,1899,1900,1901,1902,1903,1904,1905,1906,1907,1908,1909,1910,1911,1912,1913,1914,1915,1916,1917,1918,1919,1920,1921,1922,1923,1924,1925,1926,1927,1928,1929,1930,1931,1932,1933,1934,1935,1936,1937,1938,1939,1940,1941,1942,1943,1944,1945,1946,1947,1948,1949,1950,1951,1952,1953,1954,1955,1956,1957,1958,1959,1960,1961,1962,1963,1964,1965,1966,1967,1968,1969,1970,1971,1972,1973,1974,1975,1976,1977,1978,1979,1980,1981,1982,1983,1984,1985,1986,1987,1988,1989,1990,1991,1992,1993,1994,1995,1996,1997,1998,1999,2000,2001,2002,2003,2004,2005,2006,2007,2008,2009,2010,2011,2012,2013,2014,2015,2016,2017,2018,2019,2020,2021,2022,2023,2024,2025,2026,2027,2028,2029,2030,2031,2032,2033,2034,2035,2036,2037,2038,2039,2040,2041,2042,2043,2044,2045,2046,2047,2048,2049,2050,2051,2052,2053,2054,2055,2056,2057,2058,2059,2060,2061,2062,2063,2064,2065,2066,2067,2068,2069,2070,2071,2072,2073,2074,2075,2076,2077,2078,2079,2080,2081,2082,2083,2084,2085,2086,2087,2088,2089,2090,2091,2092,2093,2094,2095,2096,2097,2098,2099,2100,2101,2102,2103,2104,2105,2106,2107,2108,2109,2110,2111,2112,2113,2114,2115,2116,2117,2118,2119,2120,2121,2122,2123,2124,2125,2126,2127,2128,2129,2130,2131,2132,2133,2134,2135,2136,2137,2138,2139,2140,2141,2142,2143,2144,2145,2146,2147,2148,2149,2150,2151,2152,2153,2154,2155,2156,2157,2158,2159,2160,2161,2162,2163,2164,2165,2166,2167,2168,2169,2170,2171,2172,2173,2174,2175,2176,2177,2178,2179,2180,2181,2182,2183,2184,2185,2186,2187,2188,2189,2190,2191,2192,2193,2194,2195,2196,2197,2198,2199,2200,2201,2202,2203,2204,2205,2206,2207,2208,2209,2210,2211,2212,2213,2214,2215,2216,2217,2218,2219,2220,2221,2222,2223,2224,2225,2226,2227,2228,2229,2230,2231,2232,2233,2234,2235,2236,2237,2238,2239,2240,2241,2242,2243,2244,2245,2246,2247,2248,2249,2250,2251,2252,2253,2254,2255,2256,2257,2258,2259,2260,2261,2262,2263,2264,2265,2266,2267,2268,2269,2270,2271,2272,2273,2274,2275,2276,2277,2278,2279,2280,2281,2282,2283,2284,2285,2286,2287,2288,2289,2290,2291,2292,2293,2294,2295,2296,2297,2298,2299,2300,2301,2302,2303,2304,2305,2306,2307,2308,2309,2310,2311,2312,2313,2314,2315,2316,2317,2318,2319,2320,2321,2322,2323,2324,2325,2326,2327,2328,2329,2330,2331,2332,2333,2334,2335,2336,2337,2338,2339,2340,2341,2342,2343,2344,2345,2346,2347,2348,2349,2350,2351,2352,2353,2354,2355,2356,2357,2358,2359,2360,2361,2362,2363,2364,2365,2366,2367,2368,2369,2370,2371,2372,2373,2374,2375,2376,2377,2378,2379,2380,2381,2382,2383,2384,2385,2386,2387,2388,2389,2390,2391,2392,2393,2394,2395,2396,2397,2398,2399,2400,2401,2402,2403,2404,2405,2406,2407,2408,2409,2410,2411,2412,2413,2414,2415,2416,2417,2418,2419,2420,2421,2422,2423,2424,2425,2426,2427,2428,2429,2430,2431,2432,2433,2434,2435,2436,2437,2438,2439,2440,2441,2442,2443,2444,2445,2446,2447,2448,2449,2450,2451,2452,2453,2454,2455,2456,2457,2458,2459,2460,2461,2462,2463,2464,2465,2466,2467,2468,2469,2470,2471,2472,2473,2474,2475,2476,2477,2478,2479,2480,2481,2482,2483,2484,2485,2486,2487,2488,2489,2490,2491,2492,2493,2494,2495,2496,2497,2498,2499,2500,2501,2502,2503,2504,2505,2506,2507,2508,2509,2510,2511,2512,2513,2514,2515,2516,2517,2518,2519,2520,2521,2522,2523,2524,2525,2526,2527,2528,2529,2530,2531,2532,2533,2534,2535,2536,2537,2538,2539,2540,2541,2542,2543,2544,2545,2546,2547,2548,2549,2550,2551,2552,2553,2554,2555,2556,2557,2558,2559,2560,2561,2562,2563,2564,2565,2566,2567,2568,2569,2570,2571,2572,2573,2574,2575,2576,2577,2578,2579,2580,2581,2582,2583,2584,2585,2586,2587,2588,2589,2590,2591,2592,2593,2594,2595,2596,2597,2598,2599,2600,2601,2602,2603,2604,2605,2606,2607,2608,2609,2610,2611,2612,2613,2614,2615,2616,2617,2618,2619,2620,2621,2622,2623,2624,2625,2626,2627,2628,2629,2630,2631,2632,2633,2634,2635,2636,2637,2638,2639,2640,2641,2642,2643,2644,2645,2646,2647,2648,2649,2650,2651,2652,2653,2654,2655,2656,2657,2658,2659,2660,2661,2662,2663,2664,2665,2666,2667,2668,2669,2670,2671,2672,2673,2674,2675,2676,2677,2678,2679,2680,2681,2682,2683,2684,2685,2686,2687,2688,2689,2690,2691,2692,2693,2694,2695,2696,2697,2698,2699,2700,2701,2702,2703,2704,2705,2706,2707,2708,2709,2710,2711,2712,2713,2714,2715,2716,2717,2718,2719,2720,2721,2722,2723,2724,2725,2726,2727,2728,2729,2730,2731,2732,2733,2734,2735,2736,2737,2738,2739,2740,2741,2742,2743,2744,2745,2746,2747,2748,2749,2750,2751,2752,2753,2754,2755,2756,2757,2758,2759,2760,2761,2762,2763,2764,2765,2766,2767,2768,2769,2770,2771,2772,2773,2774,2775,2776,2777,2778,2779,2780,2781,2782,2783,2784,2785,2786,2787,2788,2789,2790,2791,2792,2793,2794,2795,2796,2797,2798,2799,2800,2801,2802,2803,2804,2805,2806,2807,2808,2809,2810,2811,2812,2813,2814,2815,2816,2817,2818,2819,2820,2821,2822,2823,2824,2825,2826,2827,2828,2829,2830,2831,2832,2833,2834,2835,2836,2837,2838,2839,2840,2841,2842,2843,2844,2845,2846,2847,2848,2849,2850,2851,2852,2853,2854,2855,2856,2857,2858,2859,2860,2861,2862,2863,2864,2865,2866,2867,2868,2869,2870,2871,2872,2873,2874,2875,2876,2877,2878,2879,2880,2881,2882,2883,2884,2885,2886,2887,2888,2889,2890,2891,2892,2893,2894,2895,2896,2897,2898,2899,2900,2901,2902,2903,2904,2905,2906,2907,2908,2909,2910,2911,2912,2913,2914,2915,2916,2917,2918,2919,2920,2921,2922,2923,2924,2925,2926,2927,2928,2929,2930,2931,2932,2933,2934,2935,2936,2937,2938,2939,2940,2941,2942,2943,2944,2945,2946,2947,2948,2949,2950,2951,2952,2953,2954,2955,2956,2957,2958,2959,2960,2961,2962,2963,2964,2965,2966,2967,2968,2969,2970,2971,2972,2973,2974,2975,2976,2977,2978,2979,2980,2981,2982,2983,2984,2985,2986,2987,2988,2989,2990,2991,2992,2993,2994,2995,2996,2997,2998,2999,3000,3001,3002,3003,3004,3005,3006,3007,3008,3009,3010,3011,3012,3013,3014,3015,3016,3017,3018,3019,3020,3021,3022,3023,3024,3025,3026,3027,3028,3029,3030,3031,3032,3033,3034,3035,3036,3037,3038,3039,3040,3041,3042,3043,3044,3045,3046,3047,3048,3049,3050,3051,3052,3053,3054,3055,3056,3057,3058,3059,3060,3061,3062,3063,3064,3065,3066,3067,3068,3069,3070,3071,3072,3073,3074,3075,3076,3077,3078,3079,3080,3081,3082,3083,3084,3085,3086,3087,3088,3089,3090,3091,3092,3093,3094,3095,3096,3097,3098,3099,3100,3101,3102,3103,3104,3105,3106,3107,3108,3109,3110,3111,3112,3113,3114,3115,3116,3117,3118,3119,3120,3121,3122,3123,3124,3125,3126,3127,3128,3129,3130,3131,3132,3133,3134,3135,3136,3137,3138,3139,3140,3141,3142,3143,3144,3145,3146,3147,3148,3149,3150,3151,3152,3153,3154,3155,3156,3157,3158,3159,3160,3161,3162,3163,3164,3165,3166,3167,3168,3169,3170,3171,3172,3173,3174,3175,3176,3177,3178,3179,3180,3181,3182,3183,3184,3185,3186,3187,3188,3189,3190,3191,3192,3193,3194,3195,3196,3197,3198,3199,3200,3201,3202,3203,3204,3205,3206,3207,3208,3209,3210,3211,3212,3213,3214,3215,3216,3217,3218,3219,3220,3221,3222,3223,3224,3225,3226,3227,3228,3229,3230,3231,3232,3233,3234,3235,3236,3237,3238,3239,3240,3241,3242,3243,3244,3245,3246,3247,3248,3249,3250,3251,3252,3253,3254,3255,3256,3257,3258,3259,3260,3261,3262,3263,3264,3265,3266,3267,3268,3269,3270,3271,3272,3273,3274,3275,3276,3277,3278,3279,3280,3281,3282,3283,3284,3285,3286,3287,3288,3289,3290,3291,3292,3293,3294,3295,3296,3297,3298,3299,3300,3301,3302,3303,3304,3305,3306,3307,3308,3309,3310,3311,3312,3313,3314,3315,3316,3317,3318,3319,3320,3321,3322,3323,3324,3325,3326,3327,3328,3329,3330,3331,3332,3333,3334,3335,3336,3337,3338,3339,3340,3341,3342,3343,3344,3345,3346,3347,3348,3349,3350,3351,3352,3353,3354,3355,3356,3357,3358,3359,3360,3361,3362,3363,3364,3365,3366,3367,3368,3369,3370,3371,3372,3373,3374,3375,3376,3377,3378,3379,3380,3381,3382,3383,3384,3385,3386,3387,3388,3389,3390,3391,3392,3393,3394,3395,3396,3397,3398,3399,3400,3401,3402,3403,3404,3405,3406,3407,3408,3409,3410,3411,3412,3413,3414,3415,3416,3417,3418,3419,3420,3421,3422,3423,3424,3425,3426,3427,3428,3429,3430,3431,3432,3433,3434,3435,3436,3437,3438,3439,3440,3441,3442,3443,3444,3445,3446,3447,3448,3449,3450,3451,3452,3453,3454,3455,3456,3457,3458,3459,3460,3461,3462,3463,3464,3465,3466,3467,3468,3469,3470,3471,3472,3473,3474,3475,3476,3477,3478,3479,3480,3481,3482,3483,3484,3485,3486,3487,3488,3489,3490,3491,3492,3493,3494,3495,3496,3497,3498,3499,3500,3501,3502,3503,3504,3505,3506,3507,3508,3509,3510,3511,3512,3513,3514,3515,3516,3517,3518,3519,3520,3521,3522,3523,3524,3525,3526,3527,3528,3529,3530,3531,3532,3533,3534,3535,3536,3537,3538,3539,3540,3541,3542,3543,3544,3545,3546,3547,3548,3549,3550,3551,3552,3553,3554,3555,3556,3557,3558,3559,3560,3561,3562,3563,3564,3565,3566,3567,3568,3569,3570,3571,3572,3573,3574,3575,3576,3577,3578,3579,3580,3581,3582,3583,3584,3585,3586,3587,3588,3589,3590,3591,3592,3593,3594,3595,3596,3597,3598,3599,3600,3601,3602,3603,3604,3605,3606,3607,3608,3609,3610,3611,3612,3613,3614,3615,3616,3617,3618,3619,3620,3621,3622,3623,3624,3625,3626,3627,3628,3629,3630,3631,3632,3633,3634,3635,3636,3637,3638,3639,3640,3641,3642,3643,3644,3645,3646,3647,3648,3649,3650,3651,3652,3653,3654,3655,3656,3657,3658,3659,3660,3661,3662,3663,3664,3665,3666,3667,3668,3669,3670,3671,3672,3673,3674,3675,3676,3677,3678,3679,3680,3681,3682,3683,3684,3685,3686,3687,3688,3689,3690,3691,3692,3693,3694,3695,3696,3697,3698,3699,3700,3701,3702,3703,3704,3705,3706,3707,3708,3709,3710,3711,3712,3713,3714,3715,3716,3717,3718,3719,3720,3721,3722,3723,3724,3725,3726,3727,3728,3729,3730,3731,3732,3733,3734,3735,3736,3737,3738,3739,3740,3741,3742,3743,3744,3745,3746,3747,3748,3749,3750,3751,3752,3753,3754,3755,3756,3757,3758,3759,3760,3761,3762,3763,3764,3765,3766,3767,3768,3769,3770,3771,3772,3773,3774,3775,3776,3777,3778,3779,3780,3781,3782,3783,3784,3785,3786,3787,3788,3789,3790,3791,3792,3793,3794,3795,3796,3797,3798,3799,3800,3801,3802,3803,3804,3805,3806,3807,3808,3809,3810,3811,3812,3813,3814,3815,3816,3817,3818,3819,3820,3821,3822,3823,3824,3825,3826,3827,3828,3829,3830,3831,3832,3833,3834,3835,3836,3837,3838,3839,3840,3841,3842,3843,3844,3845,3846,3847,3848,3849,3850,3851,3852,3853,3854,3855,3856,3857,3858,3859,3860,3861,3862,3863,3864,3865,3866,3867,3868,3869,3870,3871,3872,3873,3874,3875,3876,3877,3878,3879,3880,3881,3882,3883,3884,3885,3886,3887,3888,3889,3890,3891,3892,3893,3894,3895,3896,3897,3898,3899,3900,3901,3902,3903,3904,3905,3906,3907,3908,3909,3910,3911,3912,3913,3914,3915,3916,3917,3918,3919,3920,3921,3922,3923,3924,3925,3926,3927,3928,3929,3930,3931,3932,3933,3934,3935,3936,3937,3938,3939,3940,3941,3942,3943,3944,3945,3946,3947,3948,3949,3950,3951,3952,3953,3954,3955,3956,3957,3958,3959,3960,3961,3962,3963,3964,3965,3966,3967,3968,3969,3970,3971,3972,3973,3974,3975,3976,3977,3978,3979,3980,3981,3982,3983,3984,3985,3986,3987,3988,3989,3990,3991,3992,3993,3994,3995,3996,3997,3998,3999,4000,4001,4002,4003,4004,4005,4006,4007,4008,4009,4010,4011,4012,4013,4014,4015,4016,4017,4018,4019,4020,4021,4022,4023,4024,4025,4026,4027,4028,4029,4030,4031,4032,4033,4034,4035,4036,4037,4038,4039,4040,4041,4042,4043,4044,4045,4046,4047,4048,4049,4050,4051,4052,4053,4054,4055,4056,4057,4058,4059,4060,4061,4062,4063,4064,4065,4066,4067,4068,4069,4070,4071,4072,4073,4074,4075,4076,4077,4078,4079,4080,4081,4082,4083,4084,4085,4086,4087,4088,4089,4090,4091,4092,4093,4094,4095,4096,4097,4098,4099,4100,4101,4102,4103,4104,4105,4106,4107,4108,4109,4110,4111,4112,4113,4114,4115,4116,4117,4118,4119,4120,4121,4122,4123,4124,4125,4126,4127,4128,4129,4130,4131,4132,4133,4134,4135,4136,4137,4138,4139,4140,4141,4142,4143,4144,4145,4146,4147,4148,4149,4150,4151,4152,4153,4154,4155,4156,4157,4158,4159,4160,4161,4162,4163,4164,4165,4166,4167,4168,4169,4170,4171,4172,4173,4174,4175,4176,4177,4178,4179,4180,4181,4182,4183,4184,4185,4186,4187,4188,4189,4190,4191,4192,4193,4194,4195,4196,4197,4198,4199,4200,4201,4202,4203,4204,4205,4206,4207,4208,4209,4210,4211,4212,4213,4214,4215,4216,4217,4218,4219,4220,4221,4222,4223,4224,4225,4226,4227,4228,4229,4230,4231,4232,4233,4234,4235,4236,4237,4238,4239,4240,4241,4242,4243,4244,4245,4246,4247,4248,4249,4250,4251,4252,4253,4254,4255,4256,4257,4258,4259,4260,4261,4262,4263,4264,4265,4266,4267,4268,4269,4270,4271,4272,4273,4274,4275,4276,4277,4278,4279,4280,4281,4282,4283,4284,4285,4286,4287,4288,4289,4290,4291,4292,4293,4294,4295,4296,4297,4298,4299,4300,4301,4302,4303,4304,4305,4306,4307,4308,4309,4310,4311,4312,4313,4314,4315,4316,4317,4318,4319,4320,4321,4322,4323,4324,4325,4326,4327,4328,4329,4330,4331,4332,4333,4334,4335,4336,4337,4338,4339,4340,4341,4342,4343,4344,4345,4346,4347,4348,4349,4350,4351,4352,4353,4354,4355,4356,4357,4358,4359,4360,4361,4362,4363,4364,4365,4366,4367,4368,4369,4370,4371,4372,4373,4374,4375,4376,4377,4378,4379,4380,4381,4382,4383,4384,4385,4386,4387,4388,4389,4390,4391,4392,4393,4394,4395,4396,4397,4398,4399,4400,4401,4402,4403,4404,4405,4406,4407,4408,4409,4410,4411,4412,4413,4414,4415,4416,4417,4418,4419,4420,4421,4422,4423,4424,4425,4426,4427,4428,4429,4430,4431,4432,4433,4434,4435,4436,4437,4438,4439,4440,4441,4442,4443,4444,4445,4446,4447,4448,4449,4450,4451,4452,4453,4454,4455,4456,4457,4458,4459,4460,4461,4462,4463,4464,4465,4466,4467,4468,4469,4470,4471,4472,4473,4474,4475,4476,4477,4478,4479,4480,4481,4482,4483,4484,4485,4486,4487,4488,4489,4490,4491,4492,4493,4494,4495,4496,4497,4498,4499,4500,4501,4502,4503,4504,4505,4506,4507,4508,4509,4510,4511,4512,4513,4514,4515,4516,4517,4518,4519,4520,4521,4522,4523,4524,4525,4526,4527,4528,4529,4530,4531,4532,4533,4534,4535,4536,4537,4538,4539,4540,4541,4542,4543,4544,4545,4546,4547,4548,4549,4550,4551,4552,4553,4554,4555,4556,4557,4558,4559,4560,4561,4562,4563,4564,4565,4566,4567,4568,4569,4570,4571,4572,4573,4574,4575,4576,4577,4578,4579,4580,4581,4582,4583,4584,4585,4586,4587,4588,4589,4590,4591,4592,4593,4594,4595,4596,4597,4598,4599,4600,4601,4602,4603,4604,4605,4606,4607,4608,4609,4610,4611,4612,4613,4614,4615,4616,4617,4618,4619,4620,4621,4622,4623,4624,4625,4626,4627,4628,4629,4630,4631,4632,4633,4634,4635,4636,4637,4638,4639,4640,4641,4642,4643,4644,4645,4646,4647,4648,4649,4650,4651,4652,4653,4654,4655,4656,4657,4658,4659,4660,4661,4662,4663,4664,4665,4666,4667,4668,4669,4670,4671,4672,4673,4674,4675,4676,4677,4678,4679,4680,4681,4682,4683,4684,4685,4686,4687,4688,4689,4690,4691,4692,4693,4694,4695,4696,4697,4698,4699,4700,4701,4702,4703,4704,4705,4706,4707,4708,4709,4710,4711,4712,4713,4714,4715,4716,4717,4718,4719,4720,4721,4722,4723,4724,4725,4726,4727,4728,4729,4730,4731,4732,4733,4734,4735,4736,4737,4738,4739,4740,4741,4742,4743,4744,4745,4746,4747,4748,4749,4750,4751,4752,4753,4754,4755,4756,4757,4758,4759,4760,4761,4762,4763,4764,4765,4766,4767,4768,4769,4770,4771,4772,4773,4774,4775,4776,4777,4778,4779,4780,4781,4782,4783,4784,4785,4786,4787,4788,4789,4790,4791,4792,4793,4794,4795,4796,4797,4798,4799,4800,4801,4802,4803,4804,4805,4806,4807,4808,4809,4810,4811,4812,4813,4814,4815,4816,4817,4818,4819,4820,4821,4822,4823,4824,4825,4826,4827,4828,4829,4830,4831,4832,4833,4834,4835,4836,4837,4838,4839,4840,4841,4842,4843,4844,4845,4846,4847,4848,4849,4850,4851,4852,4853,4854,4855,4856,4857,4858,4859,4860,4861,4862,4863,4864,4865,4866,4867,4868,4869,4870,4871,4872,4873,4874,4875,4876,4877,4878,4879,4880,4881,4882,4883,4884,4885,4886,4887,4888,4889,4890,4891,4892,4893,4894,4895,4896,4897,4898,4899,4900,4901,4902,4903,4904,4905,4906,4907,4908,4909,4910,4911,4912,4913,4914,4915,4916,4917,4918,4919,4920,4921,4922,4923,4924,4925,4926,4927,4928,4929,4930,4931,4932,4933,4934,4935,4936,4937,4938,4939,4940,4941,4942,4943,4944,4945,4946,4947,4948,4949,4950,4951,4952,4953,4954,4955,4956,4957,4958,4959,4960,4961,4962,4963,4964,4965,4966,4967,4968,4969,4970,4971,4972,4973,4974,4975,4976,4977,4978,4979,4980,4981,4982,4983,4984,4985,4986,4987,4988,4989,4990,4991,4992,4993,4994,4995,4996,4997,4998,4999],\"words\":[\"fawn\",\"woods\",\"spiders\",\"hanging\",\"woody\",\"canes\",\"originality\",\"battles\",\"bringing\",\"receiving\",\"grueling\",\"wooden\",\"wednesday\",\"crotch\",\"zzzzzz\",\"bbqs\",\"tom's\",\"snuggles\",\"270\",\"francesca\",\"scraped\",\"snuggled\",\"errors\",\"cooking\",\"designing\",\"shocks\",\"widget\",\"how've\",\"nawh\",\"naww\",\"nawt\",\"china\",\"chino\",\"kids\",\"uplifting\",\"kidz\",\"climbed\",\"kidd\",\"neurologist\",\"spotty\",\"golden\",\"justin's\",\"stern\",\"dne\",\"dnd\",\"dna\",\"musiq\",\"dnb\",\"catchy\",\"dno\",\"dnt\",\"dnw\",\"music\",\"therefore\",\"dns\",\"violently\",\"grahams\",\"yahoo\",\"primeval\",\"unpack\",\"benedryl\",\"circumstances\",\"listenin\",\"intake\",\"locked\",\"locker\",\"matilda\",\"india's\",\"wana\",\"wang\",\"wand\",\"pints\",\"wank\",\"pooper\",\"want\",\"absolute\",\"mcmuffin\",\"travel\",\"playback\",\"tutorial\",\"dinosaurs\",\"wrong\",\"bsnl\",\"sickening\",\"tulip\",\"18th\",\"welcomed\",\"foreal\",\"rewarded\",\"aargh\",\"welcomes\",\"fir\",\"fit\",\"lifeline\",\"screaming\",\"fix\",\"fic\",\"fig\",\"wales\",\"fin\",\"fil\",\"vouchers\",\"twits\",\"effects\",\"sixteen\",\"saddened\",\"timeout\",\"ingrid\",\"telescope\",\"allah\",\"allan\",\"2day\",\"oprah\",\"humber\",\"mason\",\"encourage\",\"noice\",\"adapt\",\"frenchie\",\"estimate\",\"ugghhh\",\"gameplay\",\"chlorine\",\"accts\",\"disturbed\",\"loool\",\"kfc\",\"seizures\",\"olds\",\"sweeeet\",\"service\",\"needed\",\"master\",\"hiya\",\"genesis\",\"caitlyn\",\"lacrosse\",\"rewards\",\"aaaahhh\",\"whores\",\"positively\",\"spayed\",\"idle\",\"feeling\",\"yeezys\",\"longs\",\"codeine\",\"spectrum\",\"dozed\",\"longg\",\"dozen\",\"affairs\",\"boringggg\",\"mouth\",\"bradford\",\"singer\",\"tech\",\"prevention\",\"scream\",\"saying\",\"teresa\",\"ulcer\",\"tempted\",\"thai\",\"orleans\",\"clicked\",\"baby's\",\"rico\",\"lube\",\"bliss\",\"rick\",\"rich\",\"rice\",\"rica\",\"plate\",\"waaaaaay\",\"7-11\",\"7-10\",\"altogether\",\"waaaaaah\",\"nicely\",\"pretzel\",\"patch\",\"eyelids\",\"boarded\",\"sensitivity\",\"pinot\",\"10:00\",\"erika\",\"pinoy\",\"lots\",\"lotr\",\"irs\",\"targets\",\"irl\",\"irn\",\"irc\",\"epically\",\"wage\",\"extend\",\"nature\",\"fruits\",\"chandler\",\"extent\",\"tr.im\",\"heating\",\"lookin\",\"tomarrow\",\"ariel\",\"mortified\",\"tmnt\",\"humming\",\"smackdown\",\"botherd\",\"union\",\"fri\",\"fro\",\"frm\",\".\",\"bothers\",\"hahahhaha\",\"much\",\"fry\",\"toning\",\"obese\",\"spit\",\"dave\",\"doubts\",\"stepdad\",\"spin\",\"2wks\",\"employ\",\"droppin\",\"elaborate\",\"canoeing\",\"ditching\",\"conditioner\",\"memorial\",\"kels\",\"honk\",\"split\",\"quickpwn\",\"boiled\",\"flipflops\",\"inadvertently\",\"graduations\",\"boiler\",\"supper\",\"furlough\",\"academic\",\"nomore\",\"corporate\",\"massaging\",\"hah\",\"hai\",\"shiit\",\"ham\",\"han\",\"haa\",\"had\",\"hae\",\"haf\",\"hay\",\"haz\",\"beloved\",\"hap\",\"har\",\"has\",\"hat\",\"hav\",\"haw\",\"t's\",\"moleskine\",\"survival\",\"online\",\"shadow\",\"12:30\",\"imiss\",\"stooopid\",\"alice\",\"festivities\",\"coldddd\",\"crowd\",\"czech\",\"crown\",\"begin\",\"crows\",\"bottom\",\"lockdown\",\"yummie\",\"treadmill\",\"completly\",\"binder\",\"starring\",\"aboard\",\"stoked\",\"maxwell\",\"marshall\",\"honeymoon\",\"mba\",\"beings\",\"mangos\",\"shoots\",\"mbp\",\"fabric\",\"suffice\",\"tame\",\"wordpress\",\"greatness\",\"tams\",\"headach\",\"headace\",\"significantly\",\"congratulations\",\"humbled\",\"else's\",\"layin\",\"break-up\",\"azz\",\"nicest\",\"pesos\",\"soldering\",\"duet\",\"passenger\",\"disgrace\",\"argghh\",\"dierks\",\"females\",\"pasadena\",\"role\",\"roll\",\"intend\",\"palms\",\"outage\",\"devon\",\"intent\",\"smelling\",\"explosions\",\"loren\",\"shootout\",\"mike's\",\"crazyyy\",\"gett\",\"osx\",\"cincinnati\",\"chain\",\"whoever\",\"cudnt\",\"osu\",\"ost\",\"apts\",\"chair\",\"ballet\",\"baller\",\"when's\",\"freelance\",\"balled\",\"macho\",\"downloading\",\"jerk\",\"os3\",\"3weeks\",\"choice\",\"embark\",\"gloomy\",\"ghostbusters\",\"stays\",\"exact\",\"minute\",\"cooks\",\"minnie\",\"meadow\",\"trails\",\"11:45\",\"buut\",\"buuu\",\"birthday's\",\"boosh\",\"headset\",\"celebrated\",\"geography\",\"boost\",\"unintentionally\",\"oldies\",\"honour\",\"address\",\"benson\",\"enroll\",\"dusty\",\"impacted\",\"cusack\",\"accomplished\",\"boooooooo\",\"randoms\",\"fakers\",\"grandpa's\",\"working\",\"pooped\",\"opposed\",\"ooooooh\",\"sierra\",\"consoles\",\"lalalala\",\"riders\",\"originally\",\"abortion\",\"following\",\"mirrors\",\"locks\",\"week-end\",\"listens\",\"litre\",\"thanking\",\"suuucks\",\"mintues\",\"blogtv\",\"surfing\",\"whyyyyy\",\"conscious\",\"thunders\",\"sandbox\",\"mango\",\"swollen\",\"wolves\",\"pulled\",\"manga\",\"aghhhh\",\"webpage\",\"years\",\"professors\",\"yeahhhhh\",\"episodes\",\"disconnect\",\"jia\",\"jin\",\"jim\",\"troubles\",\"faves\",\"jip\",\"suspension\",\"troubled\",\"tireddddd\",\"drilling\",\"sorted\",\"\\\\\",\"didn\",\"quarter\",\"honduras\",\"bursting\",\"receipt\",\"frames\",\"feeeel\",\"sponsor\",\"entering\",\"salads\",\"lesson\",\"troll\",\"seriously\",\"trauma\",\"internet\",\"rachel's\",\"calming\",\"hibernate\",\"hairdresser\",\"anoop\",\"snooker\",\"crazies\",\"crazier\",\"grandma\",\"brasil\",\"modest\",\"gordon\",\"draggin\",\"neglect\",\"emotion\",\"lunchbreak\",\"onn\",\"ono\",\"spoken\",\"ong\",\"one\",\"ons\",\"tamara\",\"ont\",\"looong\",\"l4d\",\"lingering\",\"ableton\",\"snatch\",\"oldie\",\"non-stop\",\"crossroads\",\"so-so\",\"rehab\",\"wandering\",\"proactive\",\"illness\",\"ahhhhhhhh\",\"turned\",\"locations\",\"turner\",\"invite\",\"zoe\",\"baggage\",\"warriors\",\"zoo\",\"mayer\",\"pimple\",\"printer\",\"chitown\",\"opposite\",\"buffer\",\"spewing\",\"buffet\",\"printed\",\"touchy\",\"phil\",\"touche\",\"jittery\",\"lydia\",\"ooohhh\",\"qot\",\"inconsistent\",\"aggressive\",\"imagined\",\"ouchy\",\"aimlessly\",\"ouchh\",\"suitcases\",\"awaiting\",\"pimp\",\"tiki\",\"tryn\",\"could've\",\"hotness\",\"vision\",\"impressions\",\"lastnite\",\"alex's\",\"dexter\",\"harvey\",\"sponsorship\",\"vaccines\",\"moons\",\"enjoys\",\"punta\",\"grandpas\",\"moblin\",\"footie\",\"busting\",\"millionaire\",\"flipped\",\"s\",\"4:20\",\"workplace\",\"grooming\",\"can't\",\"allowance\",\"nackered\",\"west\",\"collided\",\"wants\",\"photog\",\"d'oh\",\"readings\",\"photos\",\"tightened\",\"hashtag\",\"wilco\",\"former\",\"madddd\",\"straighten\",\"kittys\",\"iver\",\"squeezed\",\"situation\",\"penthouse\",\"zonked\",\"engaged\",\"limping\",\"technology\",\"verified\",\"yessir\",\"jailbreaking\",\"defs\",\"wires\",\"singapore\",\"sree\",\"edges\",\"wired\",\"deff\",\"advertisement\",\"defo\",\"tracking\",\"nothin\",\"finnished\",\"twitt\",\"sorryy\",\"steamed\",\"being\",\"recycled\",\"twitz\",\"generator\",\"excuses\",\"dicks\",\"sums\",\"sumo\",\"traffic\",\"preference\",\"world\",\"postal\",\"shutter\",\"seating\",\"couldn't\",\"grub\",\"tvs\",\"kidlet\",\"diving\",\"divine\",\"yesss\",\"ahhhhhhhhhh\",\"cavity\",\"911\",\"restoring\",\"arrow\",\"leadership\",\"thailand\",\"luxurious\",\"hopkins\",\"bjs\",\"lively\",\"bjp\",\"uhhhhhh\",\"rossi\",\"bubbly\",\"missn\",\"missd\",\"lounging\",\"mindless\",\"missy\",\"sealed\",\"brazilian\",\"bubble\",\"misss\",\"yays\",\"dormir\",\"yayy\",\"yaya\",\"with\",\"abused\",\"pull\",\"rush\",\"monopoly\",\"dirty\",\"asst\",\"trips\",\"butthole\",\"watches\",\"watcher\",\"follow-up\",\"watched\",\"cream\",\"yoga\",\"ideally\",\"yogi\",\"friggin\",\"puppy\",\"refunded\",\"waving\",\"midget\",\"brotherhood\",\"laterrr\",\"tricky\",\"natalie\",\"omnibus\",\"tricks\",\"rs\",\"dyed\",\"scl\",\"sci\",\"sch\",\"caused\",\"beware\",\"ceramic\",\"scc\",\"causes\",\"riots\",\"nora\",\"midwest\",\"norm\",\"pple\",\"wayfarers\",\"checkin\",\"baton\",\"ppls\",\"24th\",\"moines\",\"sans\",\"sumbody\",\"shenanigans\",\"sang\",\"sand\",\"sane\",\"sana\",\"small\",\"sank\",\"quicker\",\"199\",\"paso\",\"pokerface\",\"healed\",\"past\",\"displays\",\"pass\",\"investment\",\"anywho\",\"clock\",\"full\",\"hash\",\"diapers\",\"ganda\",\"november\",\"melancholic\",\"experience\",\"mouldy\",\"prior\",\"ohhhhh\",\"vet's\",\"friday's\",\"depart\",\"adidas\",\"traumatized\",\"follower\",\"\\u00a1\",\"silva\",\"attendance\",\"maddie\",\"morn\",\"more\",\"door\",\"tester\",\"company\",\"corrected\",\"chucks\",\"doof\",\"tested\",\"lameness\",\"dooo\",\"doom\",\"uncool\",\"negativity\",\"r1\",\"socials\",\"installing\",\"learn\",\"knocked\",\"seagull\",\"scramble\",\"mehh\",\"sike\",\"huge\",\"hugh\",\"dismissed\",\"scifi\",\"hugs\",\"hugz\",\"intended\",\"sympathize\",\"n\\u00e3o\",\"aaawwww\",\"funday\",\"resemble\",\"twisting\",\"overcooked\",\"replied\",\"jordans\",\"eveyone\",\"installed\",\"stylus\",\"paper\",\"scott\",\"signs\",\"installer\",\"smiling\",\"roots\",\"bummed\",\"steroids\",\"hounds\",\"symptoms\",\"bummer\",\"isaac\",\"sauce\",\"colleague\",\"gadget\",\"frizzy\",\"shitless\",\"weeds\",\"idols\",\"channels\",\"everytime\",\"denny\",\"courses\",\"shocking\",\"chipping\",\"reactions\",\"begged\",\"gfs\",\"pc's\",\"chrissy\",\"operation\",\"lipstick\",\"ernie\",\"scoops\",\"research\",\"offline\",\"occurs\",\"amazinggg\",\"sara's\",\"3hrs\",\"suntan\",\"definition\",\"pairs\",\"trekkie\",\"12.30\",\"boredddd\",\"arlington\",\"dfw\",\"leighton\",\"noms\",\"hamptons\",\"calculations\",\"olde\",\"essays\",\"paul's\",\"interviewed\",\"typhoon\",\"burrito\",\"daytona\",\"condolences\",\"getaway\",\"tummy\",\"emirates\",\"swanky\",\"graffiti\",\"blond\",\"sell\",\"eeeeeee\",\"self\",\"also\",\"pringles\",\"brendon\",\"singles\",\"5mins\",\"virus\",\"understands\",\"omaha\",\"incase\",\"sometimes\",\"barrel\",\"bulletin\",\"ugh\",\"blended\",\"ugg\",\"bookings\",\"naomi\",\"overwhelmed\",\"blender\",\"wraps\",\"gooey\",\"cassette\",\"columns\",\"sunny\",\"remedy\",\"compass\",\"damnit\",\"plasters\",\"distraction\",\"devoured\",\"showed\",\"pleasures\",\"seperated\",\"caramel\",\"depressin\",\"rumored\",\"insane\",\"311\",\"last.fm\",\"sips\",\"analog\",\"project\",\"15th\",\"narnia\",\"untouched\",\"lass\",\"last\",\"connection\",\"retarded\",\"lash\",\"beli\",\"bell\",\"acted\",\"belt\",\"suburbs\",\"initiation\",\"freeview\",\"niley\",\"infect\",\"moderation\",\"awake\",\"budget\",\"admire\",\"pressed\",\"cages\",\"vol\",\"vom\",\"von\",\"binding\",\"vou\",\"voy\",\"cuisine\",\"raiders\",\"bit.ly\",\"offence\",\"flooded\",\"nickname\",\"implement\",\"infamous\",\"kno\",\"knw\",\"knp\",\"dieting\",\"cheddar\",\"suffolk\",\"hercules\",\"problemo\",\"goblet\",\"madea\",\"rangers\",\"parents\",\"indonesian\",\"emergency\",\"couple\",\"coupla\",\"wives\",\"marquee\",\"spine\",\"interweb\",\"chorus\",\"individuals\",\"alexandra\",\"spins\",\"methods\",\"goddamn\",\"sorbet\",\"funnnnn\",\"bounce\",\"bouncy\",\"greener\",\"sampe\",\"schoolll\",\"behave\",\"mommy's\",\"nauseated\",\"deserved\",\"wrinkles\",\"melbourne\",\"deserves\",\"wrinkled\",\"1gb\",\"b'day\",\"intl\",\"into\",\"fooood\",\"mmva's\",\"chirping\",\"katie\",\"span\",\"tasting\",\"motrin\",\"sock\",\"spag\",\"spaz\",\"bios\",\"spat\",\"debbie\",\"considerably\",\"atlantis\",\"jacks\",\"hawaiian\",\"atlantic\",\"fades\",\"charmed\",\"erica\",\"maturity\",\"faded\",\"chad\",\"charcoal\",\"chai\",\"deadliest\",\"haunt\",\"char\",\"chap\",\"diverse\",\"chav\",\"chat\",\"chaz\",\"amandas\",\"iis\",\"revision\",\"aussies\",\"bianca\",\"pilates\",\"x17live\",\"lang\",\"lane\",\"land\",\"lana\",\"beverage\",\"noooooooo\",\"amish\",\"zzzzzzz\",\"splashing\",\"totes\",\"flashback\",\"windowsill\",\"turkish\",\"tomtom\",\"bilang\",\"resources\",\"show's\",\"uploaded\",\"traumatised\",\"freind\",\"decorating\",\"squirt\",\"harbor\",\"fewer\",\"leonardo\",\"mishap\",\"crook\",\"video\",\"haiku\",\"victor\",\"sweats\",\"multimedia\",\"sweaty\",\"xxxxxxxxx\",\"sooooooooo\",\"flowing\",\"harassing\",\"u'll\",\"fifteen\",\"bakersfield\",\"thatd\",\"survey\",\"thatz\",\"derby\",\"thatt\",\"makes\",\"maker\",\"thats\",\"panicked\",\"7.50\",\"dumbest\",\"confidence\",\"next\",\"eleven\",\"tahoe\",\"baba\",\"pencil\",\"babe\",\"pff\",\"babi\",\"dayyyy\",\"babs\",\"pft\",\"losin\",\"actualy\",\"customer\",\"mehhh\",\"hungryyyyy\",\"wedge\",\"process\",\"lock\",\"coolness\",\"rode\",\"loco\",\"choo\",\"hookie\",\"educational\",\"estudar\",\"merlot\",\"gump\",\"hormones\",\"comedy\",\"sucess\",\"underway\",\"paintball\",\"upstate\",\"realized\",\"clarkson\",\"littlebigplanet\",\"robot\",\"realizes\",\"noches\",\"houston\",\"thigh\",\"mute\",\"insight\",\"directv\",\"mutt\",\"volta\",\"wife's\",\"perfect\",\"ohwell\",\"meantime\",\"barrichello\",\"thieves\",\"stalled\",\"90210\",\"prosper\",\"mediocre\",\"snake\",\"realize\",\"spilling\",\"scenic\",\"sneezed\",\"denzel\",\"shortage\",\"sneezes\",\"glasses\",\"bump\",\"bums\",\"freeezing\",\"books\",\"shannon\",\"matrix\",\"'\",\"nowadays\",\"boutique\",\"frowns\",\"unprepared\",\"burke\",\"frowny\",\"durban\",\"greedy\",\"loverly\",\"cate\",\"chilli\",\"mainland\",\"chilln\",\"gallons\",\"could\",\"chilly\",\"length\",\"chills\",\"scene\",\"soothing\",\"damit\",\"enjoyin\",\"scent\",\"festival\",\"cats\",\"interests\",\"stomach\",\"ohhhhhhh\",\"fatboy\",\"wahhh\",\"gayy\",\"gays\",\"false\",\"hashtags\",\"tonight\",\"dishes\",\"asp.net\",\"uncalled\",\"worldwide\",\"manor\",\"bioshock\",\"joe's\",\"stiches\",\"bren\",\"placement\",\"bree\",\"bred\",\"thanksgiving\",\"labtop\",\"brew\",\"bret\",\"comic-con\",\"scotts\",\"rainbows\",\"scotty\",\"greenhouse\",\"taps\",\"jaz\",\"jax\",\"jay\",\"jaw\",\"jar\",\"jas\",\"jap\",\"terminal\",\"jam\",\"tape\",\"jai\",\"tapi\",\"jag\",\"jab\",\"jac\",\"abba\",\"fbook\",\"eurgh\",\"welllll\",\"abby\",\"dominican\",\"rapper\",\"taxes\",\"whoohoo\",\"stuff\",\"ohio\",\"guessing\",\"frame\",\"skateboarding\",\"dungeon\",\"destiny\",\"insulting\",\"nuclear\",\"posse\",\"melrose\",\"smelled\",\"keynote\",\"staring\",\"marty\",\"hammy\",\"dumbledore\",\"bristol\",\"writin\",\"gooooo\",\"pugs\",\"uhoh\",\"feather\",\">\",\"sunroof\",\"hateful\",\"sacrifice\",\"cvs\",\"podcasts\",\"uggghhh\",\"salem\",\"hahaha\",\"hahahh\",\"uggh\",\"stuffing\",\"uggg\",\"uggs\",\"ransom\",\"tattoo\",\"denial\",\"newsroom\",\"pauls\",\"paulo\",\"gibbs\",\"pickin\",\"paula\",\"wipeout\",\"thks\",\"400th\",\"identity\",\"diabetes\",\"audit\",\"ofc\",\"off\",\"shotgun\",\"phat\",\"dissing\",\"patterns\",\"audio\",\"windowless\",\"newest\",\"clocks\",\"web\",\"wee\",\"wed\",\"wen\",\"wel\",\"wes\",\"wer\",\"wew\",\"wet\",\"practise\",\"tics\",\"photo\",\"crud\",\"february\",\"cruz\",\"mathematics\",\"tick\",\"pier\",\"pies\",\"probally\",\"emma\",\"flickering\",\"become\",\"emmy\",\"sourdough\",\"pwnagetool\",\"immortal\",\"gymnastics\",\"choosing\",\"flush\",\"hissing\",\"cancled\",\"blonde\",\"recognition\",\"aleve\",\"kiddy\",\"passion\",\"kiddo\",\"uhhhh\",\"biology\",\"routers\",\"pressure\",\"imaginary\",\"aite\",\"lifestyle\",\"430am\",\"iwas\",\"documentary\",\"swimming\",\"letters\",\"coverage\",\"donde\",\"camden\",\"virtualbox\",\"muck\",\"brownies\",\"reactivate\",\"pairing\",\"peters\",\"ronson\",\"ramsay\",\"craig's\",\"stadium\",\"tossed\",\"places\",\"shrunk\",\"excitement\",\"placed\",\"garbo\",\"problem\",\"dots\",\"nurses\",\"pic's\",\"cousin's\",\"o'malley\",\"compared\",\"nonetheless\",\"deadly\",\"lately\",\"saviour\",\"annnnd\",\"compares\",\"details\",\"behold\",\"illusion\",\"ponytail\",\"repeat\",\"outlets\",\"plannin\",\"exposure\",\"searches\",\"yeaaa\",\"fuuck\",\"yeaah\",\"preggo\",\"compete\",\"searched\",\"gardens\",\"magnetic\",\"yikes\",\"nursery\",\"stinks\",\"porno\",\"goooooooood\",\"stinky\",\"neighbours\",\"messenger\",\"worth\",\"aurora\",\"mewithoutyou\",\"daydream\",\"cme\",\"cma\",\"samurai\",\"roddick\",\"monologue\",\"cmt\",\"cms\",\"jamaica\",\"sleeeeeep\",\"sabbath\",\"eurovision\",\"panda\",\"machines\",\"anddd\",\"rockies\",\"bipolar\",\"dan's\",\"equals\",\"protection\",\"hving\",\"stresses\",\"fourteen\",\"catch-up\",\"stressed\",\"lonesome\",\"postponed\",\"bry\",\"bru\",\"brr\",\"mitchel\",\"bro\",\"bri\",\"bre\",\"brb\",\"bra\",\"sarah\",\"plot\",\"sweater\",\"coins\",\"redwings\",\"comcast\",\"tryin\",\"separated\",\"nan's\",\"championships\",\"ihave\",\"blocking\",\"tnt\",\"1993\",\"1995\",\"1994\",\"divorced\",\"1996\",\"1999\",\"1998\",\"tnx\",\"cuddly\",\"ere\",\"tng\",\"erg\",\"tna\",\"era\",\"elbow\",\"erm\",\"gloria\",\"uggghhhh\",\"ph\\u1ea3i\",\"heartless\",\"totaled\",\"yaaaay\",\"nutz\",\"carriers\",\"provide\",\"nuts\",\"recovers\",\"shakin\",\"moron\",\"gmtv\",\"ladder\",\"hong\",\"customs\",\"dumbo\",\"arch\",\"vacation's\",\"tegan\",\"padre\",\"appreciate\",\"minded\",\"popsicle\",\"xbox.com\",\"nsfw\",\"12.5\",\"innovative\",\"production\",\"coffee\",\"safe\",\"collide\",\"roommate\",\"reaches\",\"reasonably\",\"routines\",\"l\",\"reasonable\",\"flyers\",\"feeds\",\"cuuute\",\"4yo\",\"dumping\",\"4yr\",\"trainers\",\"daniel\",\"braces\",\"barrier\",\"leftovers\",\"dashing\",\"borred\",\"mullet\",\"lollipop\",\"certified\",\"renee\",\"dammit\",\"mankind\",\"maniac\",\"raisin\",\"flawless\",\"renew\",\"clouding\",\"render\",\"hamstring\",\"pratice\",\"another\",\"electronic\",\"mojo\",\"timothy\",\"sony's\",\"haaha\",\"dogg\",\"elevator\",\"meester\",\"john\",\"dogs\",\"alonso\",\"cereal\",\"wasted\",\"guild\",\"guilt\",\"historical\",\"apparantly\",\"portraits\",\"enchanted\",\"contents\",\"convenient\",\"subjects\",\"thundering\",\"gravy\",\"bruce\",\"hammond\",\"germany\",\"scripts\",\"grave\",\"swamp\",\"niether\",\"bracket\",\"aunt\",\"reserve\",\"lewis\",\"lense\",\"letterman\",\"ashley's\",\"cappuccino\",\"haunted\",\"downtime\",\"beleive\",\"chanel\",\"runs\",\"ema\",\"emm\",\"emo\",\"ahhhhhhh\",\"emi\",\"lexington\",\"children's\",\"gears\",\"ems\",\"scrubbed\",\"secretary\",\"9.30\",\"optimus\",\"reread\",\"torrents\",\"horrendous\",\"discussions\",\"tongiht\",\"techniques\",\"draws\",\"pasted\",\"away\",\"pfff\",\"drawn\",\"encounters\",\"shields\",\"handful\",\"nahhh\",\"visited\",\"hal\",\"kitchen\",\"climate\",\"fags\",\"disappears\",\"tone\",\"tong\",\"toni\",\"gahhhh\",\"tony\",\"sainsbury's\",\"gratitude\",\"noes\",\"mssg\",\"sleepover\",\"noel\",\"attacked\",\"gracious\",\"gnr\",\"gna\",\"gng\",\"succes\",\"cons\",\"cont\",\"thursdays\",\"tissue\",\"cone\",\"conf\",\"unfortunally\",\"followfriday\",\"wheel\",\"fuss\",\"wheee\",\"hana\",\"dennys\",\"hang\",\"hand\",\"fuse\",\"animations\",\"hans\",\"vermont\",\"1600\",\"niiice\",\"client\",\"musical\",\"edmonton\",\"newton\",\"thanku\",\"thanks\",\"8.15\",\"8.10\",\"thankx\",\"jose\",\"shoud\",\"cornell\",\"josh\",\"wright\",\"shout\",\"joss\",\"openings\",\"usable\",\"insensitive\",\"lcd\",\"everton\",\"designers\",\"packin\",\"tiredd\",\"cooler\",\"night\",\"cooled\",\"iphone's\",\"boro\",\"born\",\"couture\",\"stardust\",\"bore\",\"bord\",\"bora\",\"confusing\",\"congratulate\",\"asking\",\"facepalm\",\"lahore\",\"sleepies\",\"adorable\",\"participation\",\"peek\",\"dolce\",\"peel\",\"sadie\",\"shogun\",\"peed\",\"peer\",\"peep\",\"herpes\",\"\\u266b\",\"guiness\",\"wasting\",\"profession\",\"rendering\",\"stumble\",\"interning\",\"infomercial\",\"lola's\",\"needles\",\"catalyst\",\"lovebug\",\"maximum\",\"plymouth\",\"faking\",\"prayed\",\"allday\",\"guesses\",\"nandos\",\"guessed\",\"expertise\",\"prayer\",\"inggit\",\"realllllly\",\"test\",\"tess\",\"jizz\",\"o'clock\",\"update\",\"let's\",\"walton\",\"detox\",\"beda\",\"hiii\",\"bedd\",\"}\",\"interval\",\"beds\",\"songz\",\"gutting\",\"paige\",\"songs\",\"concept\",\"horseback\",\"battle\",\"layers\",\"varnish\",\"kendra\",\"gigs\",\"gigi\",\"a's\",\"airing\",\"gue\",\"gud\",\"turns\",\"gui\",\"guh\",\"gun\",\"gum\",\"gus\",\"soooo\",\"sooon\",\"gut\",\"fuuuck\",\"guy\",\"tiiiired\",\"cost\",\"cosy\",\"barbie\",\"shares\",\"ithink\",\"oaks\",\"inspiring\",\"2:30\",\"obsessing\",\"hadn't\",\"teaches\",\"teacher\",\"sociable\",\"sending\",\"3:20\",\"oficially\",\"screamin\",\"bangs\",\"franklin\",\"domains\",\"ubisoft\",\"430\",\"regardless\",\"extra\",\"uphill\",\"softy\",\"fbi\",\"regex\",\"wonderfully\",\"yoko\",\"slough\",\"bigg\",\"abrams\",\"dermatologist\",\"ibm\",\"niggas\",\"iba\",\"purge\",\"totalled\",\"trans\",\"chip\",\"didn't\",\"chit\",\"noite\",\"walkies\",\"chin\",\"chic\",\"occur\",\"hhh\",\"discussion\",\"giveaways\",\"lounge\",\"lobe\",\"birdsong\",\"economy\",\"product\",\"disgusted\",\"produce\",\"drastic\",\"waiit\",\"noses\",\"grandson\",\"corona\",\"nosey\",\"laff\",\"kurt\",\"chops\",\"approx\",\"serving\",\"freckles\",\"soc\",\"spreadsheet\",\"ended\",\"tablets\",\"still\",\"no1\",\"earplugs\",\"roomates\",\"facility\",\"lyin\",\"tiara\",\"dyson\",\"nom\",\"non\",\"noo\",\"noh\",\"nod\",\"noe\",\"introduce\",\"norah\",\"adrenaline\",\"taliban\",\"slacks\",\"wealthy\",\"not\",\"nou\",\"nov\",\"now\",\"nop\",\"nor\",\"nos\",\"respectable\",\"drop\",\"sou\",\"nighttt\",\"yeaa\",\"challenged\",\"aaaargh\",\"yeah\",\"challenges\",\"hospice\",\"replay\",\"yeap\",\"year\",\"naming\",\"yeay\",\"monitors\",\"funnest\",\"twitterland\",\"thirst\",\"wholeheartedly\",\"smfh\",\"advantages\",\"wheather\",\"idiocy\",\"transition\",\"tangled\",\"invitation\",\"blind\",\"romania\",\"bling\",\"flipping\",\"blink\",\"rink\",\"gasp\",\"ring\",\"raped\",\"tomorrow\",\"caught\",\"remotely\",\"hummm\",\"freebie\",\"huuuurts\",\"groggy\",\"pittsburgh\",\"brains\",\"appreciates\",\"sniffles\",\"baja\",\"pnc\",\"appreciated\",\"titans\",\"professionals\",\"recruit\",\"vocals\",\"apples\",\"crumpets\",\"wrigley\",\"bugs\",\"windsor\",\"equipment\",\"hookah\",\"importantly\",\"america\",\"reform\",\"steady\",\"mrs\",\"mri\",\".. ...\",\"mre\",\"7:30\",\"spyware\",\"discovered\",\"yukky\",\"headshot\",\"snack\",\"stair\",\"daay\",\"filipinos\",\"difficulties\",\"stain\",\"ino\",\"pumpkin\",\"duel\",\"stroll\",\"gf's\",\"danan\",\"burst\",\"actively\",\"hoes\",\"staffed\",\"colours\",\"rephrase\",\"landline\",\"auditioning\",\"knowww\",\"smashed\",\"hurts\",\"hurty\",\"hurtz\",\"izzie\",\"depeche\",\"hhaha\",\"madness\",\"hve\",\"sulks\",\"brats\",\"tropical\",\"1030\",\"crashers\",\"elvis\",\"aero\",\"empathy\",\"suspected\",\"winks\",\"scum\",\"inflatable\",\"timezone\",\"beaver\",\"irene\",\"develop\",\"reeses\",\"transcribing\",\"morningggg\",\"arctic\",\"foam\",\"sickie\",\"itouch\",\"neon\",\"foot\",\"maternity\",\"greetings\",\"ps2\",\"ps3\",\"ps1\",\"renewed\",\"euros\",\"verse\",\"choclate\",\"versa\",\"halftime\",\"ami\",\"psh\",\"psn\",\"duhh\",\"stunk\",\"ohai\",\"ama\",\"stung\",\"amd\",\"psd\",\"amy\",\"dita\",\"stunt\",\"psp\",\"pst\",\"psu\",\"fortune\",\"blackberry\",\"output\",\"twelve\",\"verbal\",\"apartments\",\"mtv's\",\"regina\",\"kaiser\",\"unlocked\",\"babysitter\",\"nuggets\",\"assembly\",\"sixth\",\"punched\",\"innocence\",\"assemble\",\"exciting\",\"mugging\",\"trailer\",\"carribean\",\"backup\",\"outlook\",\"vball\",\"rpattz\",\"miranda\",\"shrinking\",\"intervention\",\"stare\",\"herts\",\"qualifying\",\"start\",\"stars\",\"starr\",\"allergic\",\"co-worker\",\"delayed\",\"omelet\",\"pitched\",\"podcast\",\"becasue\",\"fraud\",\"illustrator\",\"embedded\",\"default\",\"freddy\",\"600\",\"todd\",\"macbeth\",\"goodnite\",\"infact\",\"adwords\",\"housework\",\"fools\",\"forcing\",\"poor\",\"poop\",\"phys\",\"60s\",\"wknds\",\"poof\",\"queensland\",\"pooh\",\"poptart\",\"pool\",\"smooch\",\"moonlight\",\"corey\",\"overseas\",\"monte\",\"myst\",\"rootbeer\",\"gown\",\"month\",\"ceased\",\"thoughtful\",\"unblock\",\"handball\",\"wernt\",\"religious\",\"monty\",\"corps\",\"wyoming\",\"danielle\",\"owwwww\",\"waverly\",\"beutiful\",\"hillarious\",\"horror\",\"coloured\",\"decide\",\"theaters\",\"startin\",\"anal\",\"anak\",\"ass\",\"teardrops\",\"textin\",\"orgasm\",\"hamper\",\"chuckle\",\"dissertation\",\"investing\",\"microbiology\",\"learned\",\"bitchin\",\"tracks\",\"excess\",\"eventful\",\"arena\",\"inspired\",\"losses\",\"base\",\"arent\",\"cathy\",\")-:\",\"inspires\",\"jjust\",\"m8s\",\"ask\",\"asi\",\"setanta\",\"demi's\",\"kittie\",\"revelation\",\"chaotic\",\"pus\",\"wentworth\",\"lowering\",\"dion\",\"dior\",\"dios\",\"mobileme\",\"7000\",\"producing\",\"2yo\",\"hermione\",\"2yr\",\"aftr\",\"publicist\",\"afta\",\"phrase\",\"530am\",\"caption\",\"mcds\",\"unlucky\",\". ...\",\"mcdo\",\"punked\",\"reject\",\"communicating\",\"justin\",\"purring\",\"horizontal\",\"compulsory\",\"anytime\",\")\",\"roommates\",\"chopsticks\",\"photoshop\",\"missss\",\"bcuz\",\"bcus\",\"clarinet\",\"wishful\",\"absence\",\"systems\",\"cutie\",\"haven't\",\"evening\",\"curtis\",\"ceo\",\"cel\",\"cet\",\"hahahahahaha\",\"starbucks\",\"commodore\",\"ninja\",\"bryan\",\"faire\",\"sucksss\",\"freebies\",\"bless\",\"ooops\",\"fairy\",\"obligated\",\"flashbacks\",\"restless\",\"jaws\",\"jolly\",\"safety\",\"7\",\".  ..\",\"mittens\",\"housee\",\"straightener\",\"symbian\",\"houses\",\"brightest\",\"straightened\",\"thxs\",\"turnout\",\"dishwasher\",\"drupal\",\"americas\",\"benji\",\"american\",\"apocalypse\",\"af447\",\"merry\",\"drooling\",\"takers\",\"crapp\",\"craps\",\"fantabulous\",\"visions\",\"tf2\",\"horse\",\"blossom\",\"station\",\"hundred\",\"rawr\",\"trapped\",\"mhmm\",\"nooooooooooooooo\",\"tivo\",\"boredom\",\"jquery\",\"grew\",\"grey\",\"greg\",\"chopping\",\"toward\",\"shirts\",\"charlotte\",\"phobia\",\"wasnt\",\"randomly\",\"blissful\",\"organs\",\"plurking\",\"cave\",\"cavs\",\"aired\",\"hired\",\"aires\",\"sammi\",\"wreckage\",\"part-time\",\"t-pain\",\"physics\",\"stalked\",\"knwo\",\"weho\",\"stalker\",\"heavens\",\"translation\",\"kaleb\",\"justice\",\"schooool\",\"tomrw\",\"rotterdam\",\"feeln\",\"feels\",\"pretending\",\"competing\",\"fluff\",\"redsn\",\"stored\",\"hype\",\"ondemand\",\"mantra\",\"lily's\",\"portrait\",\"locals\",\"habbo\",\"stu\",\"pictures\",\"thongs\",\"missing\",\"spray\",\"ranked\",\"effed\",\"zipper\",\"league\",\"memorized\",\"wouldn't\",\"dtv\",\"canadians\",\"vault\",\"oversleep\",\"100mb\",\"swindon\",\"macau\",\"lahat\",\"enuff\",\"threaten\",\"empty\",\"lived\",\"modelling\",\"lives\",\"liver\",\"intriguing\",\"pace\",\"accidently\",\"smart\",\"lovies\",\"hooters\",\"pack\",\"devistated\",\"smacked\",\"costly\",\"kroger\",\"grans\",\"queue\",\"grant\",\"vulnerable\",\"grand\",\"composition\",\"classmates\",\"fatty\",\"ratings\",\"banter\",\"blair\",\"000\",\"007\",\"500gb\",\"sorrry\",\"mobo\",\"obviously\",\"synopsis\",\"moby\",\"owwy\",\"consistency\",\"owww\",\"loveeee\",\"flaming\",\"shivering\",\"reviewed\",\"procrastinating\",\"nikki\",\"shortcut\",\"labour\",\"ight\",\"showing\",\"ruff\",\"dearly\",\"success\",\"eet\",\"eew\",\"eep\",\"een\",\"eek\",\"eee\",\"sketch\",\"cones\",\"ermm\",\"babii\",\"coney\",\"lips\",\"economic\",\"gracie\",\"competitions\",\"akward\",\"gmas\",\"negatives\",\"2/2\",\"2/3\",\"smothered\",\"roblox\",\"wouldnt\",\"bgt\",\"silence\",\"tofu\",\"subaru\",\"papas\",\"flight's\",\"alison\",\"placing\",\"cheesesteak\",\"approved\",\"eons\",\"hgtv\",\"tragically\",\"injection\",\"similar\",\"ordered\",\"fckin\",\"uggghh\",\"accessibility\",\"goign\",\"soderling\",\"goddamit\",\"amounts\",\"btwn\",\"fears\",\"application\",\"department\",\"brissy\",\"manhattan\",\"creeped\",\"smiles\",\"taylor's\",\"studyin\",\"smiley\",\"smiled\",\"earphones\",\"singapore's\",\"svn\",\"e\",\"dvd\",\"orbit\",\"mocca\",\"bribe\",\"grandads\",\"ignorant\",\"underrated\",\"svu\",\"dvr\",\"tweeter\",\"g'morning\",\"tweeted\",\"compact\",\"lke\",\"friendly\",\"v8\",\"wave\",\"wavy\",\"appstore\",\"telling\",\"yourselves\",\"nausea\",\"positions\",\"michael\",\"watered\",\"ryan\",\"jump\",\"redone\",\"twitters\",\"twitterr\",\"vampire\",\"brunei\",\"becos\",\"upsetting\",\"becoz\",\"pancake\",\"kidnapped\",\"aaww\",\"vacay\",\"convert\",\"zumba\",\"gene\",\"salvation\",\"foresee\",\"clark\",\"clare\",\"tennant\",\"clara\",\"locke\",\"camera\",\"cashback\",\"econ\",\"charming\",\"resize\",\"stafford\",\"meen\",\"wearin\",\"meee\",\"recession\",\"acually\",\"meet\",\"meep\",\"waaaay\",\"linky\",\"pulling\",\"waaaah\",\"waaaaa\",\"belum\",\"stole\",\"meanwhile\",\"sentiments\",\"fare\",\"farm\",\"peeling\",\"thunderstorm\",\"fark\",\"ronald\",\"fart\",\"excedrin\",\"yeahs\",\"scool\",\"scoop\",\"prays\",\"buttered\",\"favourites\",\"ummmmm\",\"basement\",\"including\",\"costume\",\"referencing\",\"bikram\",\"dancin\",\"walnut\",\"sniffling\",\"tmobile\",\"university\",\"slide\",\"|\",\"ankles\",\"bluetooth\",\"separating\",\"flys\",\"butch\",\"mcmahon\",\"entertainment\",\"armor\",\"obsessive\",\"assassin's\",\"knuckles\",\"bleaching\",\"jill\",\"elastic\",\"timez\",\"blahhh\",\"maths\",\"timer\",\"times\",\"projectile\",\"timed\",\"timee\",\"margaritas\",\"powerful\",\"cramp\",\"warcraft\",\"bitch\",\"soso\",\"hehe\",\"you're\",\"tinkering\",\"wrapper\",\"helppp\",\"noooooo\",\"ankle\",\"craziest\",\"lists\",\"chemicals\",\"tlkin\",\"kodachrome\",\"submitted\",\"body's\",\"raning\",\"julian\",\"horrors\",\"redsox\",\"bastard\",\"homeboy\",\"relatives\",\"blades\",\"girlies\",\"snowed\",\"hiphop\",\"vengeance\",\"gallery\",\"patties\",\"cellphone\",\"urg\",\"url\",\"sg\",\"indy\",\"inda\",\"urs\",\"indo\",\"skunk\",\"indi\",\"tiller\",\"ayee\",\"nga\",\"sheriff\",\"ngl\",\"brighten\",\"hector\",\"achieve\",\"tobacco\",\"tuned\",\"somebody's\",\"tunes\",\"tuner\",\"widow\",\"officials\",\"chesney\",\"officialy\",\"luckiest\",\"nightmare\",\"chapstick\",\"tend\",\"tyra\",\"tendency\",\"tyre\",\"tent\",\"ken\",\"kel\",\"mags\",\"ked\",\"hummer\",\"djs\",\"interfere\",\"kicking\",\"key\",\"kev\",\"mythbusters\",\"hits\",\"sniff\",\"limits\",\"afaik\",\"tuesday\",\"paranormal\",\"gitu\",\"phoneless\",\"erased\",\"polka\",\"cent\",\"outlaws\",\"immense\",\"roomate\",\"shoulders\",\"circus\",\"controlled\",\"bulaga\",\"controller\",\"smoking\",\"garmin\",\"examiner\",\"surface\",\"simone\",\"hearted\",\"podcasting\",\"autism\",\"parts\",\"speaker\",\"northwest\",\"party\",\"colouring\",\"obama's\",\"steals\",\"destruction\",\"ashley\",\"riff\",\"ashlee\",\"damnnnn\",\"daii\",\"increasingly\",\"42\",\"sofia\",\"distant\",\"advertised\",\"amc\",\"twilight\",\"shhh\",\"riverside\",\"balloons\",\"bottoms\",\"loss\",\"lincoln\",\"necessary\",\"lost\",\"fernando\",\"roti\",\"roth\",\"payments\",\"lose\",\"fuckkk\",\"rotf\",\"library\",\"homo\",\"home\",\"pinpoint\",\"overlay\",\"steaming\",\"broad\",\"grinding\",\"wendy\",\"fanny\",\"limitations\",\"macbook's\",\"puedo\",\"reaching\",\"muchly\",\"refuge\",\"photoshoot\",\"nightclub\",\"carolyn\",\"previously\",\"cocoa\",\"ultrasound\",\"retrieve\",\"pointless\",\"hmmmmm\",\"additional\",\"lagged\",\"hurted\",\"iming\",\"inbetweeners\",\"canada's\",\"kandi\",\"blaming\",\"astro\",\"strawberries\",\"gain\",\"gail\",\"sprinkling\",\"highest\",\"astra\",\"dhoni\",\"itis\",\"display\",\"marketplace\",\"universal\",\"kisses\",\"beats\",\"baaad\",\"kissed\",\"ipods\",\"functions\",\"tyme\",\"starbuck\",\"toliet\",\"stat\",\"star\",\"stay\",\"stag\",\"foil\",\"backstage\",\"stan\",\"8000\",\"samsung\",\"15-20\",\"compromised\",\"aiden\",\"shit's\",\"nottingham\",\"perverted\",\"consists\",\"swag\",\"aud\",\"aug\",\"auf\",\"swam\",\"swan\",\"swat\",\"aus\",\"aur\",\"sweltering\",\"swap\",\"recycle\",\"sorry\",\"sway\",\"fists\",\"cavaliers\",\"void\",\"voip\",\"crops\",\"unrelated\",\"nemore\",\"whirlwind\",\"iwanna\",\"likely\",\"me2\",\"kidnap\",\"enchiladas\",\"fcuk\",\"mee\",\"med\",\"meg\",\"presets\",\"mem\",\"mel\",\"men\",\"disposable\",\"weirdly\",\"meu\",\"met\",\"mew\",\"nicht\",\"mep\",\"mes\",\"mer\",\"flatley\",\"mex\",\"bumps\",\"fajitas\",\"chrysler\",\"complicated\",\"someone's\",\"rafting\",\"joshua\",\"fantastic\",\"slices\",\"sliced\",\"mimi\",\"guests\",\"jackets\",\"janine\",\"skytrain\",\"mileyworld\",\"survive\",\"argggg\",\"mutant\",\"berlin\",\"biatch\",\"home-based\",\"room\",\"moviee\",\"roof\",\"movies\",\"exceptions\",\"fking\",\"root\",\"stressing\",\"downsides\",\"10,000\",\"foods\",\"loathe\",\"treck\",\"pogo\",\"colds\",\"amazing\",\"coldd\",\"config\",\"wallpapers\",\"ovr\",\"believers\",\"loyalty\",\"macheist\",\"ova\",\"ove\",\"ovi\",\"shat\",\"third\",\"looove\",\"aaand\",\"goodbye\",\"operate\",\"skyping\",\"wus\",\"shay\",\"wuv\",\"wuu\",\"wut\",\"wuz\",\"wub\",\"fable\",\"fellas\",\"windshield\",\"before\",\"deathly\",\"10.4\",\"rescheduled\",\"e's\",\"crew\",\"creo\",\"chatty\",\"chickened\",\"gents\",\"aston\",\"combination\",\"runny\",\"caterpillar\",\"arrested\",\"rebooted\",\"chillaxin\",\"skint\",\"no-go\",\"cuma\",\"skins\",\"trading\",\"forgot\",\"speidi\",\"aids\",\"comedies\",\"postman\",\"waaaaah\",\"mandy\",\"waaaaaa\",\"txtin\",\"manda\",\"waaaaay\",\"debit\",\"mando\",\"venezuela\",\"foto\",\"resume\",\"fotc\",\"gahhh\",\"hoodie\",\"brrr\",\"cosmic\",\"shush\",\"lettuce\",\"warped\",\"downside\",\"bionic\",\"immensely\",\"hawks\",\"gville\",\"2an\",\"2am\",\"digs\",\"digi\",\"digg\",\"begins\",\"ouchies\",\"doona\",\"knights\",\"palace\",\"ginger\",\"telly\",\"tells\",\"shawn\",\"fitting\",\"sleeper\",\"clapton\",\"mario\",\". .\",\"marie\",\"maria\",\"zealand\",\"observation\",\"splints\",\"breather\",\"awesomness\",\"scotch\",\"annoyed\",\"kristen\",\"probz\",\"fooled\",\"probs\",\"northeast\",\"excercise\",\"celery\",\"gangsta\",\"kutner\",\"christopher\",\"saturn\",\"earl\",\"earn\",\"3hours\",\"reload\",\"ooohh\",\"effing\",\"ears\",\"testing\",\"yoshi\",\"artificial\",\"omg\",\"wears\",\"ome\",\"omd\",\"omj\",\"lotion\",\"vernon\",\"omw\",\"cousin\",\"motto\",\"suggested\",\"resistant\",\"damned\",\"fangirl\",\"bj's\",\"yaay\",\"yaar\",\"quinn\",\"drilled\",\"yaaa\",\"putt\",\"tint\",\"puts\",\"basis\",\"youuuuuu\",\"chels\",\"parsley\",\"tiny\",\"cyrus\",\"ting\",\"commission\",\"trigger\",\"tina\",\"basic\",\"basil\",\"aswel\",\"entered\",\"lovely\",\"tink\",\"basij\",\"deeper\",\"sooooo\",\"soooon\",\"lionel\",\"unpopular\",\"forum\",\"vendetta\",\"spontaneously\",\"ugly\",\"pessimistic\",\"cand\",\"cane\",\"cant\",\"cans\",\"disappear\",\"realizing\",\"meetup\",\"80s\",\"meets\",\"ello\",\"ella\",\"elle\",\"unicorn\",\"programs\",\"failing\",\"reese\",\"coliseum\",\"800\",\"yours\",\"yeh\",\"kinky\",\"yea\",\"yee\",\"kinks\",\"yey\",\"fighters\",\"year-old\",\"yep\",\"yes\",\"yer\",\"yet\",\"yew\",\"nudge\",\"stray\",\"royal\",\"jules\",\"contestant\",\"save\",\"trimming\",\"feets\",\"biiig\",\"thank-you\",\"nude\",\"zombies\",\"testers\",\"dean\",\"deal\",\"deaf\",\"maxim\",\"elderly\",\"jupiter\",\"dear\",\"u're\",\"carts\",\"microwave\",\"shakespeare\",\"meaty\",\"subscriptions\",\"predicting\",\"oreo\",\"magazine\",\"afternoon\",\"automatically\",\"tonsilitis\",\"thinner\",\"managers\",\"subs\",\"chacha\",\"ugggggh\",\"down\",\"fumes\",\"cardiff\",\"subo\",\"woo-hoo\",\"jealouss\",\"initial\",\"jealousy\",\"editor\",\"cryed\",\"starve\",\"pake\",\"sickest\",\"landing\",\"feminine\",\"prevents\",\"millvina\",\"whiskey\",\"terabithia\",\"wellies\",\"horrifying\",\"pimples\",\"petit\",\"thunk\",\"muffins\",\"awhile\",\"holla\",\"marking\",\"sorethroat\",\"fosters\",\"anyday\",\"holly\",\"2500\",\"roomies\",\"faction\",\"handicap\",\"utilities\",\"unwell\",\"midnite\",\"brightens\",\"hahahahahah\",\"weekend\",\"jacked\",\"happening\",\"jacket\",\"stripping\",\"yayayay\",\"profits\",\"cking\",\"hijacked\",\"cuzins\",\"21st\",\"anticipation\",\"swoon\",\"father\",\"lotus\",\"adviser\",\"degrassi\",\"nething\",\"advised\",\"hoorah\",\"swapping\",\"hugest\",\"madina\",\"proposals\",\"hooray\",\"round\",\"talked\",\"dealing\",\"twicon\",\"yoda\",\"majors\",\"arvo\",\"norris\",\"filler\",\"suspect\",\"booring\",\"international\",\"filled\",\"dwarf\",\"davina\",\"lakes\",\"frosting\",\"box\",\"boy\",\"hotties\",\"bop\",\"bos\",\"bot\",\"bow\",\"boi\",\"bok\",\"bol\",\"bom\",\"bon\",\"boo\",\"boa\",\"bob\",\"bod\",\"bof\",\"bog\",\"teenage\",\"dissappointed\",\"merely\",\"transplant\",\"sweating\",\"cappie\",\"sake\",\"visit\",\"ahhh\",\"tj's\",\"ahha\",\"faith\",\"freestyle\",\"adverts\",\"quoting\",\"drags\",\"making\",\"denny's\",\"nearest\",\"kiddos\",\"fuck\",\"sample\",\"trinoma\",\"persuasion\",\"sng\",\"140\",\"snl\",\"membership\",\"mocks\",\"jellyfish\",\"waist\",\"basket\",\"shoes\",\"spreadsheets\",\"o's\",\"lst\",\"lsu\",\"fatalities\",\"klutz\",\"jess\",\"group\",\"monitor\",\"interesting\",\"policy\",\"tucked\",\"tucker\",\"lunch\",\"neeeeeed\",\"teller\",\"workload\",\"feverish\",\"trainwreck\",\"careless\",\"vogue\",\"sopranos\",\"conventions\",\"fingertips\",\"worried\",\"carlisle\",\"stitch\",\"multiplayer\",\"priest\",\"pamela\",\"neverrr\",\"auch\",\"ajax\",\"15mins\",\"tortilla\",\"caffiene\",\"carnival\",\"waiter\",\"funky\",\"waited\",\"first\",\"rachel\",\"overheating\",\"cook's\",\"moisture\",\"speaking\",\"bobo\",\"ttly\",\"memo\",\"boba\",\"harbour\",\"bobs\",\"set-up\",\"scraping\",\"20s\",\"lick\",\"pastry\",\"... .\",\"20k\",\"nazi\",\"kevin\",\"squat\",\"burnin\",\"bailed\",\"shocked\",\"squad\",\"joey's\",\"bailey\",\"funniest\",\"neeeeed\",\"jungle\",\"bets\",\"200\",\"202\",\"trillian\",\"wooow\",\"arguing\",\"830\",\"rehearsal\",\"beta\",\"barrage\",\"sheets\",\"canny\",\"proxies\",\"woooo\",\"queens\",\"radioactive\",\"700th\",\"lenny\",\"angst\",\"bangin\",\"voodoo\",\"sigma\",\"playoffs\",\"reef\",\"kwod\",\"lonley\",\"bedside\",\"tiredness\",\"takin\",\"stormy\",\"treasure\",\"storms\",\"travesty\",\"treasury\",\"enthusiasm\",\"hooooo\",\"awareness\",\"info\",\"get\",\"stomp\",\"refreshed\",\"unimportant\",\"gee\",\"didin't\",\"yepp\",\"gem\",\"gel\",\"buuuut\",\"thanksss\",\"malaysian\",\"morning\",\"miler\",\"miles\",\"nostril\",\"miley\",\"declared\",\"seas\",\"seat\",\"sean\",\"seam\",\"seal\",\"wonder\",\"satisfying\",\"label\",\"boundaries\",\"enough\",\"across\",\"august\",\"timmy\",\"australia's\",\"coupons\",\"feeeling\",\"restroom\",\"sketchy\",\"steroid\",\"awards\",\"among\",\"firewall\",\"spank\",\"considering\",\"arrrr\",\"tuning\",\"capable\",\"405\",\"wobbly\",\"judging\",\"ggrrr\",\"laptops\",\"dramatic\",\"wake\",\"hardcore\",\"00000000000\",\"^\",\"sound\",\"1100\",\"promising\",\"cancelled\",\"investigating\",\"slapping\",\"antony\",\"cock\",\"strait\",\"sleeping\",\"strain\",\"sudden\",\"loosing\",\"protein\",\"lava\",\"compiling\",\"o'brien\",\"aerobics\",\"peps\",\"dooooo\",\"extended\",\"assist\",\"companion\",\"p90x\",\"nad\",\"consisted\",\"riddle\",\"outdoor\",\"sights\",\"idkk\",\"unofficial\",\"pissing\",\"tadi\",\"flavor\",\"clueless\",\"scissorhands\",\"sleeeeeeep\",\"nav\",\"kickboxing\",\"credentials\",\"nanda\",\"vending\",\"adams\",\"twittered\",\"homegirl\",\"omgg\",\"passionate\",\"twitterer\",\"naaa\",\"naan\",\"naah\",\"draw\",\"images\",\"snoring\",\"outs\",\"outt\",\"lotta\",\"drenched\",\"lotto\",\"outa\",\"kms\",\"knife\",\"cramps\",\"dissapointing\",\"each\",\"racoon\",\"pockets\",\"coupon\",\"skilled\",\"sadder\",\"distracted\",\"vh1\",\"deadlines\",\"mondays\",\"spicy\",\"fanatic\",\"nightshift\",\"yupp\",\"catchin\",\"hurricanes\",\"spice\",\"arranged\",\"ronaldo\",\"macstories.net\",\"vhs\",\"agora\",\"moley\",\"wuts\",\"powerless\",\"rapids\",\"censor\",\"imagination\",\"casualty\",\"again\",\"gurls\",\"itches\",\"grudge\",\"assets\",\"flyin\",\"u\",\"colleges\",\"founder\",\"sly\",\"nooooooooooooooooooo\",\"commute\",\"expressions\",\"shattered\",\"crimson\",\"enjoying\",\"hellooo\",\"runnin\",\"nite\",\"sitting\",\"puffy\",\"bestie\",\"ramen\",\"elated\",\"washing\",\"alma\",\"moree\",\"drugged\",\"arts\",\"20th\",\"muhahaha\",\"zero\",\"perspective\",\"layover\",\"500k\",\"nung\",\"creatures\",\"defence\",\"wrecked\",\"caffeine\",\"lol'd\",\"5000\",\"c'mon\",\"malaria\",\"mula\",\"newspaper\",\"threads\",\"meowing\",\"fwd\",\"lasagne\",\"lasagna\",\"uncharted\",\"misery\",\"mentions\",\"caravan\",\"africa\",\"munchkin\",\"twiggaz\",\"twiggas\",\"bruins\",\"twitterrific\",\"plastered\",\"tacky\",\"gaah\",\"neverending\",\"ramona\",\"mozilla\",\"landed\",\"boredd\",\"youuuuu\",\"karaoke\",\"suckz\",\"hour\",\"chardonnay\",\"recall\",\"sucks\",\"guards\",\"remain\",\"suckk\",\"dazed\",\"sucka\",\"stubborn\",\"painfull\",\"wal-mart\",\"minimum\",\"numbers\",\"robinson\",\"biography\",\"amandapalmer\",\"unappreciated\",\"needs\",\"g1\",\"needy\",\"comfort\",\"needa\",\"maps\",\"daym\",\"venting\",\"sacred\",\"stir\",\"wiebe\",\"questioning\",\"coming\",\"brady\",\"sumthn\",\"dragon\",\"hatton\",\"serenade\",\"perpetually\",\"through\",\"...   ...\",\"waaahhh\",\"hunggry\",\"messed\",\"pcs\",\"pci\",\"messes\",\"pesto\",\"baad\",\"pcd\",\"socially\",\"encouraging\",\"viewers\",\"mystery\",\"sakit\",\"micro\",\"repeating\",\"rhys\",\"magics\",\"tiffany\",\"toooooo\",\"engaging\",\"katrina\",\"ahahha\",\"portland\",\"uninvited\",\"sickness\",\"they'll\",\"evaluation\",\"humble\",\"mms\",\"mmm\",\"mmo\",\"backed\",\"beginning\",\"faucet\",\"needing\",\"taht\",\"n00b\",\"sleeepy\",\"valentine\",\"fiction\",\"razor\",\"cirque\",\"hamsters\",\"hummingbird\",\"aaahhhh\",\"trolls\",\"etsy\",\"swingers\",\"tonighttt\",\"looooooong\",\"toe\",\"debugging\",\"midol\",\"urban\",\"1:05\",\"hangout\",\"1:00\",\"showers\",\"showerr\",\"ditched\",\"depending\",\"couch\",\"funnnn\",\"lifts\",\"godfather\",\"serena\",\"dayton\",\"programmers\",\"chars\",\"chart\",\"serviced\",\"charm\",\"services\",\"11:11\",\"11:15\",\"mammoth\",\"espresso\",\"businesses\",\"headlines\",\"tuesdays\",\"phooey\",\"choco\",\"cell\",\"\\u00a3\",\"idiots\",\"neighbour's\",\"buhu\",\"express\",\"toddlers\",\"finishin\",\"breast\",\"suzie\",\"buhh\",\"nicholas\",\"rampage\",\"dante\",\"doubled\",\"spiked\",\"witches\",\"doubles\",\"longgg\",\"restaurants\",\"geoff\",\"manly\",\"lisbon\",\"quiche\",\"expert\",\"toledo\",\"pisses\",\"mailbox\",\"arrrrgh\",\"pissed\",\"defunct\",\"rashes\",\"grounded\",\"restaurant\",\"foreign\",\"suede\",\"baltimore\",\"point\",\"gypsy\",\"tennessee\",\"expensive\",\"hillsong\",\"screened\",\"peppers\",\"doodles\",\"anythin\",\"assorted\",\"nuked\",\"resisted\",\"x-men\",\"hearin\",\"politician\",\"ha-ha\",\"elections\",\"kodak\",\"tiered\",\"2night\",\"ganging\",\"portugal\",\"century\",\"starving\",\"monday's\",\"xtra\",\"aspects\",\"busch\",\"hahahahha\",\"migraine\",\"development\",\"strips\",\"tupperware\",\"peachy\",\"tash\",\"task\",\"jbs\",\"sarah's\",\"iffy\",\"withdraw\",\"everythin\",\"vacuum\",\"shape\",\"irritable\",\"alternative\",\"timber\",\"cut\",\"cus\",\"cup\",\"marrying\",\"danger\",\"cuz\",\"source\",\"cue\",\"cud\",\"cub\",\"cum\",\"easter\",\"nekkid\",\"bleck\",\"blech\",\"knock\",\"retake\",\"addressed\",\"gretel\",\"hoovering\",\"foolish\",\"twittter\",\"collectors\",\"absolutely\",\"weekend's\",\"candle\",\"culprit\",\"montag\",\"decision\",\"5:15\",\"sugarland\",\"epic\",\"zshare\",\"delish\",\"tiff\",\"abusive\",\"bsk\",\"kyra\",\"normality\",\"1.50\",\"translate\",\"pimpin\",\"motivational\",\"toooo\",\"guacamole\",\"tapos\",\"planed\",\"planet\",\"planes\",\"constant\",\"stripped\",\"scarlet\",\"momma's\",\"cure\",\"curb\",\"curl\",\"cafe\",\"yearbook\",\"stripper\",\"reputation\",\"ellen\",\"wonderin\",\"cellar\",\"heatwave\",\"grrrrrrrrrrr\",\"cater\",\"utterly\",\"sudoku\",\"scouting\",\"cooker\",\"cooked\",\"presenting\",\"uterus\",\"caribou\",\"l8er\",\"groceries\",\"strep\",\"compose\",\"drive-in\",\"vietnamese\",\"literary\",\"compost\",\"pleasing\",\"nervousness\",\"presently\",\"dessert\",\"entire\",\"announcing\",\"busier\",\"havent\",\"carls\",\"carly\",\"rivers\",\"carla\",\"elise\",\"copenhagen\",\"carlo\",\"ne-yo\",\"edison\",\"access\",\"homeee\",\"bahahaha\",\"packing\",\"healing\",\"safer\",\"drobo\",\"talent\",\"skool\",\"climb\",\"honor\",\"bumming\",\"cha\",\"che\",\"chi\",\"chk\",\"hammered\",\"cho\",\"chu\",\"apple's\",\"kiosk\",\"nephew's\",\"4am\",\"minions\",\"fooling\",\"twiter\",\"closing\",\"didnt\",\"fetch\",\"invoices\",\"waahh\",\"noises\",\"holds\",\"hampshire\",\"profile\",\"y\",\"highs\",\"leukemia\",\"chasing\",\"dolled\",\"amazon\",\"sowwie\",\"furious\",\"mustache\",\"wedding\",\"poetry\",\"symbols\",\"unofficially\",\"horns\",\"grayson\",\"horny\",\"galaxy\",\"pouting\",\"tsk\",\"wtffff\",\"tsa\",\"blatant\",\"pop-up\",\"twitter's\",\"tss\",\"eur\",\"oober\",\"qu\\u00e1\",\"preschool\",\"phineas\",\"10pm\",\"cider\",\"ya'll\",\"ts3\",\"flair\",\"3,000\",\"dixie\",\"homeless\",\"poppins\",\"pantry\",\"semi-finals\",\"sexual\",\"popping\",\"n96\",\"n97\",\"n95\",\"8-|\",\"barley\",\"qua\",\"clarify\",\"que\",\"qui\",\"supose\",\"600th\",\"backwards\",\"yard\",\"8-)\",\"recipes\",\"skateboard\",\"yarn\",\"mortal\",\"8-5\",\"sunday's\",\"justine\",\"sack\",\"whooo\",\"whoop\",\"whoot\",\"lagging\",\"reached\",\"justins\",\"owning\",\"vagina\",\"biochem\",\"scans\",\"bulldog\",\"explanation\",\"nobody\",\"punch-out\",\"wishlist\",\"coughed\",\"babys\",\"scrapbooking\",\"babyy\",\"swedes\",\"sweden\",\"b-fast\",\"sf4\",\"fukn\",\"have\",\"throat\",\"havn\",\"incentive\",\"montgomery\",\"concerns\",\"alton\",\"time's\",\"sfo\",\"prisoner\",\"payment\",\"beets\",\"clive\",\"disease\",\"1,000\",\"turk\",\"occasion\",\"alternator\",\"recess\",\"hamlet\",\"tearful\",\"traitor\",\"thicker\",\"sparky\",\"knowledge\",\"sparks\",\"scorpion\",\"communist\",\"regularly\",\"lucozade\",\"delirious\",\"nopee\",\"hopefully\",\"perfection\",\"nopes\",\"rage\",\"fixes\",\"subways\",\"teams\",\"blogspot\",\"mercedes\",\"fixed\",\"timezones\",\"showdown\",\"intensity\",\"racket\",\"amanda's\",\"attempting\",\"hammock\",\"bruno\",\"homeeee\",\"sorrow\",\"antics\",\"potluck\",\"russ\",\"tweetup\",\"commenting\",\"joke\",\"equal\",\"pulp\",\"placebo\",\"masses\",\"denim\",\"it's\",\"lady's\",\"it'd\",\"3yrs\",\"tense\",\"assessments\",\"run's\",\"lebanese\",\"welcoming\",\"everrrrr\",\"bro's\",\"hubs\",\"frustrating\",\"steph's\",\"cuzin\",\"squid\",\"readin\",\"weighed\",\"arrangements\",\"closets\",\"partner\",\"productivity\",\"diets\",\"mildly\",\"awwee\",\"sauna\",\"sisters\",\"nevertheless\",\"builder\",\"disoriented\",\"exceedingly\",\"gooodnight\",\"raving\",\"mcintyre\",\"stores\",\"dn't\",\"wether\",\"flashlight\",\"gmn\",\"gma\",\"onward\",\"recommending\",\"ought\",\"gmt\",\"resolved\",\"owwie\",\"dubai\",\"like\",\"excluding\",\"admitted\",\"chica\",\"chick\",\"chico\",\"classical\",\"amber's\",\"haih\",\"hain\",\"hail\",\"hair\",\":-\\\\\",\"recommendation\",\"haiz\",\"happens\",\"hurricane\",\":-d\",\"hitler\",\":-|\",\"happend\",\"screwed\",\":-p\",\"snuggle\",\"mode\",\"conference\",\"ngayon\",\"recieving\",\":-/\",\"toms\",\"tendonitis\",\"tomm\",\"tomo\",\"cravin\",\"tomb\",\"introduced\",\"tome\",\"afterall\",\"terry\",\"socks\",\"damnnn\",\"female\",\"wack\",\"waco\",\"rushed\",\"coke\",\"sequel\",\"insured\",\"oauth\",\"farrah\",\"flip\",\"mizz\",\"replying\",\"whisper\",\"exceeded\",\"periods\",\"dawson\",\"fanclub\",\"dressed\",\"detail\",\"macstories\",\"dresses\",\"dresser\",\"nooooooooooooooooo\",\"awwwwwww\",\"cheque\",\"ramble\",\"kardashian\",\"dog's\",\"westfield\",\"dynasty\",\"daughter's\",\"appetite\",\"ozzy\",\"allll\",\"30min\",\"ttyl\",\"whatsoever\",\"shambles\",\"50mm\",\"dwts\",\"anemic\",\"school\",\"bestfriend\",\"loneliness\",\"glued\",\"netbeans\",\"guidelines\",\"feathers\",\"direct\",\"nail\",\"blue\",\"hide\",\"kuz\",\"selected\",\"liberty\",\"blur\",\"supplier\",\"supplies\",\"woozy\",\"deprivation\",\"beck\",\"pratt\",\"mozzarella\",\"vikings\",\"luggage\",\"stevie\",\"leaves\",\"museums\",\"settled\",\"midway\",\"exeter\",\"prints\",\"inlaws\",\"conservatives\",\"patience\",\"santino\",\"offf\",\"grumbles\",\"would\",\"tail\",\"princess\",\"spike\",\"tomorrrow\",\"fainting\",\"replys\",\"vps\",\"replyy\",\"excellent\",\"vpn\",\"abundance\",\"tb\",\"salvage\",\"estate\",\"dolphin\",\"paparazzi\",\"gadgets\",\"overheard\",\"tinchy\",\"attract\",\"ceremony\",\"finalist\",\"drummer\",\"toxic\",\"lastfm\",\"description\",\"horoscope\",\"insecure\",\"lump\",\"befor\",\"tidying\",\"salsa\",\"parallel\",\"ginormous\",\"splendid\",\"upside\",\"plumbing\",\"itinerary\",\"orang\",\"babyshower\",\"crumbs\",\"pplz\",\"hip-hop\",\"ima\",\"beside\",\"img\",\"2:00\",\"howdy\",\"imm\",\"imo\",\"imp\",\"ims\",\"404\",\"401\",\"400\",\"imy\",\"3:15\",\"iowa\",\"diseases\",\"prevented\",\"celiac\",\"17th\",\"rental\",\"alex\",\"cable\",\"detroit\",\"40s\",\"oahu\",\"alec\",\"wentz\",\"joined\",\"juggling\",\"saturday\",\"revisions\",\"psychic\",\"vegemite\",\"laid\",\"banning\",\"lain\",\"newly\",\"independence\",\"associate\",\"dayz\",\"sods\",\"dayy\",\"turntables\",\"days\",\"outfits\",\"filter\",\"heck\",\"smokers\",\"soda\",\"daya\",\"pleaase\",\"nhl\",\"nhi\",\"primary\",\"lovable\",\"fantasy\",\"adopted\",\"nhs\",\"primark\",\"sarcasm\",\"heights\",\"confirming\",\"gowns\",\"corpus\",\"carrey\",\"illiterate\",\"leaking\",\"postcards\",\"frankly\",\"final\",\"company's\",\"beard\",\"bridge\",\"michael's\",\"screwy\",\"lunchtime\",\"adhd\",\"screws\",\"ohhhh\",\"seminar\",\"thoroughly\",\"brandon\",\"maxi\",\"derek\",\"hatch\",\"yucky\",\"girl's\",\"shizz\",\"dmed\",\"butttt\",\"rancid\",\"entertaining\",\"agnes\",\"abouts\",\"bait\",\"overpriced\",\"colors\",\"musicals\",\"bail\",\"graded\",\"sumthin\",\"crossfit\",\"spite\",\"situations\",\"minnesota\",\"knuckle\",\"borrowed\",\"ultimatum\",\"despite\",\"knocks\",\"haiti\",\"beads\",\"goodbyes\",\"anxiously\",\"\\ufffd\",\"keypad\",\"motherboard\",\"robby\",\"disturbing\",\"sumtimes\",\"feline\",\"muy\",\"continually\",\"grandmother\",\"mud\",\"mug\",\"mua\",\"finger\",\"2morro\",\"mum\",\"name's\",\"muh\",\"discovery\",\"however\",\"ber\",\"news\",\"drowsy\",\"greenwich\",\"fault\",\"bet\",\"expense\",\"rounders\",\"aahh\",\"grrrrrr\",\"seein\",\"loft\",\"xxx\",\"vulcan\",\"5d\",\"xxo\",\"xxl\",\"combos\",\"n\",\"dashboard\",\"weezer\",\"gave\",\"ben's\",\"veronica\",\"dumplings\",\"broth\",\"accessories\",\"veryy\",\"\\u2019\",\"cooool\",\"nike\",\"chilis\",\"forehead\",\"drawback\",\"shawty\",\"peaks\",\"screw\",\"coachella\",\"greeted\",\"darned\",\"countin\",\"shortly\",\"possessed\",\"dada\",\"vacuumed\",\"ocean\",\"jeal\",\"jean\",\"dads\",\"departed\",\"proposed\",\"unemployment\",\"bruise\",\"grades\",\"grader\",\"followed\",\"wahey\",\"cherry\",\"patching\",\"pleaaase\",\"anya\",\"breaky\",\"breaks\",\"appearing\",\"burns\",\"burnt\",\"rumor\",\"twitterfon\",\"melting\",\"foots\",\"peeved\",\"footy\",\"orlando\",\"renamed\",\"avatar\",\"twitterfox\",\"56\",\"zoom\",\"sponge\",\"usher\",\"election\",\"10km\",\"finna\",\"rhino\",\"offices\",\"e71\",\"overrated\",\"holiday\",\"hse\",\"deleted\",\"brawl\",\"brawn\",\"hsm\",\"deletes\",\"attacks\",\"choke\",\"dinner\",\"ensure\",\"awk\",\"badgers\",\"ppc\",\"duke\",\"aha\",\"aber\",\"ahd\",\"ahh\",\"brother-in-law\",\"obscene\",\"bath\",\"ex's\",\"batt\",\"bats\",\"ppv\",\"ppt\",\"anorexic\",\"vaccination\",\"voda\",\"sunlight\",\"dreamin\",\"stuck\",\"amateur\",\"6\",\"plumber\",\"flavour\",\"[:\",\"camaro\",\"unboxing\",\"nerdy\",\"attn\",\"lsat\",\"nerds\",\"camara\",\"sometime\",\"darko\",\"timeee\",\"perez\",\"marys\",\"regime\",\"contests\",\"whee\",\"when\",\"wher\",\"setting\",\"whew\",\"papers\",\"picture\",\"football\",\"maureen\",\"flushed\",\"spy\",\"faster\",\"1800\",\"australians\",\"dood\",\"vietnam\",\"whoooo\",\"roh\",\"roi\",\"winnings\",\"rom\",\"ron\",\"roo\",\"celebs\",\"rod\",\"deliveries\",\"rog\",\"rox\",\"roy\",\"parker\",\"marion\",\"ros\",\"rot\",\"row\",\"clarification\",\"queezy\",\"passage\",\"besty\",\"knackered\",\"band's\",\"frapp\",\"sponsors\",\"3333\",\"tanks\",\"ahhhhhhhhhhh\",\"clouds\",\"impressive\",\"level\",\"posts\",\"cloudy\",\"standards\",\"pork\",\"tougher\",\"irritates\",\"roadshow\",\"colin\",\"trent\",\"yippee\",\"port\",\"irritated\",\"maaaaan\",\"goes\",\"beautifull\",\"scripted\",\"2mrrw\",\"kami\",\"entertain\",\"witch\",\"6-8\",\"6-9\",\"6-7\",\"6-2\",\"6-0\",\"oodles\",\"rethink\",\"exams\",\"janice\",\"dumb\",\"problematic\",\"durham\",\"prompt\",\"crisis\",\"bulbs\",\"andi\",\"nikes\",\"andd\",\"preg\",\"athens\",\"andy\",\"prez\",\"prev\",\"prep\",\"today\",\"athena\",\"chapter\",\"teased\",\"casey\",\"teaser\",\"cases\",\"edible\",\"pickle\",\"usability\",\"nursing\",\"figure\",\"doubting\",\"partay\",\"cornflakes\",\"sidney\",\"vital\",\"fourth\",\"vodafone\",\"eighth\",\"disheartening\",\"succeeded\",\"mgr\",\"rollin\",\"inform\",\"reaper\",\"representation\",\"joins\",\"127\",\"paracetamol\",\"dreading\",\"scrolling\",\"platform\",\"boooo\",\"farmer\",\"hanks\",\"weathers\",\"qualified\",\"sht\",\"ppl\",\"gushing\",\"debating\",\"ppp\",\"cuzz\",\"donated\",\"ahw\",\"torch\",\"whiplash\",\"catching\",\"farewell\",\"seoul\",\"america's\",\"concur\",\"eagle\",\"existed\",\"brett\",\"dispatched\",\"xfactor\",\"yup\",\"yur\",\"yuu\",\"turn\",\"yuk\",\"yum\",\"raleigh\",\"yun\",\"turf\",\"turd\",\"squashed\",\"virgin\",\"lanka\",\"prayers\",\"fought\",\"masala\",\":o:\",\"men's\",\"naught\",\"milton\",\"mabye\",\"yayyyy\",\"legacy\",\"cards\",\"havnt\",\"suspense\",\"tylenol\",\"batting\",\"superman\",\"farmer's\",\"wandered\",\"sciences\",\"animation\",\"surf\",\"sutil\",\"sure\",\"donation\",\"icon\",\"latex\",\"lates\",\"shooter\",\"latee\",\"spaced\",\"tron\",\"cheat\",\"cheap\",\"troy\",\"spaces\",\"moi\",\"tks\",\"trop\",\"gulf\",\"knicks\",\"lub\",\"gulp\",\"believing\",\"nadia\",\"glandular\",\"boreddddd\",\"flicks\",\"beastie\",\"flickr\",\"joker\",\"jokes\",\"predicted\",\"y'all\",\"xxxxxxxxxxx\",\"replies\",\"managing\",\"commitments\",\"wouldve\",\"saucy\",\"rumours\",\"guitar\",\"jericho\",\"quiet\",\"contract\",\"pelham\",\"railway\",\"filtering\",\"period\",\"insist\",\"nicola\",\"nicole\",\"turkey\",\"subscribed\",\"subscriber\",\"fury\",\"tonsils\",\"featuring\",\"direction\",\"fluey\",\"bypass\",\"andrew\",\"andrea\",\"spirit\",\"pilot\",\"case\",\"casa\",\"cash\",\"cast\",\"cass\",\"kaitlin\",\"ironic\",\"author\",\"granted\",\"nighter\",\"catfish\",\"manila\",\"yeahhh\",\"week\",\"tipsy\",\"mutha\",\"weed\",\"director\",\"delicate\",\"statue\",\"weep\",\"ckin\",\"eureka\",\"without\",\"relief\",\"deflated\",\"inability\",\"whereas\",\"bodies\",\"justify\",\"ninth\",\"cease\",\"polish\",\"killzone\",\"rewatch\",\"blaaah\",\"lets\",\"humping\",\"arrgghhh\",\"flashing\",\"kirby\",\"delhi\",\"nowww\",\"nappy\",\"deets\",\"acute\",\"towel\",\"patrick\",\"towed\",\"donations\",\"tower\",\"jewellery\",\"simulator\",\"competition\",\"whaaaaat\",\"snatched\",\"imeem\",\"victoria's\",\"suuuper\",\"aust\",\"mood\",\"bento\",\"googled\",\"moon\",\"buddha\",\"porter\",\"txting\",\"blipping\",\"slaughter\",\"pooch\",\"stereotypes\",\"beaches\",\"a'dam\",\"fillings\",\"gunshots\",\"discussed\",\"doze\",\"tribe\",\"curses\",\"instruments\",\"cursed\",\"rising\",\"burton\",\"hoooo\",\"whales\",\"there\",\"ehm\",\"thers\",\"ehh\",\"2hr\",\"mischief\",\"spose\",\"costco\",\"offical\",\"grasp\",\"flats\",\"grass\",\"creeping\",\"taste\",\"feliz\",\"felix\",\"minneapolis\",\"tasty\",\"firebug\",\"byeeee\",\"deserve\",\"swift's\",\"roses\",\"pappy\",\"paddy\",\"mummies\",\"pillows\",\"spoilers\",\"finale\",\"carnegie\",\"bullets\",\"finaly\",\"finals\",\"assassins\",\"wiff\",\"candlelight\",\"wife\",\"wifi\",\"websites\",\"directors\",\"missouri\",\"directory\",\"numbing\",\"meditation\",\"decisions\",\"glimpse\",\"apartment\",\"chattin\",\"twitterers\",\"wassup\",\"dairy\",\"crest\",\"rob\",\"egyptian\",\"sleeeep\",\"vacationing\",\"treating\",\"cuase\",\"dayyyyy\",\"list\",\"liars\",\"lisa\",\"flick\",\"haay\",\"haas\",\"whens\",\"breakers\",\"translating\",\"haah\",\"invention\",\"hairspray\",\"haaa\",\"jeremiah\",\"sue\",\"sub\",\"facebooking\",\"sun\",\"sum\",\"rascal\",\"greenville\",\"suv\",\"version\",\"sur\",\"sup\",\"suz\",\"sux\",\"toes\",\"ruffle\",\"theresa\",\"equations\",\"tragedy\",\"milkshake\",\"horrified\",\"john's\",\"camcorder\",\"fatass\",\"alberta\",\"pdfs\",\"florence\",\"munchies\",\"donuts\",\"hurray\",\"slater\",\"hurrah\",\"horses\",\"flat\",\"flaw\",\"miri\",\"uncle's\",\"hoffman\",\"mira\",\"antibiotics\",\"who'll\",\"awesomeee\",\"kickass\",\"pleaseee\",\"niceee\",\"rather\",\"occasionally\",\"okay\",\"never-ending\",\"lighting\",\"adventure\",\"bahaha\",\"ronery\",\"concentrating\",\"susah\",\"jovi\",\"short\",\"susan\",\"shore\",\"lhr\",\"fenway\",\"began\",\"nanti\",\"brotha\",\"isnt\",\"milwaukee\",\"avenue\",\"jacobs\",\"mattress\",\"clashes\",\"teens\",\"bout\",\"soccer\"],\"x\":{\"__ndarray__\":\"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\",\"dtype\":\"float64\",\"shape\":[5000]},\"y\":{\"__ndarray__\":\"rCaUaSROJMBwbt3Rz0YQQBXEkykSaBJAT5nu29nqBcCksOeCX3IgwCTlkP38ByTAMsbIi823JsBXBkpjq8knwBzz5UET8BjA4nftv/0uJEBzlahaMZclwC+TaaJPcQDAknTkM4PuAED+8Q/F6PEcQJ+br71o0B7AjmwtR10IL8DQZPQtFWUkwAtmUIgcq+O/9xB0t5BnJMCRdyVi5/UnwMBlEPLh5fa/8HFTNkRLG8BIz+EuYAACQHx6VvfmNhVAsQ/gZQUbAkBAGKYkmHkowDYBCYm0XCJAbFkZQpp8GsBD+jS2SwgswNLxlEwdnBpAxD5G2eQuIMASibmusT4fQFVa9TSItinA5f/z88iiEEDqJrmWr5IbQFcLcyQT4RzA/7nfB1gwJMB9xVjO4t4twFe7xp4auCnAyjrEFZ22KMAqwbn8kiAUQOO/TPpDuSrAovTOXUltJMAL23oB7RcrwKOKjIw2ginAknTEStmTI8CkZvOW0kYQwK26NXdV2yrANWe5v3hdFcCFGcHrBMogwNaYQ3TbJRXAikqozd9eD8AjH83eMPAGQFuqI7jLxgjAS1lKtoIkDcBP+NwPAm0uwCGj+FJzjyjAvktwtbtSEEDskk3637wOQJQIgP8REwzAUXOdURncKsD8zylxhaURwIPqNkchRh1AvjSb0Ns2xj9LZPw/ZYAEwBZV9aJcLhXAf452C/O2JcBHYL75xQEcwGvvaCYYUxPApC8wNpH2IMDgZLn6/+MgwGx/pgtNEx/AbgefVNG/JMBtj2q7mcgdwDUO37IxOwrAo+I6ESds8j8dWqCQcc0kwCE9HzT+XQjAGveyqC03JcARKndtkIX/P/jthiYCGSPAndcf7l5YC8AYRydUBkopwLam8cdKfxvA+ZIO05PkK8C3wSuJdiABQHVjuRFu2iLAz1AueMx5LcAK/PXmfUMswMiBgxWF6/+/RDVhu2A8K8A07JeiGB4dwBlAd9/DcwPAqFk3WzymJsBbNtP1zBP3P9lVCcuiXALAR/gL3cdP+j8sGUYdOp8pwIGqqAAIux5AfbeLwoRpFsClbu2vvmMhwAMMJbMFQijAzYGjooAfI0BX0KfzlZr+P27LWG6AwxrArSbAko5VD8DotqUSAicSwAYgJp8lRirAjYwUk0wcKMABmWYwxmkUwCcWBcINKyvAuIfiRnEL/T9JJa+AF0sZQO5bE50K6eC/DyPKv7GDBcC4Ssqzgh4YwI+Xuv0BeizAZlIx4QjcKMAfj/4Tc0YpwAC3e0U4vhTA4KD+vBEY/b/xpbT8CxQgwF0hnBuYAQLAMnGDdn8PJcBG5bs7EYMVwFaGLdjtqSvAHc9q5zAUFEDJql12VT8lwCVZAZ3OrLQ/rzMDWhIfGMBGOy2Tu0sKQNjJvcoUtQvAB7NzGBdVBkCfBSlsjeQiQPrfdQ8fHyfAmhRAGkovKMDrchEhNGQfwIowHQ32JyXAhztIonsXKMDIDCOqBPsOQIwJD3QMmhvAuChn6DWHLMBDo5a0hPohwKt1rlBJxPM/v1+ivBIFI8BQk9NTlIIowP+vkSlI6SDA4k12dA9pJ8A1YgIc41QiwKkKgFR9Xx3AiIrqULhWEEBpW8oos2UXQGYGoBKaKS7AGsxbx25t2b9lT+RnZncjwK4QGiAg5ApAGa2+WwsGC0A9ZG7AU+8owEs7xLVEcA/ARJ04Nr70oL9YgB5dUL0nwIiy/UpWyf2//aZi26ePFMDD3XYTVIsUQJVixCgod+2/rPNO2CneDUCnp7XBal8SwBBp7pD5WBdAkTrHSb3yKcAjlQOfhVkRQC7uKcGYXhdA7xrjY6xpy7+sNuq1MMcVQKa8rFc00xbAAJcrsA0v8j+ypJFZ4vEqwKYwhMVZZR7Ax8eqytvcG8Bp2x7jUGglwHcP28k9+CvA2gwLXT2Wq7/TqaN7XhfmP3iAYUHTgvk/kwF/KWPxHsAAD1WoW5MpwN9DZt9NCi3AsDi11el/I8CtL5vC2N0RwHHOm38nmCDAj3mYZmKmHsDie3eU3r8QQLgnSL8iwiPA751PtltQKcD/X+UYMWccwBCqbhnH6BpANuiBMN9+JcCN22TGNmgCQOlmqsAgeCHAFLaj0A2tJcBtxFmzBWUTwNaYoarsn+g/arLehQfBAMD4gS60bmEjwEDAi0SUHiHA5U6we7Q2KcB1PpiF6eP6v87e/AkP6/M/qIIWG3IxIkAS1Rx5HiUiwIvHv4Pghy3AOihIjgFwJsAgMpOv2v4qwDNZnxLHdiDA8dY1+KN9LcCxwqOCZiwTQL81w2GJpgBAqCj2sO1LAUC8YiWPhckZQL9ZA1PqRAJAaAxWokz2FcBbY6/ppu8uwL//HKrpwQ3ACCtPvICHDkCk+/1qGJQqwL+V1tjBxSrAHjD9tEr3FsBrHYsfL3Hpv+eypuWvhinAJwfCt2+xHcDi4W0DcsDwvzVMLkJv8iDAolcGsH02LcDwvnhd4GIbwKUlKiymPibAIOlUa9m2JsACgh6C+4UdwKi4xywWmLg/4VvcUs/SGEBrcojTOfghwK0uetagVBzA7gYmMUyTGcB0XfCpOYkKwChbIx474gPAM3HesF+oI8C7J0ni+TcvwIU0LA9kDiPAzfPlin+rJsAh9pnEeS38v7KdSIIFnyzAGJehn5iC9r8wkT4XTXwYwKGfR+ncofI/yHn3r1PmKMBDwvrOwp0iQNAhvdPHjRxA62dKia+tKMBBdF2/7LMUQPXBENT1cx3ALIq5o4kpHEC66Zvox+sDwOsHJA4SrivA8yWp0FrZGMBCnuNPcNzpv6cXko0GcQXAy9JX4zFC67+WgRI567EqwGXLlICoKPg/OUAg70y8DcDUi6wFGKHmP+1epvIc0wNAHHA4g34zKMA6NUC8wqLqP8POnALePiTA0WMv+Xy4EsCpyiGw3P4OQFfbbSWKxAxANpOWhpKWEMALt45KpQYdwL9J3/FR1CrAEYhCKccUG0AyzzDzuZQTQODlfXvtiCrAZk3HIbYcE0BZ1IDIdK8XwLAcB6danP4/t1nOla1u5L8txmq2ihcRQP90jVzFcQJAkJ1E57RUI8B4wwQf3ZcnwFSB3CRDGQDAfYWhz29O+r9BQR/t+KgnwK7HN5Jkzuc/d1MbyyG7FsBEA76D+c7/vy/jWIP0IhnAtsRS/iOxG0CjZnu6vZEBwIDc78/laAzAZliigqCsJ8CDVBFiDlAjwBvwuwc02+Y/2mlzJ/67CUCpXsV7W1caQLM5EBqkyCbARQjf5+N5LsDqGYTb4P4NQLDq4NsN+xfAG1xF573FJ8DEctMEfnwjwArH5h6OzC3AhQoWBmCuLcATLiJe0ksiQCCKlV7jQyLAxD4xC7KqDMCyWcFtQQ8awH2kBxCHqCHAtF2iUMG/FcDNeqz/yEzrP5CDFR094CXAkfSiSSbJJMAzDxUlAz8SQCxZAcsYuBHAH5KfUw8tI8BFK5IoXRUrwL5uE/1BWyPAfhFUrORZCMB4O3LZIOUiwJcYf3pvogtAXNXrhKyEFUATYtJqupsuwIelCzj+NSDA/qyI3VBD6D/cMhxBct4TQJg5+bmZxyXAf0AtbgarAcCDz2m+tIknwOYaTq2gLhLA923FphAqJsBJpzDahDQbwAloZ+0cbCjAexPBQM9RKMBIZ9NNIYMPQFUYRP4CtCBAhSUD3eiUCUDfcfcOZKAaQAlcoE0wSxXAIEVoiTIKKcBZOf0mbKYlwPY8/fgMpB3Aq3eRrJ8H8z+r6DfE9aQLwHnI1xPRRCjAvHpmYUUT8z8LQf2Qz48RQFwY7+gp5C7AHi1z6tvyK8B3LmG8i5YOQC9MR9ZEHwRApeDiyvhrE0AYo5fMHS4pwCXTCooeVBNAOuv7urwPJMCOadogBlDHP82+SFgMwh5AVFx/qq5127+VVSv/Yq0FQLEeQmOOE/s/i+YO/dnt/z8r44EbB40gwMrpYVyO7ijAeOVj9iVIIsDDHBlG9cMbwG3yFr/AGi/A9WljcJNkKsClprPAZZkpwIWuEF+1DyDAUY9I6fHuH8Am4fO/Z9kHQMmsboj2zNE/8rwgIpn00j+aXNjAP3AmwLWAeN3FzxzAsdwJt51OIcDIaussYOAMQJxYAieBBCLA0aSxCoiRIcDv30GeHlMFwIy9MVjhvCjA7KbTXFwgK8AvOngN8kEkwP+Ut+gUwgHAWA16raUFKsDc5Zxf0WYtwAzay4tEASjAYVfN5X39+D8gec8SaBSwP0Ixc8PuPhjAYfJLXtBFKMAvHRSHjO0dwN+tAEz6QBPAfpO6bSGdJ8DppCfokL0WwMypOLBy2hDAOSVKOakZBcCJeZBiIc2hP1fEkkRMnRfA3GUhB3tb/7/9R6Rt8BwgwJN3ev9OlhbAPgRO3B6EIMDXo1idjigMwDOzbJ66TyzAEXwn6kDpIMDI+NRI0z0VQDP374/YqQZADuGInJcqEMBYcOQpPTglwIwdR0umbS7AjomZErQtJ8Cm6zvGncQUQBxVKbZK0Oq/fM+8/78z5D8mzdY2uNgBwCTg4WKasPM/KHL22yYYLMAjKmK0EPsgwL7Ewxc5x/0/8SBoi9rjKsBYaV5tIJEpwHMt/1gFfQBABhZvEPRCIMCWaJy//WIiwHgP+0uCeijAllMK3Y/5G0Dos081OOwEwFySEUfacuO/RsZJR6GNKcAK3fsY2F0hwE0PAgQCdifANcg5fNaZLcDx899qj27Qvz26Mvn85w/AvcTm9bo6HUDXv7944V8cQECfWrhybgrAD8DxlGfZIsAHhDe5qcEfwJHUih68SiTAR+5EpUx8IMCGzpRM4RQswNZQiCgYFCnALioHO45FCEDEbxuD5sEIwJx6PVqYRsY/LqKlWdaXDsC3vDXZK+kBQBGeFgabmxzAkFW4paccCEC6LIbb7csuwIGOZ3AYiCjAhGTqdtKfIsA+5Cb0qdwawEIj4iL7KRzADXnWpHCwH8Aip9MmZwAmwIyyU9fN3yHAycr7AZx48r/WtE+RI6wgQFBZ8kYwdCbA0iUz3UKfHECW7tqO4YIswEb4o9/hmRXAwKWHfVfzBcD71e21CEUtwG3snv64qyHA8BtJszZtI8B/Ec0NIY7+v47AkqGx+yfAAEYuHGHuCUDBYr20AksnwGFrXe0JdinARfAP3UeWKMBhTy/aD5kcwH9q4BpErhTAQIPRpfmvI8CD94moAcwmwLK6Ub+q/SnAiJ2gC6cgF8CXYrWANWAIwDd+Mtd+difAj763l5o0L8Bfisd2CdISQE6PuhswtxjAlicfeESjKsAdnJvdJeQQwM+7BJQmmwjARCkGFJRFA8BgztjArrEjQC4pcDPBNhrAKPjB1mas9r/IaqlfKCQVQGtTvZxTph7AUk5rRNoyIsDc4EQpguUWQItOgzmu7SRAS9Ll1Uk6/r/AudCspBIBQLBG+D3d0ijA4h1ya8lI/z9pfQtyKzcmwPrfFpfScizAG12qxwyjzb9l5jY8U+YWwPqXvV/36izAqEk9jxFGGkBzh5hMKVAlwEt22CO1DyXAiFotSqzAGsD5VpVJ3eoiwOXUAP4r2w/AcTCooGTAK8DhRp5qkA78v07Pd+2/pvq/cynsN73I5r87v+A6g2YrwI/n6JVoawHAc46svXwdJUDimZ3wfYIAQEbL4Cmbqfw/IIvzfytLIcCms0NJ68ktwLCFl1lZMxDAz4WZ9AtOHcDUiBygsS4RwEkZ4lWigh5A2sciuQgjKcDenrmSQxgUwHBv5ubNCxhA935SiUYCDUB7gnEGiDEowITng7M4ySrAfpeEGxrcJMBPU+x+1toRwDneKrhe8iDALGnxOQKtJMA1NqsxvoYpwEyetHN0SB/AMevmU89XFsCOF4cD7tMZQE1EA3pW6BnApYJAjNsPHUBySFSnwLArwDsc8PINJQTAoAxOiFFCKMDBSHDstiAKwGI3R4xcACHAt6RqadpjI8DCmow4ysseQNpzBLO6HirAPDP9O30oCsDgNDhFyBoiwCtI9eSDHQnAvaWoYQZSEMBaC2MNQAUGQHG40ffBDyrA8v4R/n9VFUBa9tgN6ZITwG6JMU1eHBVAdkbp11p2LMBKa/3z/XwQwDGYIXL0jSbA3fdlpVTJHMCZBBYT30AkwPMrBXTY0QFArbBp2lzsI8CGVyrt6uQowLourZpTJAnAS/MSkv1t878NDxSGj0EHQIwXTsE5GSfA3Pg00K1pLMAir6H88cYgwITYgkNy2yrAico2KLSED8A/U7QnBJMfQAo2uPJ5IirA1mJ1HHzqIMAdnjOZ6cgOwKvNQAs2ChLAKT5gbpAM/D/pC9Vrw08hQEtCLQuIlCNAox9aw+tzJEBmj9ZWjvwZwOH3czYJwxtAlHcDPkW+LcATM83dvzknwOWo2fu+WRVA5VD9uQYBJcD/jUQU5I8twNhU6NaBPyXATIyKwR/O9T8EjR9BJe4CwGJzzAlhLBzAvzcnHBHjI8AIFmUJOXQeQIZIdI8jbijAsjwBtjWnBkCCEdgC7ewlwK5eUKKbhxPAhURxw5PlGMBNBbCp1UsKwOYlXzMIACPAREuPw6rBJcDQtbfPPDoowEoeg9hhWRVAcH4AqfJzFEDBYUcDc9AaQBcWdiL6DyjAZLsBirybI8CnCcRlQzcMwObMbCpoVCRAp17yIlZxAUCFn7wj2RAVQJN7EW2x+BZA3JOmEeFfKcAnq89filwowCmsA7fyaR3AkAA3/+1/J8CcYoYGCf0owAjQAcEw0inA4Sfd6r6eEsBfrzJQoTcjwIkJXssfNR3AsdgbatZMKMAZ7wnwdXMawG3n4b7z2yPAU88eVqSMGEAzTUYpnnQhwGcPo0XWchNAeo3BjRNkFEAhZxCAMr/gv/L3AyAhiinAX4yQo7xpF8A/XyuopyEhQIYatBakiBzAb1r8N1QOEcA0T82NNNsUwFiSRDK5CQvAYmYE4FTAAsCieaEOe3/cP4RLapSidxRApHfa5UENKMBk71cyNsbwPwF2KDLZ4i3AhRmslbK+FkBCwhfyHPktwNMtgc4uCSvAHW/L29fj7D/9RpAj7SsWQA7Xd5UuVvk/3pxLDsqAK8DLwSlR6gwnwDbLqt69nhjAxOlUby358r9eiXi7A9QqwFqLvQY4HRJAYGYSwEZxIsBLenkblcsnwFMNJ1edciXA7Z7IavLOFcBa6B4XotkZQAZE4jJYFCTAZ4+5s7bwI0BIkCI5It8MwKrUncut8RbA3ax6C5mXKcAd2lQq3zgQwCPiw0SvjNM/7eFOjmrd1788BBQxot31P2HR6B/YYiXAniKtXPwZJsAcJ4RoiKDxvys8SypnRyXAmrkr6/Ip6D+UGnNewxIgwC4cPQCG9BjAYWoI3nn1G8DFKixe+3EmwCB6hBqXbBXAr9J34DCMI8D+uzFTENoCwP4Kxliy5ABA+yKn4VmaJ8DVzzdyDfbmPy9ZKx02MRfA4eK0KANcIMBeezOuBqYjQERqS7rWi9g/O+hGzX0LFcA4BaW544McQI/BjIMe0ta/uPBP4p3HIsC85zdh9jMYwHgx27cvux/AMjqDzZYdIMDe29h3WTonwNPpI1QBhRvAt3/aRS281z/23+Yin4gmwHjfFYUQ8QnA9tv/y5C4IcC+NZJcPXcOwGTKL93jCA3AzJYbVFBAFUBrwfzkG20WQA2/H5acpCHAX9tMNYk3K8A7r6MAzAAeQNxmMHx+HyfAYKbYVRDHEUAIZlOTtlomwG7Spmc65xTAdjoV569RF0AkZn/4IaMjwM2LRtu1jRjAvSLs0d1oKMBx+Nlj7aIpwN0dULgPI++//wzJdcPPBEBL9J5/EB8OwMvgW20cpSbAHbqPEzjSCMD0aZHW73UfQF1E6Qp99RpAbWz65rcMFcCwWec76w73P5W7l9QavyXAsncqScJSA0Cnfkhh9YshwOCrhL7NiyLAVaS+GxfuG8AGRa7YDEYhQH5ILDCDrSbAQcp1TMfuCcBSPHXjn6CFv/3qHWsvqhXABHRL6xFT7T88qHWcx2UlwKNWJ5OE/BPAMGuOp5hXDkCTLWC4TTMHwFN37cN7SgTAzGHLE8EJKsD7ac4AYiMpwPnZFEKICSDApOa3Y9H7EcCGI8nz9d3Tv3vZK/sHXyFAFo9JCzHlKcDMAsjjxNgdwGXzEAgZ1B1ADB7S7sOW5L8uvkDcoj/zP4rUX8agFB/AEWAXL35lHEBRc4eATVotwJbSTPCFix7ABNAOwmjOJ8Cls58VpdoiwNAhBG9LYCfAyj0gP0Jg/L8xoYpKtp0rwL+vyLlLNivAzTQYCj+9DkBIbTY/a2crwPROI+XGFNY/vgdFaiVQHEDm0LepFBcAQD+XaJPasCTAth+gIDVUE0D1WvTIXuW7P/ml45COjQnAKMpc7JQJIMCvfrmCoDolwCy+8Q4s39i/p0BH/2g+FUAphBgBm2n/PzB17FBseRVAFbE3OIPBIMAahjZUu60SQGbZWuCE/inAoM/E3OXpE8DabxxxgvoUQBxuZqFM2xfAYMAx8Pv9AkA4/PprGIATwDtiuLEhCSrAEJwyzsWNEsAe8iTPK60TwNg9EwMVgyXAFk3pnX2DJsDMPwtjkJApwOvsC+lMYSTAaBlSTDKHB0D+WwLjyVoiwDps6UcvU+o/r9Vp8NS0H0CypGSwA1ImwJi3qW7xpiTAHtNCHn6L0z/aUJi7b3UhQAyj5038Yi3A1DsXAmnYJsDIsC3IbAoswMI395x7Hx/A+BvJADX9JcCsNBegKPwDwA4bYrGmFQFABJYLuGC+HMBCbHLz3A0cwMOCDOX6TBTA4POrYE1EIMCO16WUXOAewGxdlqbz2xxAs7PcxD9SKcDFLr8CgMojwPdf/xoB7iTAvqdkTIB7LMCoya7kBYoNwPxzkWL/JizANfxNuOHUBMBd6h5bfkMjwCgBnvhDlBRAaDgyKhLwIMAwOtrp4DLsv4SMtQtCv+A/A4Ctg8dL3b8R3KMPGLghwNSGvMXEeSXAd2rt5QkAI8An9qq4LqjhPxEoTy8qpAPAlkJkxCtsLMBm9WMnUiL+P4hkuQuhMBRAqYhDSODoHsCTSyzlDXYIwM+HZN+0XAdAOof8VU+2KMDTEQsqaN7zvzTZyyOMaA7AkOnMHYgSBsB9qWYoOwkXwPydk4CI2BDAq4eX1teG3j8pgRpLnSwkwA/4BE56tgFA97Sq8A4pJ8CDdQY6DmECwI/oprvyuCbAxx5IlqEzJcAuIrTEEhUkwAx3lofcEB9AZWoLor2AI8BmRgo0WrgowHvtT3Tt+SbAEXnoVx43JEBl0gSHJTHVP3/IsH4DgRbAi0pIQz30I8DRATzFk6ccQBQGggscISnA72BBiyVTGsC2HckeeLT/v95NdeprpRjAa+hEXwAsIsAn5rn1ebMpwAJJVvBvuxRAUsrF96NlLsD5s7yk1JwpwKRad2kvVwvA3NBRJnHNI0CoiD/I1q8OQFbNNvlKqSLAlFjdKbT3I8AZYj/ljmTWP+/f+ovoHwFANcTGXfacIMC3uSfz1pojwAAEXtzW/iTArQq6zPvIFkA32uzEWS4JQPbLzioJGBPAca3gLlHqJcB5NImah6cXwBi5HYUx4BRAVgJFmNgvFMCErmDw773zPwBjScE6gyLA/Dim8OvGJ8CuFme1zJAiwMOdLJbftyBAbc30eXBTGcD3yV7n2ZghwMBK6QSJpOm/nQxG5ibwAkDGq5upabQFwK5KH51QfwhABZPMzR5eH8B2bGPd870TwGFdYIyXaCnAiptSSFgNHEAlqtpTakkowLFuyVrhdBxAX0clk3k5K8BNJo0NZvQqwFO3zeNRCibARfKMMuHhHkAKfxWHux4VwNbGXIxNP7U/z1rb/ZGBAUCL77e9GlMYwFA9M4K66AdA+FA82IkWBkDp3OLI44wAQNXKiOEGPSDAGKX0j3LtE0DVyWrXpkbpvxLHq21gjyDAMpcvUJVKIsC9zOzuH3cVwGpZBcv0uyPAnubGXHn0IsC25HQCtAshQCyWBe2wEvO/swAq2ZYJIsD79ETFu1QIQLsSTEJ3wuk/atpmUZclHMDtE669zVYUwCadn13OyCfAmM5KwSQEEsAb9TDOXmsgwFFKrGKSphJA9p2ZUc8rJsClMYoebEwhwPQbd23f+CPAU27nn6DFD8DFxFnmkLvGvzyaaFb4ICfA1pqGSzcPLcCQqEM0yrj5P0qmsPf6WgPAqifIRcXMB0BtgAfuv5MPwI9WCxQ6NynAOpMQTdU+EsBMwoVe6EIhQAdKEIOIISXAgxwEqySx3r8vXjqrwCkmwEKBPrm8jR9ARtsYfzU/9L8LaJ/9Wy0mwPhhctSEPiTAbyeiDw0xGcAXxvFVh9YowGrin5GIP+i/VINAS0VWK8DAmUE8WCoPwC/YfN+oCQ3AY5PCJr8z6b9JwHlXAv8OwDtvQuT6DRRAMjeNRXYfGsCkmChW1RkKQPJ9MFEp0h7ADSn/FQ3AHMAajEUXvVkkwIPBuhUyxiHA9w7CwZxgF8DSZYVi3+skwDq0kpM2EyDAPiRObZsV87/Q3iPCcBfWP/sTgw8YCBFAY1iaDU3gJsCqkUkRSrcWwAr7rpHLJRjA5XyYULIuKsCTJ1ybjIQCwDCEmf0JtR5A9PuB5/P+J8Al5vyAMZkUQAb9hiBQMR3AvxoyMgOBEMAwJPiUttgYQCgJTi+X5AzAM8xcmJ9wJsDwSXXvp2MrwIYZZn6KNg1AwX+4i35VJ8C6JR1Rfn8owBJ/hQFfxR/Ajv9OplIJ1D/UhDm26XgXQP2/fudk8iDAmvGgt7Fvcj9yR2X49NDav5v0LkWE/RxAd4Gtcg8hEUAcAbIErrQQQBuYGeb4CB3AYRpfq2cWJsBm6fOLruYgQBeI8JOSZyfA/AZFS3xaKMBu065VgakiwFK4y9PZRBjAdbQeFpUjIsBnVSJKtXopwNRI8DFcyRBAZwCNbPboKcAuk22mC38owCDk+Gfv7PE//TWYBgy4JMD3ok41BMANQEmquYvoASjAdZ+crzbjJsDTgBORgzkEwHnwRr8W+CfAKb3CLZxiGEAhpjanim8dwAJsOJkGFSnA/WK3lqy5KcAKTeTD+GUkwHC20yB15ApATnQa3AAxE8BRAtSDzGAbQCSj3BFzaP6/7dXkqXJXJMA1O4sTQ0Tgv1qc8kqqyyvAYbUWeHrgBkCUZfEDzzj4P4zoO8P2ySvAQee2hHeKH8DAgefVojAawFxzSJbXHCnAmjlnnFVKL8B1CagedfAdQEza+bLtgi3A08Bss8w9FUDkXLz14xoXwIbnDARRRhNAKmhR1bjKC0AVRQRhMAcjQKJ32lMFySrAZTXRPvUpKMCWvmkmKGnrP6dUW5qasAHAv8bk7G/JGED/KqwWaIgRwNAvxUBXaR/ApestB6r6IsCba6QuvO8KQBDRYG37bA5AlKORAs7SH8DED75eaOIiwP38R4q91iLAPZ+NGhYOLMAIMba+BvQrwFuchtyJ3SzAOswL9rPkHsD8XlualtAKQJPazb8ExirA2YUeAes0LcBi7rkSS6MlwDp2c0xKtAZAzyOCbGWc+79/UriTU/UiwIr4HOsP8g3AAwEsa7tuD8D1vKr2D3cXwP0C+r+J4BrArk0CqHqwAUDhTJR4gqIWwEA4SVpejCfAOR3XhFO5HcA4yw+OLLsjwCXDSZcPvRpAC+G1nmbFJsCI4sIYLuYiwIL5XDd/ZR7Aqdaf8RkoGsDfyjdWXPnzP9adSIC/+SJAymoP0/l3KMByRKnvHcYBQLpj9F83iRPAx1+BtFazF8DMdwLrTpkfQAFChrbBBRHArmUlAP3xGcBSY05QrC0TQIramUNMBxLABXH/nCWgJ8DLQN/t/I4kwOrIIEGpxRbA81l3t5+25j96CPSZocEkwFwX4j5qlATAKsAOER1iJ8DVTTtdOcUjwOQEuCPDHCrAPXs1iRd8FkCd4z/l16UowH/RHfU2rRjA81Z3mq+H5792jUNGSoH6v8WfRrOb9/6/rDXpZ/wNIsDzR2GJ9EcJwE72ak6IpSTAZYHm08Oy6T+W1RqtUj71v1JhzQVoEOQ/HUA+fi6EuD/yEpR2w3sVwMMy3MxdUCnAX1BeFP5MA0CbnIe76bcYQHc3q6VknBpAobCCvvfkGkALA3tPtA0MwDZ+sXobEiDAhP2bZrsXJMCtDshaegIXwCjsBbT/2CjAdtFhfGHbFMBgfU5xX8MhwOQsbnq+uuO/uoCuqW08I8AADkCTwmorwPkahM12z+m/Wr9mA+rII8Axx9DCEt4iwM+fghCV0CDAr6LF5s7aEsD3t95Cg3zIPw2yJPKAZR3A03upxPF15r8Yj5u4Oc0XQKd06Raz+STAHokcSIPsIMC1g5Tnmu4PwKAayW+3wyTAHWPjez45F0CohWDJ6yoRQKFSpdURWhFAsbl0MgQ63b+GoCoSm90rwL3JA7TF+CfAnGIXcHq6AMCdiPKDT88YwGTOzQ/cHxzAWAK0vxgMD0Aajixp8rgeQD41Amv9uQNATllu5faWEEBcYMe0q8byPyK0JYhg2C3AjadwVWCJtD/pCfauc+wpwAxoeCLs1ifA0x/QHU8R5z9HGFK1IIAmwOaDwChYtyfApOEDGOARD8D9hGV8bFMawGl4Fw37yuK/KNbRZ1wbIsDQXrzvIYYrwNgVa7UQiwHA3ymV9iVKIcAXJPs4RegqwPFIJa4nUCzAONeYm/U4AsAaV3pKwPEfwK8Il6VLoSHAiacOmnTTJsAj3a5auuMgwOtiWb2gGSTAZ3f/fh6YuL/UAJtueVPyvx/dCZdK2Pu/3ywqA3wVGcDRA7LFP2YlwH+yabO4DAbADL1aLB1EFUBFCd2mjLkOQGXIzvLQIxjA5eSEvoLeG0Ctxp2NFt8lwGBojB3P8RrAWj0plkm1IcCIVGmoFRscwGVPqxisjyTAP2imhxTt+78FAXn5EG8uwHfdmY/0mhhAbOC4cGioHMBI5juQJAIiwJaRG56eAfc/ecQFiiq7JsDI3KK5vbsFQMH7wTRcdB9AXNXpVLGx/r8BBcY43Ynwv7D6j4eZRB3AidYEfAOYI8BLiJPO98YJwPUxuIBw4SnAiY51qvqf4j/uOWYv/yAgwO1yLtUu3h3A6AFVkAvsHMC/f93509EUQIgishGd/eQ/5M1tS9gMIcCiuObqlgkqwPfjGnB7ah/A+vc3Ra84BsDteKrHP/cswIocD4KuTNm/WyyhiFmSKMDQ7+HDXnEhwF3iW4y/1R/AL9KBStlkHUBbdtYnQhsowAaVfh6pECHAWv69qIGJBMCz/oQjpuTQPx29SSAgiSVASk/1kHFSJMANG4/uc7AhwKfA/1QA2xVAz1h268rPLMChc9Jse44EQK+lq1+jGPC/DLDzyJiIIcC1mbUK34YnwKvx/SPwkCbA6mfozfHZ5z/S7TW3GOryv0HAG+YD6iPAQmkImetFJsBaOLROH18gQHx6mZjdAh/AeGF2oeV4HMAvpcisKmYdQI58j2AXWCDAAqyLcQTXJ8A3ljTvp20twIXRdSTu2QFA5eQm8Lw4DsCvEPAFkkUUwElSZqDEOiHA67W2asdZqr/SSv13mpUpwESJEEE+FyrA1usJrxSqLsBVXzsoE0kBwGJaXw2tTgtADlq5ZW8XIsCQL3mSO9sEQBiBi9b8jgfA+6hVjDtuDUAeZiW+Xmb1v+6qmGsdtQBAotkl41dTAcC2wcR4yGQaQBR5cMdX9xFADQqULBS7EMDUsb7qgsYlwEZl0Rmk/cg/ODTowJM+EcAdqWqSPfYswKC+EKXuUAtAORHkpuk/BUDE4CGqoxQRwNAq622AXRjADPvsOIAjFMDMRJSUiLEJQFNXvBEphBNAzMJh/5SW6783qDttusopwDuf/rXVQOi/M4DhSS/ZIcAQ67yykYn6vxy2Z1+FOhnAQhbumhRwJ8ARDZtoGnomwG1ItHz2HCbAATcLXNyj5T8T0r2rugDgPwNoHK4wv/y/V0EaEDFcJsDCxlY1IuspwNBq/0WMegFAX1T47P8UFMBAmqZcu4skwI+fPUdbVy3AVRmPY/P9DUA6bYJI02YgQHL3KzXu4AfAj6XoxmPB0T+sxGltxIIkwGtJRJDCiva/ocKphd2y/L+s5aocP2MswLXg2ExigRjAa6Y0InM2HcDxiMPZBhkowANZV9bNHxVA5NrUmPk9GECuEBm2wNEBQNAki+RXzAtAhyEpJPeQK8AgY5WKhpMZwJyKKVYTFiTAzgqIsIOoJMAizQDGrdQUQPdPRV+jHyXALkDufzWJKcDXp9jjCbAjwFzk0x3k3ybAS1rbSXXkKcBe3UQSkAgswLEVYYN4zBlA2FjsoZzmCsD7PD2b7wMDQLlU2AnuQiTAN9PRv4SWB8DQCeHLINwLQNHvpmfb3SbAGk4Zv4lFB0D7vZkFJm8TwFDUQ1TvsRvALa3npCyyIcCtDJjVNbQBwEyj2QnG/S3A0kaN39KOD8COd1iFipsMwOIenVCa/fe/GdAZFbDwIcBMS7LMrbAjwEAsHN8ifyXAiXNC5jAxLcCa5xcAgUUEQFEXBhUqQCLA7fazMXPTCMBI8mfJA98iwG6ct+LMdxRA9njc0Pu9GsDUfVZyhuMtwNZNw4HOzw9A+nqJN93LEkCe1UIdu9cZwN1wVJAxPi3A83OkTo+IGMBmcTGvOKEkwBToriwsqBfAkM48OuVhEUB+hNwR8/YTQPpzEnCFsyLATZs1rZP+HECwj97IiJ/nP1TcNBosFADAQDm2v2MHJ8BcjJkoslEtwNtGhrJlGRVAO4rZP/s63D+8V66FyvMRQDBqw4i90hDALyIDCHtDI8BFl27IMsEnwOpmAOtGbSvAO+uBr4x/J8BMwPRSv4kjwPIsk3QUFSvAk86usYHXIMA0nRK9U00rwE5TMgRR0hlAL2uYJMtmDkDWktRAjREUQKkNaoYgWAfA73lYhdmXIcDWzFTvUIYdQNXJZrAD3R9AvfBgIfEG9D9wPltPFmMZwCaAH1sQVSTAV/KT3dYyFcAxu0TYMWMawMKjMwq6ZPe/ULPBHsWrJEBlpShv3KMswKCX+z83YizAidtD/fZRLcBEIJhWpEElwHoXX74JcBPAW3GwgYTuAcAEu7vrL4AfQJzwN2hu3izAWaBt/5DlGMCTCsENi9kqwDvM4W9tFhxAcbZ1H9Lz8r8NlrKyZQYYQIyaY8ctoh7Aiylvwrd6G0ASf6URCanNv4xX8m7Z1em/a9u3eHeaAED5H89gDqIFwIkqtyk6MyTA2VI4sJGlG8BCXp7ekysFQIJO4fwUbxHAgVbb3uwrE0DISCB30wAnwMaBZuteQyDAbLJAdNF8D8AZ6naJh4ABQDCbwaH+3xvA2eskuvZtKMCL6g0z45okwESlgMqr4ybAo3c6FWyA1T+MU09gWI0owMbo7aIvLBfAcHVuAAO/JcCeM2J56oMhQCWk76nOHCLAqz4AkewDGsDMOG0Phz4owCj98jorziPA3TuDpIr+HMARzEDKk3X0P9CuEIPSX/K/1/XpHzRnFkB+4zHVYncawMuHx9cRySzAMiLfdH55GMA+9si2m8oRwJXKR6/PTP2/RHi3LRdkIUBG/43M/dQqwHmtTZqJbiLADwDXAsjIBsCQesWGyoXRPybEteSSpCrATgqxQ7RlHMDV48nuBrPov7MONXJlwiPAHRycKlbaIMDC1aMwossEwDi4cs95jhHAm+Zs2+NLJcDQKXnBkm7hPzcPPQjDrSHA6X48Mq1dFcDhVJX/bQAiwHHLH7/8DfK/e38D131wKsA99xcYl1IiwBPCXYPTsyfAk9xK0wwzKcAc6jTazAYhwPaluTrCJinAYXhJcBhKF0D15SSRIJUWQNUQhizUBx9ASPCGI5XEFsDHw5nI8qvrv8tqr9T97xHAGYZQmfqFJ8At0X/Ff2AjwMHfkFFXcR1A/cT6vuuZIcBKn9xEP0IewLF4px3TIgJAZqKvFd5vLMA0G6xo2HkrwEQBxYRyNCXAvpsE+70bJsDhjYnInzEjwPZh8ubjrRtAUXdx+OTI8b8cQEiSHL4gwLcMQBMzqQDAMKPeOemLJ8C+JXvF89wvwKgaGNILqyPAK791/ULKH8Ah0qh39AYnwFw8CuCOASLADYY0LrtpHUBrRj9r3C0jwCbJ9aZfmCnALYmYt8lOBMAPtUqyDAwiQFzN8FUEXxPANSPUTsG6KMCrCmlEMafrP8IJfX9UbCLA/Wk4m8wUKcDp5Np/euAXQMa6D6uLWwJA1WDKxyhbA8Bm9pYgA0wiwGbcFHsO1SjAvEv+OHZoLcC/YSiDmlAowG9CnXx78aA/MjE8Cso0IsD19lsUOUvqvw4bjpyRJxFA9ui3zosaKcAYxpxPsrMVQIfKO6jvZBvAmvo+oBv+H0BgEQa4Jsb8vxTTh1fO+xzAvchdVaJYJcCqU2bX0gMjwJzsnhSlHyHA37pakcRnH8AWWMa6Qy8lwLAlLo0FORHAr/fC19Qs6T+ZfS6ZVnmvv5NhllCdQBxA6AtquE/xJsDsH5Kyt60fQFWVCFOALuE/XCSC4i6fA8Aqywt/CoAhwGRsYez74S3Ana+fQ0pPGcCXudekmgnyvxHtPJBMBQNAfl/9PBswGkC3620wbEwrwK4gREOXLhVAb8Fyqs1QLcBXn2DEC5olwI8HIBGnmAjAFUMtwnqPI0DIP9mS+1YKwMVBcrufZh3Am5ow0SSi4j9pLhnEk74mwDvjfuyaKy3Ao3fWxZhRFMBr/w7e7AIgQF2cbORqtCbANCEBCtC+G8A+d9EcXRMDwO3h5lzhZP4/HijJ6W16JcCsg656waD3P2P0MrepRBnAiC+HIyXjEcDGoGD5/kEmwAg6aSLE4STA4wtRsRF7EkB/nqivCkP8vyrRFbxGaCTAZlVCqEfGLMDHunQcYOQcwBzRUgf3gSzAxV5DPgn6KsDUaDOo1GLlv/y6noFZMAzABeSMJk756D9tbjz48HcrwGFej50gmSjAc0KZdjK4IMAOnORixzglwHEpT5Oa/wjARvfKzvm/LcDuNIX/ZBD1P3j6L1iwrwBA/M0rRckYJMAXPs+swd8SwOIkPo0FUgVATFJj7PT4KcBcsg0GgwQcwCaFHX84hwjAnEgZ9WtcHECQ3CBmfVAqwGLDZeTXXyzAzXskru7yI0BJgLuR4xArwGgz0wpQBBpAuJF6hteEKsAcjK6cZvjVv4bthta0lRfAs/A0VcEVLcBliVGaGmURwP6GulB8cCfAY01XUxmsJsAsQK7fp7PPv+vtsuI7oxpAXGJRMTPMH0CUyyw+dN76v+pPqmnfNue/Qg6wPJ8VEUD/kIO69TQowNf/inIqqRNAkHr8nJOtBkDmR0jol4j6P/z7Cz/oqS3AeKKFxgIqIMBnBjfGc4jQP/iUtHsMPQvAIjKxG0Bj1799JtcI+qMhwEPjNZ6AaSfAUThg9YEwKsD+MAsEj6wgwHg9kLVP0iTAZuEcxWGZHcDIqHQBiy8LQB3sV+dzPhRAZE82kvS6HsAbxTWe0aofwPcieIvdnh/Ainpc7pNnCEBDkzRBkwYpwPM8SX6xPCXAqDByN8B+K8AQL3Kzq8sbQO6TK9DnNi/AgyguQcsbJ8C8vIaxJP/ov4Xt2MYvygHAziBcUmFDE8AcVvBaYVwLwOkA0amiQyXAVWz/xemIJ8DaVPA5XZkTwAWaAww0DQlAjKvniVG9IEDRccyXsowkQNjXPMA8LRzAGS197/8q/L+Uy2+YSoUXwHzjXq1dOAFAQvZsM7yiJMBe8IfcBfUkwCAAxwMOhR3AEV4QJwxF+j/bQ/mbs/UiwPAMFyTpvyHA2xmT9SrKFEBNhN4jVQP+v1xWZndiFx3AUETzdiS3EcCwBG7SMo8swGwlkQbSF8Y/mMkht3BQ5b9WikqCox8hwB8lh4wJ2ibA9boQECU/EsBfzqYy48UmwLnQkA85FRrASOyQeyb7IMBveII+f0QRwExmahQlsABAlQ4+LpMDKMCxHoB3hgkLwK82EmEWnSLAosmtwt1tHkBhxG/2TA8lwAjdzHYN8RRA1fE5Hb9yKcCY6bvVp8nuv8kkgwCunSTAwsrxJ7zB8L+Zdq4Vn9ojwCKJ5BlynCfAzPKjMeSQJ8B5dfc1VGQowPiGssdaPBJAulwoqzX0JcBY+UVO5ysrwOtIlqGljxbAaN0f+CM7E8DktcpN+VwtwDhWheMzQS7ASuREQoMDLsAfN7ynYzIjwAzjUEW6LSPAMOuPFw2w6b9W4LgOVZEnwKbchkr8XA1AhL23Iuj0IsBGTiVKbNMUwCNyziffu9Q/jbHqKYfZJ8Ad33JQkMkawC6X2E6JuA/A6IkKs/cVDECQlTP8YoT9P29vTymugCLAoA7cofeiIMCgTGNGMespwLaQX3TxHhrABD9y6JnwGsDRw5BRM8QdQMYvO3UDmiHAnqN+XYMcJUCan3NvERsSwK1Hlow1nybA11w28xBbHUBIVclwv7wFQKoSaToOyQFAH1K00uvTJcBzfuwJPacNQAGnetrqMgzAMCMnsg4nJcDJ8oHQFLUZwH70WqEd2wBAt0qLPnRaG8CE/MDxDesIQI/eIY7eogtAoW3iUFqLHEDmYZyHx9UCwOK66LxyRgTAXrlqMcUOJ8Dyb2wyK0kewLa3Vh7xZPY/ucLtjfhO8L8DetiC8uIgwLjm2kj7kxNAK2XEO0nzFUDpU+eOZP0TwHf9CXbTZiHAw571DDiz9b/svRtRq1YtwMGSM0msvApAgXkMtCv9IsDe9VbNYhcWwOr+TQLcS8e/NzrSi5KlLMBDKiJ3cdkTwOltGwur2gzA42E+tDknD8CLbFzh2WggwAzc6/hQFhDA+EdlkcayFsBv6VSoHYPrvwUodylmECvApBdkSEoVC0AfIDBVP2odwKFvNcxv5inAx+QivMnsLsA+gbbaIbH9v0J6kNGe7RlAAyV7NagKJEDK1fS+5JQpwDtvuyJXEBPA645sGDcCAsDJ9AYuD48HQBBkUn3JTSjAISj0DQxkLcC1n/5RgGAVwDrkVXdSLifAAYd6rN7bFsDRW71Okb4twKeVwFMd4izA3bSdSG/yJ8C0PaJivKUqwCFR1NOtxyLAiVpzYn67IsCnBV+gJjMKwKGgNd7TCCvA8AqGez3TJsD2O+ykWCwkwEkG+zzTOSHAa2AghYVIFUCP/6YmjHQKwEdAi+FAkhvA4+JL5zyfHMBuhW2uQ7ktwMwuin6jDvW/tQw6uW775j/c5q1CJgohwJMA3OBR3SvAAeSSTsZaF0B4t7og3CEZwE2tLylztBJA/66Toz/mI8BszEdUWiUkwN4NgYPcuP8/dX6RqOS7CkDOkmtzqkkWwAP1ty8niBBAcKJ748ckJcDxrlaaZsAswExrncOOnCHAuzFEK4g6IsBEDUJjUozkP04hRC6OiC3A3iOmF5qOLMCvC7Wua0kgwNBOY73QtwDAwregh7+NDMCCj52q1pz7v2xR+9gImhbA3+W63JcFJsB3LpS+BTIjwLQG0TDVSBjAt/9lihaRBcD8/rByCpILwF9zDNfDUyFAsJ4CgBnyKsCcM9MwBYAmwExIluwx0R3AY39R4hqeJ8Ds3b6P+m0pwKa+f/tOWSXAavrruGMgFUCrd/gP+fsKQCghNYyjDyNAzHJcRUE4LcCFL+R6g2EgwHmQBBTlcwHAEM5IRESTEMCrXP8ZiBYnwNmDC0eSQiXAQoYorozdIcDbZBVb5eEjwMnjUjeGHSjAqrVhehkF9r/wdcub7qspwHZ17nbqrRxAQoM8jBrDAkAEQEgDgZgqwHVqt3t2FxVA5kco5Z6eFMCnzaTfOVEnwBJFam1n78Y/rmmD37htEsBCC8cVGx0dwD1bGOP/eBpAa0VlCauRFsCh0mMi4OAnwJUTIOmo7RRAPNgnRueHJkCp+6ipOykiwAB+lcj0Ofo/7mvCRr6fH8C29xurfu75P4LCxGcbqBLAt8CrhAQaGcD6pS5DFOkZwJj/jdgJ+ijAGs0vJdQ6I0B9fnWF8zAgwN3zoLFvYynASec7QJ+Vxb9YGfAwwY0lwHOm22XTeSTAGQi6xsqQJMANmr5hJFgWwLmEcLX4aS3AutrkYGb09T8ZzhSYHNHwPwfWryOp1STAdJ7PuRKLJMCa7P9u2QrSvxsEuZBExBtAMjXvC2HeIcBV23PWfuMhQPTA46TsjeE/yyQ9YrM40z/u15I9gMMAQMRItpL71v+/DACD6bwSFMBOs2o20tIrwKcn8k2h3SrAJo6K7zZzLsBO3TLgl40kwIS0/w6j1R9ATUkHZkL+DsDTf+ST4M4rwAi3gxu4Re2/Z+2SpDBLKsALR4+TdaIdwM8K1J/o5grAj/LX4jXBKcBleKGVg88mwGXYELw36yrA0SX4hWTMF8DtNPGnN5bjv+MVn+83xArAyBF9D+j0HsC0spiOaDMSQENZfEltTtU/hROifpk+9D+xPgOWN2IOwPDrhvqmfRXAgh9Hz3umH0Ckf6A8A3gmwONfbjFsbhXAEtqRSsdoG0AwaHzjnswVwOuLBZhXrgbA5UjfZR7lLMBaLlO28AAPwLvRdH/DYiXA0eQOo4a49T/fykHhdx0mwBJnbPn93CrAlryaEI+gFEAYQHBl3f8twJcP56s/ESjAxEeckoc/I8D5FuxFz+kEwAJtVxd70BXAS/sPGRwjG8AiAWW7DoLQv286Ski1fynA3Qz9RTXcG8BC+oQ7+QgfwLwCU2+dYSrAvoiNVBpZvT9lVrA5Ka8pwAP8+mbU7iXAuEyPaBr6KsDkcU8Bd/ckQBrXfl+C5CjAwzbAtdA7IsAxHlcC/qUqwIlifB8xRxlAsCaDBJyO87/WUKLQ6/jovzcgLwLhKea/jqMRXxR/LsDhr49nq9khwM8nETveTBbAzyJ+ww6XHMCu8fIEdJ0YQP3vEgSVpw7AXrCfGWzOIMCRnkI48GMjwNALaqdtYfm/89mKYEg2GsAGJD1aO6giwCNxOeXy6RNA7d9o/qaKKMC1Gz04rMIhwG3jzd/89yLAunUGFb+mGMCMuRgU2NQAwOPKzopK0ybA1DYWdFkVJMDA7XebfLAjwCJKHh0+iiLArQ0zcX0iDcDVYfhm6qbiP7/4/ybLySvAg2AApiRpLcBsg/a2M58hwLLX13GNqgDAml0ArM7RJsCFZUFWn+wCQAGf/tSuUfq/rVHLFrCe2L9MP9GadaciwJfen55/cB5Axa2A1tcBDEAd3C6ykYwDQNKXuIcWzSTA99hmfB+c/D9KYvj0c1kgwAbTzWjZ3QvAPkNTVOoUKsDvTiQFb0QtwAdzvECOqyXAEXA4a4dzHMCw+RPbX3MjwA22h53tGBBAmdXCxjtSH8AVzSOrMt0jwAzbpe3mFyvAxxpEaF973T+BWqT9dgbXv3gc1XcNdQzAEFQ3LY/gIcATLYSfMyLpv187zVgZOyLA4GDS055OGsBO0m5AORINQPnyzue3WxHADgOd7a8wIMCQEiE/+IECQCMQ0Jh/EQVAB96fnbswIsBSa/6Poe0ZwHYCE/EnxSTAFlia9t38GsDPrVOMWsIowP5RDo3rBCJA1flmVVPTKcAIaOljNi4QwCZxoMb6TSLABRDKR2rSIEDfmjufy+ANwOVC5rBQoNu/Ll9Lg3S3978Ft/kFqeYpwFNlyuqKICjAbWuV36wODMDbcl1TeuArwElInXfZQh1A+yhHzDscI8Asl4aMNFkKQJOnyX0YWRBAyWbs6XthGcDyAVCPOWEOwES4KC+gKyBAHfjblv3EKMB0v+GZvg8QQFC6qTNI09A/mALQB6igKsBNiswD11AcwN0meJElCwfArQ2JjAjqGUA1wkkCn0slwD+hrItTkgnAGxsE6fKQHMB+l0saWTAYQEzJc6/zLinAYDG8EfuNKMDF31i29jALQCRBMEpY5C7AShnm2E5DFsBHWKmzhjMgwOxBaP+HRCHATTBqSorcDUA3bq5kcvYbwGefkpZ+5QpAEMV0wsdwGUAkm4CK4ggjwJyxQOUDICRATksuSPc+JMB08xZKI/weQEihTtJDcBBA0ZKy7O5F0T+Kpe2+ZwEWwO5FbW3GEee/W/4jXsLf8b81/ZRFFGsnwEtohRXNSBfAg050xO1CLcDvyRGu0Rfkv25gil9v0CHApHA4EZbeIEDwA1yYD6AowAm28OPyaRZA+4v219H5K8ALPO9GyBUcwEpWX2Oj/ghASnLhV3T3B8B+kP+sW2ohwJ3JfyuSmCfAHCXmE8hgJsBAqoDLfkEYwO6JjoFuQ/o/Rs84Xw5+JcC09RcjI4QiwEojKDXypinAj0As2H1EKsA/WjkAQrUpwPvgrHUnBAnAXwvPggmmIcBPIaMuYfjqPz+MUA0BQijAY/C5SAwiHEDG6n5KVRT/v5seF4nU0gXAJirnQjf/HcDv2DO+8WsbwACjFvi8cB5AWjY4YhlE2r+qkK1RRM8IwFuNmWIjiAbAsJ0wtnURFsAI8mcjxXwhwI9vbzzumxvAGbFGeZYx5r+496WqZXkMQHgJsRoVqxnAcev/YFAfF8DmQ8WOMHcqwDXS4d8EOiTAMFvmd5d0DsCvn3U8XnYnwE2M1LRpGSHAmlP61/8X9D/rYL4K2jwmwKpB5GTFCAJAn8ZM3Cd95D+kES3IJngWwJ6l48lnnxlAnlwyMdapEMB4SxByDUADwHtl++WILgdALRqScO8L9D9nNAQG3wERwPoannlZySzAQuKaNLT6FsBaOiS6cAcswFiQEdB1ECvA6Bz9Xx9P/7+1Qx4QLycawLiTdp+w2whAqiiEGxm1DkDl4qiHSoYlwG5l8O8fGirAlxatxfM8LcDr7g4ocI8rwOa80xEmPirApV9BuPByIsAXKNvehY0owPf0g0xQ1ynADUqAgs8gGsAoV/UzJC0ewKapoCALyiPA2cLv8h7GIsB1ZI5eDcsqwJOsNPLWUyvAkHGNSyJmKMBspHkMvnwcwCjc7qG38CPAHIgPxvYxFsAWEV4CQoIHQDvyHj5XhizA6RaIW2xzI8C96kdCRSIgwOanXUb59hTAYdMYO+tQ8T+KqjihXVYowJONE4wLtS7AhWBCBx7o+j8I4igatlMdwNMLTIJIRui/n/YnMstAJsAoZgB/kkwlwGA7+cfVYCLAyzna1yz0GUBd3SZpnmAaQCg9JCjxIhnACz+s4nFlJsA5IkfxQgQMQJPjUhFrlRLAEs2B7xLdA8ASrRoZ5sEuwKJKFJUnwSfAovKWmJqdFcDEmD61ID4awInRkrMqnglAfvTg+d66A0CNQdhPek29PyvSEBBeY/0/av7NXlDEIcDMsPESx7ciwLgAQtgrMCvAJkPZYPxFHcBQ/qJPyRMaQH4pvOBdZRZAgW0vfxMEJcDwQrjapmgVQFqe1BXp9RlAAXtEhkuxFsDhvosafLQMwFyLHJIjhwDAiyYk8HFz478V/zh5KfL9vz5ZO1Mp+fG/aBz5IVDjLcBcJ39ngIQkwIUVrRuM2SPAd3mAWkAwIcDvkvnYztcMwEUwKXY7NxBAgiSqysC76D+yzpdn+9cawOsPNkpSLyrAzFz4CqL1HcBS6/GKgx0QwMKqZhNC6ybAILMA8EFLDEDIRSL7YkwqwN5iPUTT5yrAfq7BRo/9K8BuufL3qAgiwPYiBiXMihvAYwZtt2BIDEAySLg/WwodwKtarUrDGyvAtOI6PrGpG0CaQZmoot4nwFalfsOQzRbAuXvLC+zkK8ArjzuLcGkfwFhANXoTmBTATNPnq2FzKMCPNi1v5OInwCWTaO62SyvAWV2Sb4kcGsB3S91U42MGwJFhqCozqQZAoKBSJupbI8DjXbcIYucXQNJbAV6ynQ5AaiSGtwyuH0DuhTJH52PBP5JfUp0TkCfAEqyx4ewlJMCEE1y3YSkQQO9go4mTWgPAzaK/YA988z/GzIyzE1cZwKfycB3Xsc0/exf+G8lSHEBK70W2H4UkwINAeH2YgQfAVsSwRF/AAUAOpqLRVz8dQJAnM75CSyPAnrLp2Y7KFcDnH4Vr3X4iQHkpV9FTrS7ABWqBPd4KJsDrUDALZK4fwB6pGAJ+oRvAmSdGNpCTIEB3c+et4XgNwEglyFZseiLAUvw0PLwAI8D2lgi72FsmwCEB42Jn4ybA/PypoAZrHMD+O9v7LY0bwF4dfBbo6dE/T4MGlMzbGsC44OFj++guwOCFDgkfQR7ATgRMKnBrA0A2H+K+bEQdwDOtyGuonQBAuUi4G0aKKcDsD3iKHYgHQKEeetWeDhTA+4L0zq8fIsAMlA6Fn9ogwPKfr+WjyAfAwOxfPyUm8D94jEAqye0WwJBW63GY9BrAIRtflqY4I8BTGHQ4JJApwEKiUONtYiXAsyFomJsKE0Cdm8nQ/okqwDD9J1C78SjAeyq913qgK8Ay0To2HU8DwCOEh2cMRyDAT5nhPpc7KsA3LByOnhYawLPJW1j6GQZAdhnHG8RCJcDRV6RifiDbPz5hHq1wZP6/5eBOfJBIIMA9ePYNDjQbwGiVI0CKih3AbltTmMA4E0B0T7UA5QcnwOXSNCZ55xXArqKUuZRmJcDj/snc3A4YQFLXZ+xdvCfADWJMPFZzJ8Cab5WGO10nwE3AyUftzSHAXswjqva0I8DaRChaLfQYwB+McGxBPxnAxie6eZGcKcC70ic0haTqP/bta8FDmQ7AhmJY0uXGKMAQhHG/4E3pv1yOgDURDp8/URnSjcFbKcBNHNPdBGgUwOiSXAiP1QpA8AlwK7R6EsA0l62t30srwJn1bDEOSSDAYqEapXYs6j83w5JvniMvwBynyWCojAnAy29U5Yd/IMDk6RrFEcEfwN8eRfKIPSzAUifOCEqcFkCQdHM6f7QaQCnOtKsvyi/AXhSKUBKJFEA2lWnXmMMqwA97G3D6diBAAGkDXjNt9L8Z7Luok9YiwI/YZVuLGxjApbfkREIzFkA4YlbUTfwLwGTi2NUuAinArnPRugrYJcDTMkrSXBsRwFJq/XMO8yTAN2DdM/n/F0B/dnSe1H4mwJqGlzweOynAYe5/lmMJKsCRRXaqbBYmwOm/E4UzAua/4P4uQzH1E8BKaJOVw6cBwLiDNxKdFvm/pt6VJwW6K8CEjKcS8uHgv9N8diHLFRpA2uHLfg/DKcBJMEpqSQ7xP4OLIN6sgRbAOUFXxp2fFcBlt9pIZ7sXwAKxizAOeh1AsgEb6uXaE0AeD+myCboqwE+l7lLnlS3AdoPQW4oeIUBUmVymuJojwH5tg97fyRtAAPUD2mK3A8DZ2untXYMUwCkLFqJhOifA3BTwX7yKJMDh3rODMhUqwJXJrisZNhnAJulgIFCD878J5k/AjGjtP86hFQndhCHAn49Ov8M4I8CoMLd+AGgawD7+MSGR+yrAGUR10mPQJMB5B1Vy5EorwN6jr4bmuiTAGtEWaipJJ8AzYbH9QXspwMsmVLxFTxfAKuNhv6P5HECm5AXneyICQKereH+kTOi/0YOOlfVpI8ArK7EaME4nwAVyrZB7nCTAr09gZj6BG0CswVPZyssnwN6acJhK0CbAbt3GAIwJI0C3fi+D5ewkwDKFNboMgCTAVus5/vpaKcC8kwX+VCkDwPwhG+qChRHAeBuB22Sc9z+qH9Fg/DcswOLgwNLhFCTAA08Re4bJJsAmu/xJuFEqwPfOvo+Unh3Al1pLm+EcLMAO/StYH7r/v/5K+TxvBSHA9wtG6iq8GMA9urVejSELQDeE+dSV0wbA0R0KQLxQJsBV9Lv/uMAVQOXPnQoH2hbAiz+zlXe+IEAoJTPS4wInwIWU+0LmGvU/MVNWi81X/T9FQFsDClwEwNhAKYesosY/tq/KG6gZLMC5FdbHcuH4P9AXFk6jYR1AvJymT611BkD9ojzQb3cowOCaIh8lVx7AaLxrXuF6K8Bmf4KL/h4lwFewNjBDh9o/8gUjFgECF8Bbj3U/Z6AQQBvHzWexlhBAH7TVW4vXBEBKebeOjoEKwB4UzfquJPu/iqJmv68GKsA4Cf6RpaUlwF9jVqMfoRLAkkbO4KokJ8CW4otxnpQKQE+XKIX6XS3AIWHv3AawE8AdGugeNJCzvzkhOsZhpRfAjHt+xRPJ8r9cX67Q+x4TwMtdEx3s/Om/4Rd+yxUfJ8DMvQvicLPpv/N8LFWb+K4/zH0rniqHK8Do7ZY27jkjQKdXHDBWxSjAO0HcL7EQGEDebrStrf0nwL37hJlG9SXAKJo24YwHE8CUg5sc9AcXwH9jVhjja9e/S72MU1O/+78VQRBAmPAXwBDjL4BUB+c/9Mv94D6rCsAXPnh0F+gnwKs+2CoWuABAd3Vysjt7H0AKcmcr0xsqwEN5XWI1MxJAjyYpRYVQGcBfTFQLGTcjQKHCjsZ1FSnAXP0eT6nRJ8B1c8ERYXUEQKAgddhpvRHA35ing42fD8Ahm0MGhDweQARmW5yp/iXA3QGrSPBXLMDd8F23grsswNd3dYs+uhTAIupxIxCHJEAUI8xih0n/P7TArE4biy3AdG5RyLlu7b9/7VMf/5EZQGDRUM7Pcf4/H4mdhEtyFcCO8KrdEagXwMdnXhdj5xBAWvQ53OAYGcCDkEj2BEERwDFjuGmIj+w/s9V6ZAaY47/H3Hsj0pYqwPTm4yUBTCHAqrig0c3oEkAK9CcHhUjmv29GxfN/0v0/A4qKamKJJMDXqAnd9DcewFPt6UysohjAB3H2l+YyKsAX9n1ZT7orwJUs4+hvXR/AiJZJ9+NaIcDreeXylAghwCgPQTCjhifAYYhbDc2547/ILQeB7JgewL4clM8BeeQ/PFOTrhdkCEDbKlgWGjYHwO9E7eLA+SrAusOLPIhCKsBpUWvQNf0SwEcYurdQUhLAkiDe4RkuLcDTgmuhQ6IRwAJS2kq3mBNAPJ12rnsnHMDj4fICSU8dQDMzEddjJg3AK/WnqY6TEkA3uVQ17yoTQNHwtcVZciPA8P49fISXJcDn+NAR8F8eQOvGAgFHpiFAH0uXZ0xpJcCJQ4nVPhArwHgmkSsHuSXAt4Pfp/MfH8B7Szw8088rwAJbBU/xpB5ACMS3GB+2JcDDj8c14TUtwEVJ+/6mCPq/REg1QKLg0z926pr5rmQewMANLhw6bQJAf+UxwaASJcC3jLMN5dIVwDpF+zaRayDAFhZV7Dl7/r9KnIoIcpwUwLJokkcQifq/D91oO5DvEcCeMP0LYAgFQAWiU1GxyS3AXE2YZIvmFUAcgTiDjlshQMAmjWT2CCnAzFwT1yEPKcCTQKO61xstwPNvorNHtR1AdXmXQVTm2L8a8VgiaG3pP7e2d6G3lCRAWtt0PeS0AMBrGvkcSz8hwDAZ4i1KLCTA0LEhCQPzC0Bg3dSktmMgwBLNGojcpSvAGp4VEi/VIUBWqv827qEiwEJByL08kizAJ48Tc+l0AMAStIXDXNAcwBEsc+KCIuY/wgxnbbBLI8BtU8iir4YgQIZWoopklBrAhckHXDTYIMDW2wNxbaAlwG5g4nzwhg5ATCEIPa0yKsCG2jVXdMrSP6CnW7dq6PM/nz23zsqwDEC317o3njseQFlcn31q3hNARSJryewcKMD/o3wCOCUQQGR0b9aHGxHAcm9sntVqFsDpxpY7hRkrwL1pYgsiwvu/b2r0u0T+LcD6Ff5pHJgcQIf9nQhejSzAOfcpF2axLcBTSXNhIgwfwFzZgd3zbijAgsZG0MhDEsB4Sz7yhp0mwPP5MqOjLgzAovuj8K3D6D/wf/dGuOghQKlHj6BouybAthlusGRcJcCnhHVpaZAXQKCEXdzoLSDAsi65jcfS+L9nlxnZDwrsP5MxpB1Ld/w/wi49UKsGFcCKoEkg1NYfwAFCi31EvRxAsn1y+ObeJ8CN9J5SUoogwPjmMKeuuuo/E9w2C/wQIkAmMZ7QP4MgwOOQtiMZHBbA46MLSTgdH8DEFpu/HXscwLUnOvKEwiPAxU7hNQqcJ8B13tQUt2jOvzbkVvTdDgNAoufq2/4bGUCxI+zzW4wgwGoCnmocABZAWWptu0W7HUAxdnhKhuEDQMEGZK/z5SDARE1+kwTuAEBVQ7H6OmEfwPucjDrAug/AC7Liawl99r9C6oItqKYGQAADrl9ByQHAWEl/t2w4D8BOP/W8JiMrwDGYsxDVzxvANdGNRhrEHcBTYw2VSN/xv46Gt2jNXxVA2LnkhyyCKsB4PnMDlDsawOBy2s5dVANA/4HS5gADDkBbL0g22IsgwJWzZcpuCifA2NFkoyXPHcCh7VgOyZYbwEDw5pAVCxFAMRFu4mhXKMCQDgesjUQowClapi0J5AFAKj1CV9dmBEB/aaOWxxwhwGGkfPjiwBdAQu4zSAnvJsCGIPX+sUAjwNGq/+BZFN6/PixwYYvx6z87naxdT3npvypPoBiasijAcxKmHK+rIcD5OvNma64pwHY76HJkGy7AcdP1KLePE8Ce5SMHTUUKQBgXznTKLSrAIuFBeP++E8AyOnIf45QjwLTs1I3/Jx3Ak/15KAJ2HUBi7SoupPsdwD8vwSBALBzA6mxa1rJqAMC32cQmYIUZwLOYYchHtgZA8eIjAtO65j9amNtygzQUwO2eyD2IXvQ/3DiS2IUIIsDOhGIPt8wjwP9FzjzV0hfAx2DTE4s9F8DwRK2HqeIEwGE+5a9eKyDAJwtFAVrAIcAMUlP2qsAVQNH4/WKK8wrAW5TOZZQYGUDUrZCHIkfQv1c5s3kW1iLAdwZBp0ITKcArVAzA4s0GwJEj4h6Eifk/TBufWq+MEkAdPbdR2pkjwL+uyi076yvAW8A81+IpKMAmG2AgY4YVwLVE64di6wVAvJ4943nAF8AnVMT83lEpwBsZGbvWsOw/xBOQJAYXLMDUlhCvf2YlwIdhC+s90CXA7UPY7tmI5b9dDeM2qMAWwDdCJt4uryXAwCtV5PtXAsBD4uELkmcHwHauy1Cf9PA/WCOnzgeVLcBZ2rKD3bQnwHqPhid6/C3AvNOyIZr4JcCZa/BmUIkrwDW6pj6oNyXAENNXGuUAF8AldWWUFKUkwDwzwEo4wRRADC3+2OgqB8Dx+H1JM5AawEtLvHsTUyvAEMzcHsHtAUDFPAOf+iEpwME4JItx9ijA7P5oImr8J8BZ9bOAQrgMQPcqJLb1CyHAtdMuh733EcARu9LvZssdQCDH5fnmzd+/8d/JG2e/FcB0FyAYlhoVwHYGzgpTIBTAKUaIjs3j8z+bxrf8CHovwCwDUPdohSbAm+weMBqJI8AbYSSk7ar2v7m2BIbPih1ARQPXtb1uCcBWXjHNsz4iwBxD0z3CpSXAXDM6C+89E8CmxzyvqwYjwM9sN6bV7ijA3shq77zPC0CS4ChLL/grwF0fVzcGBCrAnMRwJ2ZsG0DvVkkOPX4qwElfCX1VDAzAuuIctfGiLcBA613o/VUFwIOC3T//3wbAv/0aBfdMJ8D0DevRjukcQB4k67wmDijAk0lD+8jII8AFcJeO25MgwLpzWSWIUSfAYFKpJLazH0BvCG72rHgcwC1QMIR6ZSjAoYkVQMFODMBpG/mTSLkSwJ5b74udJATAVXNENxJlHkDLGaI+qx0owHZrFhRrGCLAjgMHGXICIcDDhalkAjoswAwG48RrABvAExL282BxJsBqhnw5z0gewHNbKAmAEiHArgfNmUtZLcD2a7TfFeMRwOOU/f1t3SnAgse8a0WiEMCpdPkZzf0lwGy02yEwzyDA1N1tAXWLJECHGPDAFbvzvzSO4gGrbxhAF5xOayL2IMCfia5qQ1UjwEDpkKR7pB1AJrvEEH1SEUA1v5n+q8spwHCBk5b1FxzA7I5su29xHEASsDC0mtz4v3FK6XGNfSrAGge4uebeF8AIvoFTchcFQJ9vklvfgSDA40m06RgZJcDJZZiDOwMiQB7ID/AT+CbAbvqz3rya/r8YDLFrxAkjwLS3rupaCybA9V8s9Y4jEsCARB3ckRkVQO9yEzaj6iLAbHHx1/wgEkA3t+w5CkrrP7wZfNF7794/wont+JSA+r9uTLNskNYSQL0LikbuvO0/HymJwCGWIMA1tOVfIh4swNexDEbNPyfAj4tFQyIBJsDGB7BRQsQIwI3KVyibMivAEQZZJTuDJsDjuAcsDkcfQMyVD+xRFxHAfnti5ngzG8CaXXpzP/j1P65kr+N3qB3A8HlCSlqb+j+/a1lPPAIgQNZorBNZ+SnA1S0AsUXDKcDhEuN/+6sBQNgBwbMq2hTAY9P3dgBfI8B1gIBcPmXMvxXMKzRrSRRA7ayZRl/CA8ArVyOWhYMnwJM/cmtosRLA2vPDu1DJH0ABjO3I+UzqP7IhP8jJeivANHXmedFLEkA0WuLvmmQnwE/3I+ARYde/Qw/GxFK6JcCFRjvHFCMjwPPQxfkKpSTAsdHe+1IwGkAS1Pxr09wqwNUYiaiJGibAMAX4UaE85j+87VR1PYoWQGKdAiemUwTAX2zMzLtsLcDUAfxnwAwPQDk/j/z32SjACr5FbH8NIcAgY8t4iNorwLHeBuxaWhzANZWS9bZpKMBFfTcS8xQcwC6Ary+E/yRAKB2OyONEEcCjO5TzyqUtwIqFhy2SYx3A/9ARxfaYFcDBSYQj3FMRwIuMRpME7QZAlAOPz8pzGsBJ+v4DweIowG35Y3XZcPk/vvah4jolHMAuGgMe4zcLQLrA1ruHQCrAGfO5KQUIAkC29h7Ixe0WwNOSVehnPyjAqdoA0h8OKMBcqLx1yKPjP3JZ5KMi4uu/IglwxjD7JcCL3k67ubMiQNjiKeF21ifAS5Vuk0b7EMAxFRtF9IL/v/l7UM+4DxvAEcwmxa+KHcDdpn6IdMAVQLzzsRjQ+hVAyElFgwMW8D/SN3oyd2sowFfIofrgRPc/tQCoo0Z+JsA7YvHZPMgewIIYKKixECHAQebvtj5lHUCLr0wE2PoowGayQQM8ASvALAzwxZzfFUB8KOZEiaz8P7h95ekiZgZAOpqO0D7rK8BzzN0xyYAewFhj5SXxCxHAAjDFGG1DDcDm9N9qTl0rwJnMizKSWfq/YGFDH9n27T/4I0MvOAsBwAmWci6DtCvAmgqvGgpOKsCZUHpV/dTov6zqoV9utx9AIb//+Yjt/j+yhD5GXSYmwNhuHesHmiPA+TiFvccAIUDRtiXOKBopwEfuRCmEQCDAdxEKdpyoDsD2rz64h2IgwLbvdibyOyLAQHpez0DjA0DmgQGSGeMXQK9rqlE+T+u/y9hdso/gJ8Bc+95spEIiwPhM/Jghj9I/8aD3DVzYFEBOf8GmuLkVQEMtn++Hsw7AjqCTdWhuCMAEaPhXpoAIwKmsmSLe5yDATriTeZeoJsDWOePmgn0VQKrUVlndLBpA59PsnTv9IEAIMZ9NlIQdQE3U3dwMHu2/nrolyX9VAkBS8R2QJuwYwH1nHsvIrijAZyzt0EN2LMBj1y84yS4lwGFF4UVWuw7Au1+PrX6DHUAlfspb200vwCd0JMJQ+RnAuULphq1QCkDgXrap9WshwA5kWQ/TniXA4a7movUdJsCGbLpJAwQswNDl8KB2GSPA17ZvXEBOGUAuIl1SiwcgwOsYDs0AmBdAdWUDGVSeCcA5KXAAnjsfwCEsLfxJaxrA7WoaQOW/GMAlDnK3QkUQQJA7QieqGvC/f4s9a0roDEBDcTFnT6kcwJh47qEokCfA7Cv6oN8SAkDx9spBB7APQAVd67gVWynA/GUXXf7BK8A/tLE27DfrP5h1FT//DQHAgGysISmMJ8DHeKc7G5MjwIy0hmTP2/K/CPMsXSj/IMCAMeRHI1fnP8qce2PtISjA7BWNluuK5D9mkDAbWwwYwCPVmN03bR3ANHw8DqhNIUBAXrqzXMQKwATCfGvc3CHAkz8Fp48wKsBwmoV5M64FQBEybZtcUBvAe5gtQGQqI8AN+c2Yk2Tmv224FLy3PA3APN0d0HYCGMDH5SpregIdwEykT52FnyrA7SO525o33r+BsjG8m4Dpv2hV4GmVmhDAFjVcwLSAFcAh2GuuDWMlwGctKURWsxdAtDGqj7aFCEBVzH0cSSMEwLkkcLwWVBvAwbY/xDJBEUDAYFmQV3HlP9Eh/Ba6XfS/hkSC1ZrFJsCC/aMO/RQLwMyF3vbekhNAsnWnya9cHsCe5rKgPpMjwCSfg06ijybAJa3Bf5tqC0CFARQC4KUqwHPPpPhcUCfA4uYzKDQKEcDRpLolzLwnwNIsGPUTsB/ApZqXEdMUI8Ba+vJ6giAKwPznAK57u+M/i5Zo7dGq4L+WlTWrhkMVwM3Ikp1/vRLA1ah7FbM2FUA0Ry7aPeQkQPPTaxXc0BrA7XHDGw4QHUBUl+XdJ/EWwJfpVA2fLCHAYWnv2jEMAkDCshg6YpLyP4yh+Ew61SbAlYx59i9SHcCWDg2liNUKQBl+hS6gVBhAJgt+WXT3IkBviX6/kSwLwLDvTY4xHBVAanBfGvGkGMAWjJeVhrQmwKu7xeO7cSFA2CaraxCLJcAG4PDXQDgJQGsvbAYxwBRAwYT4RUrcFEBI7vpnJtEbQDEOmnRLzQ1Abel3wIfCHEAeHw4srM4SwIB5AWqG3OU/KOdndtP4EEB2z2cs4FsbwLCwTfBl+SDAXYT+HXK3AsDH9XiME8wpwDqMdweD1R7A5tmUtuhZKcDoTsPEz4MjwD9EAnTbPBPA6yGrcLZuEkBUXxiu5iQpwHxzN3Zm1RpAR/5dtBD0yD8cKcs4rhbzv2WxKHATpSTAU/EPqK9y/j8R93hRngUhwKWRLLZiMCRA7ftk5RrHHkDLFnmKlHshwPw+YHAgm/K/jysEJ8ABDsBX6fxgoQApwBJmtvGAASbANZgZUM8HJsAmpSRB0zIUQEytk6ZmDQtAwtbUarw4/T9+L2YJRbIjQDYtP1fVtRnAC4MbNHLOIcBkl4/yv2YYwGAoI8duDQdAy1/9Gr2sKMD62mperGErwJlOuTUE5uK/ZTxrAO6jHcDN8rWoTVIeQGxBeoOHTyHA4U5adbxHJ8D6f8kOlWktwMo9jl3Yce4//lz+VvHiEUD8NPyTbeMDQPC0yGmm5hfAZssiPhT/HsCMTMt48CgXwGhEFehbUSTAhUw1uc+q8z/LwUr1WqAmwOaVqNO17RjA/JfLKKrYIMC6G8ivJtLqvyzVgd2HCiPA9+QtA7MnIcDe/PSHP2skwN8y7lU5fBvABMjN1gLkJ8CPZONuCZ8swOdYEAEaohRAR7lY/7C+HEAT0f4jNRglQCq+Fxobi/S/5CcScrbZLsBpmAuAOr4qwNoXn1NsUSvAAmOgOdtdHEBp9zaGaQknwFa7fnx7gSBA1/EPth95IsAKIhSLqhcnwOVMrBktqibApdDZ/WT3I8BfUQkCFoYawBK5Uy9f6x/AC1+U9lhSLsAOWKLHHSv6P2bfPN+mlhrAUoAsxyeADcDLbthLEnPmP5aIpZRPgyjAGc9Fex5xKMB+B91LicglwIe3ZAiMRSDA7NrE+aNKJcBcBWHdkYQnwCiO1cZY/ABAfeiW71JtBsDdJYtuc9AlwDHbL/iWiPC/fofv4JkEBUARoAwAPBEhwGeCzFt/xxVAiuwxcPhVI8DQJHF870YrwGiyCF4REirA3ppVInu/KsCPS/UExbwkwBiTDxIrHiLA/9EjT00SJMDbCEu0xoYhQD7gub1qOhZA+v2o3b8J+r/QIXQDNp7BP/HOyGprLCrALKqmsHJCKsCHPmEMsd8nwB+U8ooaNB/A9787kOoOIcDbhLMJPF4swMi7eqiDLRbAGrgNE2yJJMDn/VqRypMLQE1AI/mrHMI/kIAn3XF1IsDa2airtLYqwLW1gJNLAwbAxiSIsj6mAsAEN6SNBHcDQNgRyvgVyfS/1L9B7uvgHcCCF//vOasowLFHz4t5dyjAaEDabt1IA0Cx8AkQYzoHQE2SD3cpRvk/lKBMLQP3IsABSmaHA8MdwEG7r1UbcxxAbzARa4KIHEAURD9B934hQC0YRS6Y/RHA1Thy1QYNGkCXNDXvbygnwFnKFaz7Eh/APkssuguhJMB2/sqV5bLnP5ONkdqubRbAolEYYzTfJ8Dmb0LMoXgRwPEw/LYNWbo/bHMk1fkpJ8Ba7BELYe0gQN2d4OMDDey/Gq/E6jdFAkAqyfYHlVgnwHxmiA/pPRzA033OFLOK+j+fggcwf6IkwIaBHBq2IwxAHFxXRfouKsBbpfwIWXMswFX9AObmmhNAmBN+gaEC2D9i96k2Qt4RQH17ke3fS+o/vi0D8tnCEkBpxFwP1ikfwLU/5e0XQyvAfIJCBrMfJMBKluEIwQ0qwNpomhFWVgpAtjJ6DgnEG0AhnCJurYcPwMWUTV/PfCnAem+8OU7uIMBoecBOAP8SwOiDQc+nIvm/kIWW8blC5z85J/Ms5KoqwO+of/e2HiHAyCK1AnZRHMD5GY/5qkcfwCzl0lMjqSrATiac/r+pLsD6X+EkB63nvyo4ZZ6jtQpAio48de+XAUAq3pBqqQMLwBCGMunWtAlAyKrF9/a5HMBSzrRY/kshwBCRwFVmLRdAHkK9hgiDLMBcVyTdLO0owEDD555hRiTAoQbbL+oxJMBYr5VrbuclwKTLvsi38xfA/uVMu6fuIsBfT9mmW9AkwPnoKFPsWCjAdaJVrebxH8Bz/Ey8oJEIwG0ckoJnFBJA0N/U4IWcH8BH5ZK7234mwN7/iL0E5BXA98lZ5WViKMCmypL1pu8swKOkeDkZQRtAAJMSJ7ftFcD0X0Tx1VAgwCLBp61exALAVNKrxSgDJ8BJTHx6HaTrP2S8WJn2NiHAEVOBRNquBECJrUInPyH/v1OBTs7tXxZAgm8D9VlRG0BX8OGION8lwKaAUZLsayNA3S145ADtIsA821fKpjQCQPKVAHXT3fm/2aUmEn5jKcDaMi6HUqUSQNLKyK+dCyPAwCptH4uZFEA/x1+XChAjwKb4H57MnCrAPMXeLBQdJMDxe4ZZ0MgdwCR2Y/XQDvm/utl95iBOJcAtMxaz8FYnwDAQoclv9iPABT9K7HQe4z+B3YoL57zpv84C2Ws2Sy3AirBy4dbMG8C0Zwzr5IQTwKuzxWceBg/ALY2uUBQbH8DoQagiJqUswF4bYXeTERPAY8yXwdTnF0Ap8eA7T9cswBZ4OykyrBNAPetuC4lOAkDiQwmcC8sKQGuOefvhlCrA5be+wrXHKsC8sKVfAS8cwLqgtMMhsw5ALRUPng3zCsBikvk0cz0WQNSizTCd1ApAtu8hL0g2IsA2HeAGEQP4v8sB/iJwzS3AFaSQt4YGKsBziXgu78YgQO50HfGwkRRAgOIzQxDEIcAkGv6TTIwtwNarEUoA2BLArXQr2r6HGcCytZVK/mEawPgln+RJn/a/KbmtExbRKMAH3YLHgIoUQLZu7c8+RyvAcGLIWFfgIMBVKo/hXJ4kwBkkKpzbTSbA+3YvT58iBsDL2qDmcbAXwE+sAjNkv+k/3QFuB/xGCMCvyARfvBsVQPzpv/OMOBvAe9zOy9VYIsDly4/P9rYhwLauK493VivAdCknAX69EkCAwKqVPlwFQFmfRyRD1wXAgllR4Pss9T9TRjiYQt8kwEhJPA8xmyzA7RelQ3vUI0AG7ZeuvxEtwGLYlhoFGxrAjozjDhIVHMBVnYkJluT4v3EE5zU3YiTAMIXunLgeLMAB3Eu2XBwkwHuZRWAGr/w/UzwdTI0nIcBP8/Rg3msJQKRV8f1fAyzAKnq4el3b6b89uAd3ZR76vz4PcyuyWCHA4JzMlttjBkAm5ZrAQQYbQOjrPCKR7SbAh/xcRvdK+L+qA5n0Y1wMQPaQwvlmURTA5ph892bWA0BZTQBCa+QlwPRnmJBiFhRA2fvKtFynHUDk1FEZK9sdQJ47RjlX+x9ArfsKJeHCLMCmDqVHg/USwOLhEiR9dybACT+TY70zIMAJyr01GDkBwJ2Xwd2lAybAPUr9LbHCGkCtJnP7uGQOQJEAs4kbnwBAAKeva4jwKcCimSkhhrIVwNfjX34yGS7AYnsKejepCMDtLKnyIbwCwFLIAUFDJiPArvDOyn0aE8DmSKAd7xkJwEp6AJ9DZyTAmN2gmZfrDkAyITu72D4VwIrH46AzrRbA9iguOT3/lj/o7BJvfc4mwPzCgIsVWh1AyItaCicpF0B95nOVxFknwMn2T9dCMxPAm9GCys8nGEA3bYArIDQkwFPnio1lzCLA25/yjXuNJ8DL5hpE6i0ZQMwBxy+hJCTAVgeCsyTq5L+jLsBwyjMgwIdreIp2GvA/dJs+kSqcFMBvg5Gl1Pf0v3FAj5w95OE/Xsex04zaI8CSPhCOoLwhwOlBZVSawynAJVc8nec/KcA2J9FAIRIlwHMqTiG72QlArpLCCAlGHsBFzNadb4sXwBLYOEDUixLAXASRjfrTJMBxbILuLCopwCfMiWKj1CrAngH4WhoUCUAvI7fI9Z0kwEskYfcPRSDALeyc3TqHJMA56Se3gI4TwGzJWp4eORrAaEWL10VXAUA4Jt81MRUVwDYC+OniSyXAMqB596LeKcD4UWhkSMcZwO/4zkbPFh/Aytrup9Y6JcBbFR2QwWQUwEMl5IqjA/G/D3rNYfQ7G0AUN06FEGj+v6z8T6FkySnAKt5vy5wrIECTRnJ2YYP6P72Z5UMouxvAONLEnirbLcCz+yx5mQEkwDFz3eO30yzA42OUpZoFCcBbU07RSggCQCHHQL5NGuW/ycoO2iKPCkBcJwqXkekBwPtiLgZaPRnAAcYIPWZKAsDFFpVIHVsiQKqqTHtpS+E/1Z/vcLzHIMDUB08soFXxP3gvK8ckG+q/zVaF9N+sFcBTotmyc4ADQHu9tAzavynADF0Q/kTaGsAYOz7UzTgBQDh0xYZe2C7A6y/LnGR4F8CT6Olzgff1vwnAnMS13RVAVbIk3CLyH0Cf8GJkZ6AVQCkI6ntiuhRAI+/ocmMNLcA8/6kf9iMewBwMajj+cB7ArPIMTa6YHMAZoBvkouclwNOOqY+dBg9A7ICR7EysKMATVMElEWMewCl56R4AqR3ABfbJHpIrIsDG3JT9n+AqwMJAMhA3HizA5aOlm22wLcAxoKtcoZwrwJ1I4SbMTR/AA/VwnFBcLMAQezSL0CIdwOEXNPI97iHAnh+jdxOcGUDu+zM2IqImwHEwgcGn+fK/kwhGfcEXJMDUqKaYsl8kwCCiINBiASrAK08AV4AkD0CwrRswnhwjwLVOVyzBlinAkCfrZkSlGcB7S8rtYJEqwL+RxaaL9fA/84pkJCeFJcA7HH7uWTj0vx4a4D9VoinAncSqWuOB8D89WiAg4+wSwPuCj9jguxvAqiV6JaZAAUA+u9zJwsTtP0MJX4zXlO2/c6P6u2p3679RyRK171wTQI6Pty9eTS3AkFxL6zV/6z+BWiKoKqgkwBLrwtNGNR3AMzXap+3pHMAqXAF1aVgTQK+Jwt8UBAFAjjfi2dE1LMCc2Dj0UBQLQFleFjLjtiZAyP2u8ArwBMCzlivl7DwqwCi8aQoqchvAKXg9yX2FI8DqVkN7w8kiwDemaQhQ9O+/nYY8EWWL779iYrIVvAYdwF0QuIaNbxDAvGDdizLiH0Duff/qfi4mwG+BFphmNyrAlirnD+HyBkAK/vhRknsmQGgvfksOdCbAGTQgmufKEcChBOo9GHAjwN84ddtRoQHAuJJk2ML2BEDwemPQ4Y0VwKlJ9byCv8e/4sTjPWvwJcBXJTX4EGwfQPXiQSBKaCHAikOkxCAvKcDQboT2iWXUv7jxi0mJ8hVAYjgL+hIAJECZ+GT1ogUqwDUpbXS4cybAyC83lHMpIsBf40Hm2GAgwMQP9jFISyvAz/qxqBmlI0CeBHuSwNkHwOnHmbVSv/2/cQG9+5H1HEDmqYBwVtYdQKbbZFVjgS7AQtOuhsGa+j8GTPURRSsowBGUD6UCdgrAvVwJjNcU/b8VsHKiLpwjwMI43qvPJgLAsysaE10BLMAHitq76gMnwFP2DAfDWhPA3KJAwe6yFsBg93ohgcwnwGrt96JOZMM/mgZbEw6bAUDe10oC6vcBQLTojlyySBzAMeRdLO0oJcB+L5bwgR/bv0V3VxPYeC3Aix6TD/EsCsC30mdOT/YBQJidolKiMyXAYiVsR4YKrr9S4kZhdzAUwAYaOsPLKAxAvJcZaM5mLcBPDiDG6wYrwD8SzNRLdR7Az2T00LMIJ8DDQaaHd3YtwBbwit1JHiXA9XIsnq7aEsD/2OwZ8+UdwCLLOMFXfy7A/gg/EDPnEEAHvFd19N4fQLKfA+3fPSbAc445vd1KLsBex8H3ckfovzyx+xA1SR3AQmaPJusyKMCdfKLb+d4pwIC33b7nlBfAPeLLPm6VD8CMQNhEdr4kwHwIemwPjxvAOP/sqBhcA8AkbzCfx5AWwKRfcP2ntx1Aaa+nLjLmAMBmpNxxADIUwAYRovPhjSZAy2pRqi1q7z88MjQllHwcQE9meWcvqA/AdJ0Hgx/yK8DjQrct+0UdwLnvtdOASSjA85flxunTEkBOAyovyZgIwLx0Nl7zPyrAqtYW5cM5BEDo7+DpsgYmwFcpuN7ZlR9AEE7aLb4TIsBizrelXXcAwJ4uL5JP0hfA5PDuTfmUEMBLPtsxThEXwE8S5DijlhFA4qaaOgeEFUDr48MRTSMpwCsd2WpKhRnAPtiv9lq0AkDSgM8eR3UnwDHPcUTppf2/kudqecefKsA1kz9R2d4UQJ3YtmEz4RbA2ksl94QzIMA2KAbQvDsMwHVMvwKcoQDAW5E48ZShHcC0Np6WymkmwDpgGcRAPCbAHp3LBsv2H8BJ/GIOIJgqwGsr9iy16Q1A1CuxA7fULMBrHBuDi8gfwCenGczMgh3AjbIN6Iik2L/rPPF/L+bxP0bioqxrZSzATr1FRmLiE0BM4yw+gJkswFkZtFB7+BBAwTej45tJEcD9SvsabhAWQDBfCIG3eiXA5V3HfD9WB8D5Eyfwn0zyP03USTw2fvc/JH6X3ccWIsAzvAo7sRkkwAwNWtQtACDArvExpDHG1D+E4IqSICEewD6vhZ9ygiTA4J+0dzJcEkAkxibikrQSQFsfT+zFbB3A7M/HjAM8GMAtsDlrLcILQGDicsgcExVAWNeBhhPbG8AzXcjyVmUiwF5OdtlxGRRAv2YvGdsEJUC45Sy//0AhwLz6jPh96x9AlupV/eTXIsAX/q23zc3Zvwibg2uSRAZAzNfa+k4mCkD/67+6sCsTQNEOH1e4ryLAiLOhWJECLcCyb6bjnrYHQDsWutVScSbAFOXmvKAIK8Ao+8bPFCT4v7BbqaRR/izAONyVzsJvLsCow5wLWhUdQHtRS3GpmiDAFtvz3NXeJcAK7/t/o9oqwIR0POWhginAzZr7tHs3KsCgUr+VPXgWwEirZ20R1BzAAGLd3OGdBsCiwxayifwkwE+hVJMRIhtAeyQhJON2H8B0BzwBwrojwMIBOFweh+4/fD8YLqEJG8C5QUMKGbEUwFVLelNYDQjA2Z+dKfv2J8Dvjjw9eRULwB+28W8xRCnAdiEKjUq7JcD+sDKu5JX9v6yLvRe7IxdAN5zAWSj9HkBkeJw4W2wjwOlIPxkhUB1AoY+q6/WqA0CLGTqdp9crwA1DcvD1UBfAXAnrds53EMBCZLMF+fEdwOcg/RDnfSjAwQrHn6jy57/HSW0sisIkwHyGHrCCNhLAvwZq14MlI8A4TNfG0SkuwO5LilYg5CnAtZ4w4SjjHUBNdV10C0UrwLQyX+QIcyfAV1ZJD3H7K8By+8g57aoXQMqgTzVmWyHAiHD7xygRL8CbnRMW6cQhQEhjH6pKhSDAMo15qeOwIEDzfefMECkSQG1d4R2/WPy/mMdrAxvoH0D68M1HxN0GwP9FsdM81yTAdnbMQLZSEcCDHIG4olkWwACPRfoYme2/BQR14xNHCkAGRtVDmX8AwF0bTc2D0yfATD7PErXpJcDQybpKQKMqwEFvZiTpifY/vy0IEYneH8ArDmsg/HIUwGaXhK2pMRzAmYDrZVQxJMC82l7EG/gZwK07P2xiovQ/ruLP9TsTAMCL4ixjqIAmwKNU5Ol8wfY/NECzrfxtKMBDRcEy1Cjyv53jpBk4cAPAyAnRktk8FkBw+6ooAUImwEU/Pzo+ifs/Pz0wmPRUAcDSVhndC1YLQK9Uac5SWQzAMBw3EKV+GMAJnOYzoLkkwF9FEyQ7zK6/+kIYWs4tEkBeJpX8mIYrwAElZyztDynAQA0KtkbF+79iWJqX55YUwL8OLlgMZRTAvQREvPcjKMCNdlsSxY4lwEs4qouIpyHAKVV4G39BD8C1c0BWcdIswAdU705q5R/AmDNmu9I/8z8J7dzFZSUbwNYmji0COv+/ja/PLXJ8I8Afb+yUvDwrwPgE9BWlIP4/I0CiD6aUKMAIeJALDg8hwAcb9J3IY/Q/M9ovQyqfJcCk1s6kUbn5P16+8LZyhhZAIaksARNuKcAA5P05sUgcwFhRnlgVpyzAYInYoI2CKcBFCUETUwUlwEbS/mUblwbA8CFo57sBJsBHqF4N3donwDbmJcrbqwxAg1HehCtnIsDMofQF6FUrwB2ia0DLlS3ARawFj7kCFkBpySAn+JYPwBaBg4xuFti//zOyUPYmHcCmx7PHF1IlwMMyt13p3RXAv38DSrKZnz+vTMaLwL4dwJNiCiZjhBnACv8Qu/vOFkD4A5V9p2jEP39eCig+/iDA8eDBZULTJMB2bOy/WK4bQPJD4/Vj+++/TN468IThJcA1IyEx9WElwPIhyOcEFijADvtdfDSgK8CDJE0Ubb0GQO4edTytwyPA7Qf/yTU1KcBqb57iSdcdwMtFzj8W/xRAASgOxjL4GsCrKnFyPF4jwCm202AQdyfAHyWdM7eiLMD1wYS9T8n1P5fbalWOx+y/W4qeeQO7JMDFQq4zdkQdwKWF8x5lRQPA8ZdaDrsPI8BrIOrI1/smwMrRCkrlRijATxNormgwJMBk/Fd14Q4pwN3gb6k3uRNAnPiGq6s4AUCg/IbYzh0AQK2gHKC5pCHAG68z9+LRtj9DLZuj2vomwICmeT9AEBrAHJy4d58WI8DnAbAvZY0iwFvohp6tGy3AkPXlreSVIcCQLhKpoJsZwOORhFSStCTAUORNWZs+JcBQr3+goCoNQLMgxA4JcxhA0+SFzOOFHsCqfauNxzHnPzNgytySIO6/E5U5wydxGMA/tfHgY/omwCc33k/7GARAtjbdR6AAG0AGUY0zqwIRQEnW0aFWeQlAFv8hAHo18r9rbAlgtTQlQJZT8kX+0RPArkAXzeleHkBGc2XRriQSQFr/MwG/UyDADewFns1dHEC/6qVbEeUUwPLRsJQfYApAliluUw8BJsCudeEDUv4owIjyxNN5Mw7A5Q5B3ip+K8BVJxj56EkswHr2ZOb0hAdAEUFzEApKzD/vobNbgXkKwHeqxaNxkxDA5pQzX3ehJcD0PBJE1C8rwE1ttw81Gtu/mJLz8NLk4L/oAXWC5YkgwF02Iy3vOAxAZEptb8ymHUBH+RPxa8ojwDecA/akQSvAbJmDbZtSpj+m4VEd/wcgwG1uEfWVaw1AKpplFx7gEcBp4E+NpunNP07ogirDCSPAjhnlQnEOF0DQqEoFrr4HwCd6zysMlyfAPTt6oKdNJsC4KORiFDghwCiBrF7JdynA5Gwlu/kFE8DCNfLRBqYXQAcZCBg+RO+/xB2C4N7OHEAUj100c4UswI2kCR+1sBrAEUMSrDQcKcD81rR1bGcnwEfcBVB6CiNAaBGCnhzEIsD54oQvKrUgwB0lPk5Mdi7AKPDjLFK5DsAyjjuneoYfwMToQ2buZSfA0HVAnHdrD8APejY2dYDov3Z0G8F5QQxAKV58SDxvJcBNcoh5fQYlwDMu3q9ZuSfA9J10q9TEJ8C42nKr+8PtP8fDVLFtQyfAJF0JZgFE/7/y4DhzafUowCeGoc8f/wBA1iCFO7QRGsBNvmilpTcSwKg+ldr8KQJA6FwQPPCjFMAKemeHgJQswBg4UTVTwxLAk8YJC9aaEMCDoZEEYCgqwFDrsirkEB1AUWQthWrhIsCKYqH+4TYvwE3oP4ejAy3Ap6yuVSj40T/rZsmnBprxP/5WkZ/LDRLAn7SucVL9/z8Pc2fpxpYRwKwFX0dQfvU/16VMBUCZI8Do5SXRSdEhwO5q5ocD4xvAYIowTXc7H0CPnAYmybUQwAYgsve6GSFA7/9EmTVpIUBFy7N5LeUhwKn5o2I8KSXAmfZl3p8b+D8z0wXf7V8jwJDmeL4uuyTADmFNB0IXGsAZ0TBZgh8swI2dX6ad5CTAX3J/aFtfKMBzKVnz4J4UwCl1ZcDFEhVAshba110fKMBXVouMDAwlwH+FQqDkOx/Af58qg5t3FUAKE5/yFLAkwBjDCzGJwRvAUCu7JU+AJ8DsGTdLqK4fQEIqVpngRCrArRhX4wI2JcCnkZySSoMowOXFJm05x+G/AK00C9I53b+fb5qJXjktwJYcOmlMyCXAkqbXpk+EG8Ajivz3u6YiwE57Fd8LpRHAghKSxD4pIMBbu6zHNsEZwPRbxKchBSHAjVB/RPpDA0BeLLYgijErwF3k4T83iizApuwRuZwy/b+4R9s6AqyjP1O4rqewtijAtY+SUW2e679P6bZ4u1glwLRe6niSvCLAgAyiiy42IcBjo+OoHjAuwNTOGu47exRAaRwD5AzYIcCYHLEge0YlwAdSaCABaQFADSe2vTEPIkATkHAZLqwiwAEjkZ2vHijA4sSfMBi08z+YtLHiGnEkwFilGn0dEirAOZWia3nbLMCFLe/TmJ4ZQM5OsLSt0hvAHRS/Z9YbLMAl+V9iSawUwOyZxd1uOvq/y3JteSiEJ8BOSPQyVjUYQC661pn7XSNAe+5VmCtnFsBxs9K2ysIKQIUJ4RXrbC3Af0jBYipsJMBsuZe71Q0lwCfVwECA5CLA6ikG9p4UI8DyXvgM5q8RwATtUt0slyDATkbbsGNCGsBUrbC0R98hwJ+PQSXngx1AGvfWmaugHcBWNFrl4KEpwN9x9UqvXxfAfPyfsCeD5T/NS/Gm0MkjQExR26K5fQtAC7QvL6ZrJUCVykr1rhYlwKZQTcCDByJAp+3mmPe/IcAyNRdf9g4hwPFA5dZ9otE/tP1T3r/5KsAIUny34N4XwFdwcODgdyTAamfS8TU+FsBmkb+TtOoiwFg/dfzyvyzAaXXb3FS0IcC22TV7p9cTwOZh77/4YyzARSuiR7pSGMDHT5Bjat3+v7U9zdlFmhHALNuKZQS4GsAxjiE43JAhwHxi5fXWawDA0AsLZ6JsEcD/cglCWRwSwLqNtmI9dCHAwwQ1FXWwJ8BCSnEjQKDrv+YCqyOSEgbA5+ezv/bKI8AyQxfLUwAhwHcKY6B5vyzAMXA0bwMDGsClfg53VUnyvwobDTnzgSXAyjiin0elFcDwvohvxyYnwICUassoDCnAJPglEMixH8AjQwMFjRggwMFcjTmGCijAtykVcFXtAkDEhyeU4p8cwHWA9Sj+RSDAexOcbpKwKsDj8Kw2RlMcwJw/B3xxSBlAEw0onepKKMCDlLWJSx0EwJIOeZQ6RyDABCytfuLmGMCFLjIj4KUmwPWKDjW2hS7ACZhFcXWKHkAQrvwxlTgPwDqQm7TFYinAXRgFopkR+b8PdilHtvoUwKxEGkkKGBxALRUSTXAfKcBgxTcjRWwBwNKv6jwSESnAxDeUjlH9JcBHrDmO/ZUtwJyIX049ONU/PdOh7Hpv2r+tTwKMsO8YwADxhl4RmBNAQiPK7ixKKcA3Q5EEHtbJvz6spNoghwJA1CYbfbLrIECREKyV3t8hwATkXhJmixfACXfNLaN6CkCMhUw5sdwXwM04oqmaxhtAAAiGFRQyGsC77SU+N74dQORcaZ/rDBVAPcS54mO2GcAD1dumtTMrwJSamUkiIwZAkvl4Ty9RC0ArNIrvt48kwP7VACkJjA/AC8G+jwTQIkCscw5HeKUlwCBVOc/deyfAfUTTueVcFsBlrzwEYHQmwLa/wkXJNQ3A3KBURCDAFEC4Vcdc65TxvznWoDchsxnAe++M3DqzEECImwgyB/UDwO5HhQ9StCPAgg2fRRpA9r8fqnpoAZwVQGyVd00lCSLAYv7UZPx/LcD2bS3LkU0mwAFo7kLxuOq/4Oi9lw7abr95K4MHD84swPXiH3FHPwtAaEUD9G7I6T+0lVLFxYUFQAWOOIVeThPAm0UjK4L6GcBk9pkyFsUeQGHWci1UyhbA0Sq4vyWjEECpCOTwB7MkQD+GoOPwY/Q/hrW/m1xOIsBAX/OGrkQqwEMMsG1Cmh1Ang9/B+6WJcBxTM9AL+MpwP/s6kXnJxnAMFE2dwjaFMASgdGqBNEkwJG8EMM0rCfAOV/AVD6IF8Dxq9lo3AAVwIyJWQq+vyTADTuBkCLGIkAl5X8m7gMhwP4sAi93IiRAwpotKhhoFMDO0HzQpxwswHEDpwaa6yTAXS2QFEnsH8Ar3BCat0otwBx+w8xkGdo/AYOizHKb679fMKb3jXIFwK/kG7YE5BnAXooPhIbyKcDm0qx6lgAowHv8v1p4BB3AhMN0zufMDkA4yFRvBPvYv8zvXCGtx9c/WMgYxjQu8r/D2b7gBawqwEF94yMAEAFArbgbiZ+a+79oIuBAL/bzP3PaROfD9iPAGnP7UXlm879huvjp40smwDeFuA21UeS/LOA3HJnBEsBt582tkxAuwHfg6kpJxSPA1rnKT/CaKMAiN2iOzobDP+RPxcdHQBvAqNcksXj85L/OgoCtqQoiwEcAMQUnHwfA/QACv+NyHsDXQ77yBUcrwDAkcwgxBtW/SV95arcjHcCR6BpAbAkpwPgZ+jwtTANAT9ea9dV7LMBW7wGMqp0fwE5MsHNcpyLAI7Wc+OQvE8DQ673weWP6vz2ysXMinhxAqBh/LbdW6j+T0GzWbQMgwJMxfEvgIyrAO/G5AqhDEcCiSTxsumckwGN9AVi3KCzAD8YWommb8z+4v9ehwpoIwKhfKg586SLAbdRDCREIBUBHdz71JksowAyHtDoSnAjAEBIZKSc3HsBVt3Aewk8SwNyQ8j4SfiXAZBc7c8RsLsBx8CAqt9ErwGiWq+TTAgTAkJd+BN+pFUAuiey9PSMuwGtgmqwd1x9ADM9UJVGFJMD4SpalEZwYwEMMf6luqA7AZ3QJ82fvKMAka4FJ2uwlwDDt8pY08fq/jNAmm4UILsBd6u45m8kawDM+S56tHxRAZkbk9tdJF8Al+e3CnXwAwDY95FYhdSTAQIPz/zZY+L9DYX2ivXEiQP2R1BM13iTAvAzdDLxkK8AMHvhHAQ8qwBo6wjGVWyHA4AXBw3i5IMCLntSDVaQaQEbt+44vEBjABuSxpMevFMBWmy8wypslwD/llifwohHARePpZdbxFMCusctqKVUQwGas9K5+wOM/mv00E8OQKMC9cBKVfCgpwLRQIdh7yiJAqEcuIE7aJsBQQp+nvQMLQAfi5iWOGxxA+8pb7XyeHcBcuJ4vWlMfQNFMX3/7lyfASw0SsAXaGMDUqzb2LOQmwKn7StDHEQFAvHAOYxw1D0CQDJr8oHTpvzToBqLFSgdA9Z92u6KiH0C2kSo2tVUkwL068t7ICCPA/Lm3KR5TIsBZN3WTwrAlwE6c1Wlvr/U/TG+5s4MpIsDzDDMurt8AQG/4lj60tiXAHfFJ4PESF8Cw4peuiEUjwKlVHm8kpBPAUfbfziyXK8BGM1wDJisrwDzuz2kx3gBAtkfRtVPfHcBvaAku4MUnwHqWhxuBtBzAKrX4hVJ6KcAWDEk+xL8RQKrydUSWhCfAKDV7nHet/T+l5YRidUj/v/pNO+o59gpA3A9bHFj7C0BnI2hS6JkkwLYxRvzP0xRA/jfe41P9KMDqwVBjk/EswMFcxj7v5h5ASuXg8n+ZGsBPhT0QyYoQwOKsVBnxOCXAiUJ4g2AuEkAfhjQut+r3v/8JNwe2ByDA1wX/0/UUIsD3IN55gR3/P7eZh/wI2QPAFLLzto1NJMC6Gpdd5oInwMk86BcNwB7A3yd9ZTD5LcBiNOPXqOYvwJDCUFfw95K/S0Ssn6KU/z/HXAzcEtYiwKY1OFJI6dU/0dSD3jqzJcB1bBKbK+z3v4e/gzzz8AdA3DlvvtHQEMDi6d77kQYiwFkxyYUk//E/5yomiJbpK8C4pyJvoCkRwA2Jtx9/bBpAMuQ4FPvP2T9R9kcpgKXjP+3ijIUSTRpAKXcZ/9/RJ8A8S2+jSv0dQISIbvkskh3ABRAxfSqVI8Ae3eJ+E0sfQEqG9xC1UR/Ao4SyEMQ2L8BjopBhPogVwF8VX7E+XSDAMnDvW/7RE8AjcpCIexIswLhAwvKUNSDAGMfs1Tx+H8BjBcLjLgkawJlx/WhJVwtA9bmrWXyoI8Buh/abVz/kP/v4IQVfDyvAc9SEHHPqEMAlxGpuxCQowIq2ZcPgVgXAYaYm+N47D0Ce0VI2l64gQENzqh47LB/AhYtQK6UEFsB+Zq9EOQ8XwIf1lfkoQ+e/dDwt/BRlDcDaANuPUPApwD4pho9ZNyTAV8qPPqQOIECZzXSO5fwbwGUYKYLv5BxALVnlr3xdJ8AhYYf+m9UfwDCy9smmzSvAySo7sy6hE8CINml8jTAbwJd2vRdH+SrAd14lCwVXAkDXVkrtrO8pwG0W2EATyeu/cMokk2b+3j+2hFfEgS7yP3z4rrYtGiTAGYBEZlNH2L+tKQFIC+AIwEbRT+HlePO/HZh9uCmXI8CIzcp3WZj1v2etviFzWxVA5rJgEq27FEAWXpEkxfoqwHpjXr6TpRFAdTATFjV/JMAbkQ89Q10qwFUsA0SQou+/Enjl8DDIBEAe7XCKGJIcwAqYMl0ROCrAO+9ykUNWJMALcWDy7ZT7v6S7FEVZ1BHA2SXgC9h9HcCTTudhffMOQIkuD3WXjCjAG9HTFiU+I8Dkn3HrxfQswCiD/QbCsifAWvCqReJaJsAEgpYQ2GQQQCPRvN9ARtm/8PALjTPGJcCZMsHpzScPwAmxlmVtJCTA9aZcTJCqFMBPTGlw2ucDwGqsiCQPJSfAE84nF+1JIsCOvKr2w24WwO4hB7VCihxAoW7S/1+YHMCScmLLS3gEQKGp5iQzlxvA6gPC9Ea9/b+Gy51yoKArwG4Jekv4YyzAWy4JgZjEKsBMR3OIeZQawMmSMhEe2Nw/r4sN7IE9G8Btk+y+CtUowNj8eloc6irAdHobdPjeFUCBv0Z13VsowF48/afOzCnAWuVFEPHHKsD1i5U90CgRQHHc+Oo5wy7AbPkFPKyrHEAZ0ttNmgX0v1ZcPm9n1CrAm0Qfbtv/I8DbvucBU2MKQJJpsmAgrPC/63WM0p05EsCQcF/oWEAIwAhQDeDaB9e/UHo05V84K8CUhoIzbuUUQHRMdzHZ7SXABN3qGEOZK8C4mV40Su8kwGdFGcL+sijA8WFZ7Xii8b+bwfGgMhckQCLjTkFkfPW/0bUJVr136L/nWDE61rQEwL9QwbuPDhJAiFpStZRAuT8C+0bS1vknwIW3+U1Pdi3ACY3e004JGUCd21nNzakfQD3oI1K8zyfAxoVFfO11CkCK14wfnwEjQPJKheFG9AnAJLtoozzS9z9+hs3AcnEnwFN1vvsGBAJASwoPbpmwF0B2iglBqo0qwG5ElHORIxLAtgtKyqGRJMBIhjLQfZUYwKRy8ZVzqhJAwyMWIkSOCsA5L+OX+dcAQPGJsbwn0SbANb5cTE/GDECiW8FfyEQmwDcJXZLTnAzAXFPYnQfOFsBPyclFD5MvwEOnN7/RdeO//e7VjvyOEMB1HbTcUC0XQJkmSI3/ICrAxBUp/MtiG8Apm+45fvcmwObtG2YTbRJAGYg7sL4K+L9eI7waQnwiQCgHXAURRA/A7cxDqJ2KLcDNK8igwFACQL2n/PwyhCbAxxIB4ai/I8Bv51RbAYoUQI0Sy9ErGSXAB06xXgEYGMCvYLVb49D0v24lE/L8VivAzKOkTCEjFMCWgjMBWK8twGTtiHG/OifAkMZsYknuKMDgWZxO4Y4HwNAVebgNgSHAdXtRecLm7D98Ymh5KgYXwCVIbXh83ug/idmO8GsSH8BIulDOqC/hP0DIpsteVh3A28GbbfqvIsCksTAQGAcmwG/BV0n3qgvAubEL6Bj0K8A9pukx2mIgwJ6Sx0ArRgzAFf+DYJpeKMDJC7jG/QIaQAbIy66pMBrAq4UZ2WoTIsBCdr24Oa0bQBuvZRHEpSvAcAmEhK7kJMAMmNS8qAsZQN+E2dx7SSDAiM4XgVWzBEDMpZ0GMUQewDRC/tg7lxjAA4V4PRp8IUD7koQuocvUPyCAmDT8NQpAijEsdaqbGkDha10wu9wrwLW5V4kovwzABgbk4KhBFED6MKF3VKoWwBvhmD/MsCfAUAUHfreKK8CEc+7bq5AIwIvKV/SwFBnACKb2Yf+vJMCoP0OUXSEjwNKZcLqW8xfAJ+GNwXFMJ8CYDbcci1kiwBfCy5SWNBtA6SQGD/BzGMCcqoCr98wKQBty+kEwdB1AMVq+kOaMKMARRI8vstYmwL64vWA5vxjAATdloDuaIMAIQ5+XCB0XQJ7tKgdIkCLAQJd/A1wMKcD3MpSnw9ggwBsYx0/SqRdAJPkMkMM5KMBuYMgA6VUmwNrGxrBXFCLAL+C7cEVOJMDOe15Zsf/zv6bvu9PF/STAGHcb5kt2IcDeb2ruOaAiwD01e+QFYBBAtTtl5NwWAMDMoShYnuQpwPgyFkjh1xRABta8rOp4FMDGb3xpMO3+P38Jby9CtwVAPhHfjoZIyD9HU6CKyq0BwA+kZfCAuRRAApUetIDGIcDsjvJtt4wowFlZnpaiSynAw/zU5709GkDt2U2GlTIBQKgE5jtPiiFA2fCmX+3GC0ClblBTzHMTwLl90CfKZSjAoEOb9yGa8b+153ljPukdwG7K5wobxy/AehDXBwaiLMDuWS+9w/0awDViCH65dxDASzSV5VFvH8BFWDleKg4gwL2tdZ/RzCrAe3nEI/t2IMB+k1Ct9XIkwHbFfBgJIiPApLRJG/AyKMBoRhvDQEAhwPf2aBzoX9c/8uS13RqyHcAws/JJ6s4RwABHR3y58y7AX3IFsqfkG8AswUOLGE4awJ4lH40TExBAVkK/bODBJcBp56AMrhQnwIjam6FfbirAcCUtFB6cAUBBLDl+gLUowPWYbLJEHR5AhrJR8Ubx6L9Y8rVFVdUkwExwYHvqminAnVyLxWckDMBHzXCZ780DQNqlPoX4ByjA0qLTUrdC/j9d3rR0rPUpwCXiTMf/1hdAonV0150HIkARDlbSmX4aQFREi4RQ7CLAR6GqU+Z7AcCwX1h8PQkpwL0hTByHe/C/7792mwgZCMComMYACZAtwBJ0nkaXgxrA17hdhf4MI8COUxFIOwAqwGdzvL0XHCjAc3UOF99PFkB+oTDbBHEjQNIopVfETAnA9crSor+FL8DurIAs6BIiwGfjkJ+xZyjAYnlZLy4iGsD2jqtFB5MWwDPEuLdLdCDAlJ6TNLv3J8BKNbrTAvcrwMdYZ8GqnCLAhSQUJ1CdJsBHlTBPN14XQD7lGxCMphvAuLCCnS07CkDGgtIW2ZohQJUczaesOSjAv8it1v0VF8C9K0A1fj7pPyuX26zMByfAeLlixtGoHMB/ZZ6Wuh8PQLQpZUR/nyTAf1/Wq9lP9r+eAr3JMdAeQKi+ma4eqC7AZKlwRaXoEcCwM/5e/IcrwCSW+gzM6CbAz96FULXvJcBVsrI4+wIYwPRu36XBd+Y/l8FFcxI2G8AWQUkqSrcbwDuXd8PRVCbAswUB9TWE1z9OMu71yXcUwEvPulhrFRDAepuDQno9KsB1ccTsWSUpwG6pYQipyhRAlFolu35fE0BF7IgxTOQYwBbj2bcWpAfApk0AIuQe97/mD+x5fvgVQAiu1NCJgQXAlqW5WnSHGsBa4UL//XgjwH5pqCeliCPAT7LlQlftIcDqk7pcxXYFQE5x/1B+Ycc/MIuSrXcg8L8UbZhyY3sNQIRLcLWMaSfAX/p0x/wcJMCzqAhoSAoWwPSnWa5Z4yzA5wTKOcbZHsCQLEXup9YtwO5Nay6EHSFADxLS8mlDAUAsaWQcnVQRQLkuRIL/GhnAAepOQMVQIcBVoYDBSYfyvzeQmXbpISbASMWsKFEOAUC3YJlQtUwbwB2jELXrlyTAHdirKmu2IsDLWeqN+1X1P/7DhFbUlBDAydkdsVkdJ8CrDt+TmJz8vwEucy8qAqy/9JPKeH35CkCc78lBnKkjwI3AGFVZHC3Asw8KYhPaKMDt8IpbN1sswEiT3o9GFifATTBRI72UK8BsAiHoPvUIQCwy9x1FCxVAYzpV649gG8BKUTfqUT34P8qBqtlLYSBAtc40mN4xGcALVFawImUewOXt9hWi8BvAoM9Gc/DcJ8BaDgXfgGIowMMT2BCwAui/RJooXs3oCcCT+GyExKMpwAEKsCNnXibAUaTbOAOzLMDlg8LlXGkSQFK+8tzowyXA2ip68reoD0BNqVqkqwwbwKKyEPrKpyFAqPOWO2FlAsCfSBqSwDwMQEfHp9TulCvAifOr2qQ4BkAgpS2LUlkSQMCroBmJOSXAVAau+denGcCWDb65q8srwKQ357fpfiPAhFyUN3XeA0DUeybKeDEnwIOuW5nEDBDA4UV3nezqBEA9cPSQrMYgwKiBdCR6PxrA/7yn+vO4IsB3oIZ+PnrgP+Ni8UEnuPE/1qchoeWRHcCyH1JzWPQbQCfBuo8/xBRAGIBI4cgCJcD8ciW8LbwhwKc82dlCMxPAYBbxFVqcDcCfnn5hG9ckQP1Yr+vInwNAbatqVpUxJ8Bp6ldWiDchwPXwDTGx4BtAjD7CH0dOFUDXnVUJm/Lwv5w3lJs4oA5Ahg8WUYipBEBtcHLLtj0ZQPopcSQuQBRAv3/0OfZ4B0AJvWYbKNYbwG3Zjye8sCvADARQmNaNE8DYG5HcA8cDQBgYh6sCeiTAvOcqJSei8j8NwYOx278kwITOhPeIoB9AB8HbFGgcGkDeSyoASqH5PyQODPCWyRXAMjTVtZBhLsCK+P1e6eb4PxZuqiE4RhdA0uMuPmEwJcCRY8oa0LYdwK/ZtQdsENO//3B6QISxIMBjFck9Nl0owNVqp5Kg0BLA+W9kyvmR+b9ThfBZmOQlwIDYamRjRiDAZEGe9cVGKMDQ/Z8VVJEhQGCuFNBaUQrAxshjAUBKIsDB7kFbQbUjwJmrscFMSPW/FqqHPZNIHMBxcE7DPlIjwHt/+QHWnSrAdNXPAg9z/T+Dj4lG2J0kwJLHvB3VpyrAiaH2cGWeAcD6rU1DhnAmwE5/hjfzBR5ALLrb9nCGAMB6XkdqopQewJQhDlzI0iXAAqU0JcpLJsB6gklD+VX5v4m020OqBh5AozsLNDuX+r8llZn6VJcfwG4SpwIwhxJAmr1387SxKsDdX7uhEtorwDWTOPYieRdAsn3o/UCcKMAq5LoNkdAkwKkUdiH4ZSTAgqqnY0AHGMDuyS8Y4zMrwJu8yd3g0SHAFRChFkCRAEAvYYD5DTUhwDarmDRXP8Y/Ey25FO0a/j9c1RVx6NUrwE0D/S2yZSfAstI6iLSv/79GxvNTy9EpwPJ8aOkQNyDAhU7psSLEIcAQW5wzfjgmwAcWQqw+cRVAQJ3kggbAK8Ax/8QL/6IlwDZbX7PQniPAr2aCG9jR5L+LGSyklUskwM4qOky/aRvAkcQteB8VBsDw91/3rIckwCRs0+QkbwLASKacM03xyT8f7c8CibomwCR7ugiFBiPA9yby99XwGUDJBdHCOJ4NQHXTxef/7B7AX7gGNVrHLMAN4F1cp7sMQPmzaXvt6ijAqYeGSiSILsCr+mvoiBMawIpA2oljf9g/m4wRPKN+JsDHJTFVY0spwPVBA1/NARBAbRP+rGUb4b/OIzk/igocwLDjDP8WJxZA2vPyBsyqEsC/pvgwSlghwBuJmEBMdBvAf1PoRCnOFEDKFeJXjxcnwDTluxVDmB7Aq/D4QhzU8b/5pilPtOMkQJTV8EAP8BVABGpxnbaaKcDnyVnt+pocwBY22uT2oibAVIVR3CRK/78dsirF5JkjQNJ5iLRRlBpAyMBAfhHWHcCrynvYSwckwFY4XB+x5BLASAn0VCbq1T9+LnlDSR0fwLSmBjrZIv8/zW9ZxAZwKcB8scFtjNbyv9mtmeaqpwlAtxG+cvkoAkAJERl5rYQlwNL+/Om+bxjAw4KWwyh36z8HIO4mLYcjwLB5skPIGyDALcZ0lX+o/D9dsF/tfyshwDIVDFtlkPY/lYQz9EHzG8AEenskfggjQPUromDLLyVAIQ9z/Del4r8V2+yPQ/YmwM6FraAuAeq/uUq3Uo4xCsA43Fhg1pIGwDNRKQAdPCnA9czQySiFAcA8Jo1Y088qwNCLSvDQ9CrAgDI3LQzoBkAqK/sMur8jwNxo3db27BxASYUFxMA0GkBg5i3RxY8swNLVQTUXxSnAGtaw32F0E8AMJDax618WwEY/YQnFxxzAh7z8zxmcJ8CVXROFFZIjwDbfQavGvwPAThdGMW53GMB6l5uXXb4iwGZlFPpVzBDAZTjUZZ4/BEBqtizNhA8nwEoIIygevBZAxsU2tGn6G0Ax6GZVmqMQwG19pFxElh3Ae2Va4DjFE8AKrGLhvIoKQMTYxtpr9/A/eDH+Fck0JUBJzT/7rcwqwCrl+/Zeev6/gQyW5b/Y8b/Vvx3JI08pwCKdt+GlQB7AMKjcSqO0KcAxvRgMLLMKQI5fKok7SBRAXr1mVJhwIsAKoNFtnOEQwNG53Hu+AyLAR3nCgLAHI8CoFLbGf8MiwK0TpoLONifAYvNYBbAg5z8ulPS+dWYVwHGVd5Zb3xRAgmbzidFbIUBT6Nj3OLcmwCmBJtP0Dg/A3mea64WpBUAWiNw4HEfmP6lDGQQW8SHAaIbHYEjhJsAQbnB/OX4bwPvg4zN6WirAW6bpD7yJIMB8K13EgNj8v3kvz5rjQR3AoRmMr3MoLcCUuNJB5k8lwO44tnn0BBdAFoc/3wiDLMCxjpLXXZcVwOKVfkyUviDAdiZ2baXrFEA+TzyX8QwpwNngozh6vw/AIxUzGJ/a8T/vEsPUW/kXwJgELbskTy3ACh3688DIKMCn9kXboZ0ZwPfEkdrkHyjAaRLHz3s8278GZHcfhMLpv5nIasgGZhJAh3ZY4HQCH8BSTg2ZpbQZwFia3tupSPq/B4dkH2iKHMD3yF5hTZAXwG94O6zd0xLA6NCLK3TCIEC+khwg1z4RQK0amOsJRRzARrALtVzmFcBt8GlupHogwNS7TDEwYhDAE4NiBBgZEMDSa8Ep2pYaQA==\",\"dtype\":\"float64\",\"shape\":[5000]}}},\"id\":\"9db29959-9048-45d4-8c8e-a9924c841be6\",\"type\":\"ColumnDataSource\"},{\"attributes\":{\"plot\":null,\"text\":\"A map of 10000 word vectors\"},\"id\":\"dff1418b-b368-4de8-8f2b-2098c6808437\",\"type\":\"Title\"},{\"attributes\":{\"plot\":{\"id\":\"05c2158c-a674-4e1f-bd1c-7e911182fb8d\",\"subtype\":\"Figure\",\"type\":\"Plot\"}},\"id\":\"d86b2633-b3bb-43ce-940c-8b5f6dcf0724\",\"type\":\"SaveTool\"},{\"attributes\":{\"overlay\":{\"id\":\"7dbad6a8-eaf1-4344-a137-71f00630bb90\",\"type\":\"BoxAnnotation\"},\"plot\":{\"id\":\"05c2158c-a674-4e1f-bd1c-7e911182fb8d\",\"subtype\":\"Figure\",\"type\":\"Plot\"}},\"id\":\"3fa2cee4-6263-4486-a93d-d82b596d8484\",\"type\":\"BoxZoomTool\"},{\"attributes\":{\"plot\":{\"id\":\"05c2158c-a674-4e1f-bd1c-7e911182fb8d\",\"subtype\":\"Figure\",\"type\":\"Plot\"}},\"id\":\"0baebfcd-68c2-48f0-9fde-378bf1e5fc34\",\"type\":\"ResetTool\"},{\"attributes\":{},\"id\":\"5cd18061-a28e-4304-af4f-e56c7bcf6a7c\",\"type\":\"ToolEvents\"},{\"attributes\":{\"callback\":null},\"id\":\"6e10f749-b749-492d-8ba3-ad421adf5202\",\"type\":\"DataRange1d\"},{\"attributes\":{\"bottom_units\":\"screen\",\"fill_alpha\":{\"value\":0.5},\"fill_color\":{\"value\":\"lightgrey\"},\"left_units\":\"screen\",\"level\":\"overlay\",\"line_alpha\":{\"value\":1.0},\"line_color\":{\"value\":\"black\"},\"line_dash\":[4,4],\"line_width\":{\"value\":2},\"plot\":null,\"render_mode\":\"css\",\"right_units\":\"screen\",\"top_units\":\"screen\"},\"id\":\"7dbad6a8-eaf1-4344-a137-71f00630bb90\",\"type\":\"BoxAnnotation\"},{\"attributes\":{\"plot\":{\"id\":\"05c2158c-a674-4e1f-bd1c-7e911182fb8d\",\"subtype\":\"Figure\",\"type\":\"Plot\"}},\"id\":\"bdf3349d-9d46-4d2d-8a8d-a60e0c6cb92b\",\"type\":\"WheelZoomTool\"},{\"attributes\":{\"callback\":null},\"id\":\"1e995e64-343d-4e6a-9be4-a9f22e35e2bc\",\"type\":\"DataRange1d\"},{\"attributes\":{},\"id\":\"ed7595b1-fab6-4ce4-82c1-aa1f66c74256\",\"type\":\"LinearScale\"},{\"attributes\":{},\"id\":\"0d18a0a3-fb9a-4135-acd1-d0f5ac22e9eb\",\"type\":\"LinearScale\"},{\"attributes\":{\"data_source\":{\"id\":\"9db29959-9048-45d4-8c8e-a9924c841be6\",\"type\":\"ColumnDataSource\"},\"glyph\":{\"id\":\"56ccf159-c887-4979-a97d-8606ff930d29\",\"type\":\"Circle\"},\"hover_glyph\":null,\"muted_glyph\":null,\"nonselection_glyph\":{\"id\":\"e9db7ad2-29a7-4946-85fc-70e0cdb85ee9\",\"type\":\"Circle\"},\"selection_glyph\":null},\"id\":\"e02158eb-e238-46c3-94ff-4927af15fde0\",\"type\":\"GlyphRenderer\"},{\"attributes\":{\"callback\":null,\"plot\":{\"id\":\"05c2158c-a674-4e1f-bd1c-7e911182fb8d\",\"subtype\":\"Figure\",\"type\":\"Plot\"},\"tooltips\":[[\"word\",\"@words\"]]},\"id\":\"ebb4e5f7-0d33-4efa-a778-7e1f24217771\",\"type\":\"HoverTool\"}],\"root_ids\":[\"05c2158c-a674-4e1f-bd1c-7e911182fb8d\"]},\"title\":\"Bokeh Application\",\"version\":\"0.12.6\"}};\n",
       "            var render_items = [{\"docid\":\"d6cb5006-6d98-4379-81d7-e9d46427fa31\",\"elementid\":\"cced7781-75de-4487-bd3e-f42485677c08\",\"modelid\":\"05c2158c-a674-4e1f-bd1c-7e911182fb8d\"}];\n",
       "            \n",
       "            Bokeh.embed.embed_items(docs_json, render_items);\n",
       "          };\n",
       "          if (document.readyState != \"loading\") fn();\n",
       "          else document.addEventListener(\"DOMContentLoaded\", fn);\n",
       "        })();\n",
       "      },\n",
       "      function(Bokeh) {\n",
       "      }\n",
       "    ];\n",
       "  \n",
       "    function run_inline_js() {\n",
       "      \n",
       "      if ((window.Bokeh !== undefined) || (force === true)) {\n",
       "        for (var i = 0; i < inline_js.length; i++) {\n",
       "          inline_js[i](window.Bokeh);\n",
       "        }if (force === true) {\n",
       "          display_loaded();\n",
       "        }} else if (Date.now() < window._bokeh_timeout) {\n",
       "        setTimeout(run_inline_js, 100);\n",
       "      } else if (!window._bokeh_failed_load) {\n",
       "        console.log(\"Bokeh: BokehJS failed to load within specified timeout.\");\n",
       "        window._bokeh_failed_load = true;\n",
       "      } else if (force !== true) {\n",
       "        var cell = $(document.getElementById(\"cced7781-75de-4487-bd3e-f42485677c08\")).parents('.cell').data().cell;\n",
       "        cell.output_area.append_execute_result(NB_LOAD_WARNING)\n",
       "      }\n",
       "  \n",
       "    }\n",
       "  \n",
       "    if (window._bokeh_is_loading === 0) {\n",
       "      console.log(\"Bokeh: BokehJS loaded, going straight to plotting\");\n",
       "      run_inline_js();\n",
       "    } else {\n",
       "      load_libs(js_urls, function() {\n",
       "        console.log(\"Bokeh: BokehJS plotting callback run at\", now());\n",
       "        run_inline_js();\n",
       "      });\n",
       "    }\n",
       "  }(this));\n",
       "</script>"
      ]
     },
     "metadata": {},
     "output_type": "display_data"
    }
   ],
   "source": [
    "# importing bokeh library for interactive dataviz\n",
    "import bokeh.plotting as bp\n",
    "from bokeh.models import HoverTool, BoxSelectTool\n",
    "from bokeh.plotting import figure, show, output_notebook\n",
    "\n",
    "# defining the chart\n",
    "output_notebook()\n",
    "plot_tfidf = bp.figure(plot_width=700, plot_height=600, title=\"A map of 10000 word vectors\",\n",
    "    tools=\"pan,wheel_zoom,box_zoom,reset,hover,previewsave\",\n",
    "    x_axis_type=None, y_axis_type=None, min_border=1)\n",
    "\n",
    "# getting a list of word vectors. limit to 10000. each is of 200 dimensions\n",
    "word_vectors = [tweet_w2v[w] for w in tweet_w2v.wv.vocab.keys()[:5000]]\n",
    "\n",
    "# dimensionality reduction. converting the vectors to 2d vectors\n",
    "from sklearn.manifold import TSNE\n",
    "tsne_model = TSNE(n_components=2, verbose=1, random_state=0)\n",
    "tsne_w2v = tsne_model.fit_transform(word_vectors)\n",
    "\n",
    "# putting everything in a dataframe\n",
    "tsne_df = pd.DataFrame(tsne_w2v, columns=['x', 'y'])\n",
    "tsne_df['words'] = tweet_w2v.wv.vocab.keys()[:5000]\n",
    "\n",
    "# plotting. the corresponding word appears when you hover on the data point.\n",
    "plot_tfidf.scatter(x='x', y='y', source=tsne_df)\n",
    "hover = plot_tfidf.select(dict(type=HoverTool))\n",
    "hover.tooltips={\"word\": \"@words\"}\n",
    "show(plot_tfidf)"
   ]
  },
  {
   "cell_type": "markdown",
   "metadata": {},
   "source": [
    "![alt text](https://github.com/mulloymorrow/notebooks/blob/master/bokeh_plot.png \"Bokeh Plot\")"
   ]
  },
  {
   "cell_type": "code",
   "execution_count": 19,
   "metadata": {
    "collapsed": false,
    "deletable": true,
    "editable": true
   },
   "outputs": [
    {
     "name": "stdout",
     "output_type": "stream",
     "text": [
      "building tf-idf matrix ...\n",
      "vocab size : 23026\n"
     ]
    }
   ],
   "source": [
    "print 'building tf-idf matrix ...'\n",
    "vectorizer = TfidfVectorizer(analyzer=lambda x: x, min_df=10)\n",
    "matrix = vectorizer.fit_transform([x.words for x in x_train])\n",
    "tfidf = dict(zip(vectorizer.get_feature_names(), vectorizer.idf_))\n",
    "print 'vocab size :', len(tfidf)"
   ]
  },
  {
   "cell_type": "code",
   "execution_count": 20,
   "metadata": {
    "collapsed": true,
    "deletable": true,
    "editable": true
   },
   "outputs": [],
   "source": [
    "def buildWordVector(tokens, size):\n",
    "    vec = np.zeros(size).reshape((1, size))\n",
    "    count = 0.\n",
    "    for word in tokens:\n",
    "        try:\n",
    "            vec += tweet_w2v[word].reshape((1, size)) * tfidf[word]\n",
    "            count += 1.\n",
    "        except KeyError: # handling the case where the token is not\n",
    "                         # in the corpus. useful for testing.\n",
    "            continue\n",
    "    if count != 0:\n",
    "        vec /= count\n",
    "    return vec"
   ]
  },
  {
   "cell_type": "code",
   "execution_count": 21,
   "metadata": {
    "collapsed": false,
    "deletable": true,
    "editable": true
   },
   "outputs": [
    {
     "name": "stderr",
     "output_type": "stream",
     "text": [
      "100%|██████████| 799677/799677 [01:19<00:00, 10024.60it/s]\n",
      "100%|██████████| 199920/199920 [00:17<00:00, 11378.88it/s]\n"
     ]
    }
   ],
   "source": [
    "from sklearn.preprocessing import scale\n",
    "train_vecs_w2v = np.concatenate([buildWordVector(z, n_dim) for z in tqdm(map(lambda x: x.words, x_train))])\n",
    "train_vecs_w2v = scale(train_vecs_w2v)\n",
    "\n",
    "test_vecs_w2v = np.concatenate([buildWordVector(z, n_dim) for z in tqdm(map(lambda x: x.words, x_test))])\n",
    "test_vecs_w2v = scale(test_vecs_w2v)"
   ]
  },
  {
   "cell_type": "code",
   "execution_count": 22,
   "metadata": {
    "collapsed": false,
    "deletable": true,
    "editable": true
   },
   "outputs": [
    {
     "data": {
      "application/vnd.jupyter.widget-view+json": {
       "model_id": "85411182cd3b49e38a540888f14ba47b"
      }
     },
     "metadata": {},
     "output_type": "display_data"
    },
    {
     "data": {
      "application/vnd.jupyter.widget-view+json": {
       "model_id": "dc1d09cd60074fed8b4f1ee25c404a77"
      }
     },
     "metadata": {},
     "output_type": "display_data"
    },
    {
     "data": {
      "application/vnd.jupyter.widget-view+json": {
       "model_id": "f549b36bde484437992eda078b2d169f"
      }
     },
     "metadata": {},
     "output_type": "display_data"
    },
    {
     "data": {
      "application/vnd.jupyter.widget-view+json": {
       "model_id": "ce3f8730d70d46c18560478ff8120b51"
      }
     },
     "metadata": {},
     "output_type": "display_data"
    },
    {
     "data": {
      "application/vnd.jupyter.widget-view+json": {
       "model_id": "cff951e041624259b5ac1e0ffa2f2b4d"
      }
     },
     "metadata": {},
     "output_type": "display_data"
    },
    {
     "data": {
      "application/vnd.jupyter.widget-view+json": {
       "model_id": "5623fce013e3409e9948defa74af2d58"
      }
     },
     "metadata": {},
     "output_type": "display_data"
    },
    {
     "data": {
      "application/vnd.jupyter.widget-view+json": {
       "model_id": "f2bdb29f9ba04887b18812074448ffde"
      }
     },
     "metadata": {},
     "output_type": "display_data"
    },
    {
     "data": {
      "application/vnd.jupyter.widget-view+json": {
       "model_id": "5221a3f1a9a34da7a5952300f491f858"
      }
     },
     "metadata": {},
     "output_type": "display_data"
    },
    {
     "data": {
      "application/vnd.jupyter.widget-view+json": {
       "model_id": "78398cd6f449465684a61ef0c0e101fa"
      }
     },
     "metadata": {},
     "output_type": "display_data"
    },
    {
     "data": {
      "application/vnd.jupyter.widget-view+json": {
       "model_id": "3342fc5fa3ce4545ae5c09f64415d692"
      }
     },
     "metadata": {},
     "output_type": "display_data"
    },
    {
     "name": "stdout",
     "output_type": "stream",
     "text": [
      "\n"
     ]
    },
    {
     "data": {
      "text/plain": [
       "<keras.callbacks.History at 0x7f3bd2bfd350>"
      ]
     },
     "execution_count": 22,
     "metadata": {},
     "output_type": "execute_result"
    }
   ],
   "source": [
    "from keras.models import Sequential\n",
    "from keras.layers import Dense\n",
    "\n",
    "model = Sequential()\n",
    "model.add(Dense(32, activation='relu', input_dim=200))\n",
    "model.add(Dense(1, activation='sigmoid'))\n",
    "model.compile(optimizer='rmsprop',\n",
    "              loss='binary_crossentropy',\n",
    "              metrics=['accuracy'])\n",
    "\n",
    "from keras.callbacks import TensorBoard\n",
    "from keras_tqdm import TQDMNotebookCallback\n",
    "tensorBoardCallback = TensorBoard(log_dir='./logs/twittersentiment', write_graph=True)\n",
    "model.fit(train_vecs_w2v, y_train, nb_epoch=9, batch_size=64, verbose=0, callbacks=[TQDMNotebookCallback(), tensorBoardCallback],)\n"
   ]
  },
  {
   "cell_type": "code",
   "execution_count": 23,
   "metadata": {
    "collapsed": false,
    "deletable": true,
    "editable": true
   },
   "outputs": [
    {
     "data": {
      "text/plain": [
       "array([[ 0.82599945, -0.57772837,  1.05451329, ..., -0.1278278 ,\n",
       "        -0.55098089, -0.46753695],\n",
       "       [-0.72978697, -0.24671593,  1.28129483, ..., -0.35002373,\n",
       "         0.45771551,  0.27133315],\n",
       "       [-0.22051631, -0.42906915,  0.84291023, ...,  0.21921565,\n",
       "         0.62473854, -0.16559235],\n",
       "       ..., \n",
       "       [ 0.25265982,  0.54207512, -1.28215199, ...,  0.14834653,\n",
       "         0.23589818, -0.97843311],\n",
       "       [-0.29757413, -1.52787302, -0.27852199, ..., -0.81587341,\n",
       "         0.95921117, -0.04558614],\n",
       "       [-0.37591557, -0.53767461,  1.56600403, ..., -0.170078  ,\n",
       "         0.47914968, -0.69260922]])"
      ]
     },
     "execution_count": 23,
     "metadata": {},
     "output_type": "execute_result"
    }
   ],
   "source": [
    "train_vecs_w2v"
   ]
  },
  {
   "cell_type": "code",
   "execution_count": null,
   "metadata": {
    "collapsed": false,
    "deletable": true,
    "editable": true
   },
   "outputs": [
    {
     "name": "stdout",
     "output_type": "stream",
     "text": [
      "0.481627651072\n"
     ]
    }
   ],
   "source": [
    "score = model.evaluate(test_vecs_w2v, y_test, batch_size=128, verbose=0)\n",
    "print score[1]"
   ]
  },
  {
   "cell_type": "code",
   "execution_count": null,
   "metadata": {
    "collapsed": false,
    "deletable": true,
    "editable": true
   },
   "outputs": [
    {
     "data": {
      "application/vnd.jupyter.widget-view+json": {
       "model_id": "080678451e5f4755abcb09a699e7fe85"
      }
     },
     "metadata": {},
     "output_type": "display_data"
    },
    {
     "data": {
      "application/vnd.jupyter.widget-view+json": {
       "model_id": "5553313342a943d9be41bcb14fe2f1e0"
      }
     },
     "metadata": {},
     "output_type": "display_data"
    },
    {
     "data": {
      "application/vnd.jupyter.widget-view+json": {
       "model_id": "f1a7f78847c7401bacbf8125468c336c"
      }
     },
     "metadata": {},
     "output_type": "display_data"
    },
    {
     "data": {
      "application/vnd.jupyter.widget-view+json": {
       "model_id": "247fd3d9c22a46af8c53275b4e966719"
      }
     },
     "metadata": {},
     "output_type": "display_data"
    },
    {
     "data": {
      "application/vnd.jupyter.widget-view+json": {
       "model_id": "5ceef3de3a704dc5ac58d97ef31a33f0"
      }
     },
     "metadata": {},
     "output_type": "display_data"
    },
    {
     "data": {
      "application/vnd.jupyter.widget-view+json": {
       "model_id": "9957c767c3074a29ba32ff8368dd202e"
      }
     },
     "metadata": {},
     "output_type": "display_data"
    },
    {
     "data": {
      "application/vnd.jupyter.widget-view+json": {
       "model_id": "baed9ff8e0f942bda60ff93d11380799"
      }
     },
     "metadata": {},
     "output_type": "display_data"
    },
    {
     "data": {
      "application/vnd.jupyter.widget-view+json": {
       "model_id": "0f203c6d61714b2d82ee176f3c455ca7"
      }
     },
     "metadata": {},
     "output_type": "display_data"
    }
   ],
   "source": [
    "from keras.models import Sequential\n",
    "from keras.layers import Dense\n",
    "from keras.layers import LSTM, Convolution1D, Flatten, Dropout\n",
    "from keras.layers.pooling import MaxPooling1D\n",
    "from keras.layers.embeddings import Embedding\n",
    "from keras.preprocessing import sequence\n",
    "from keras.callbacks import TensorBoard\n",
    "\n",
    "input_dim=200\n",
    "max_review_length=200\n",
    "embedding_vecor_length = 300\n",
    "top_words=10000\n",
    "model = Sequential()\n",
    "# model.add(Embedding(top_words, embedding_vecor_length, input_length=max_review_length))\n",
    "\n",
    "# Convolutional model (3x conv, flatten, 2x dense)\n",
    "model.add(Convolution1D(64, 3, border_mode='same'))\n",
    "model.add(Convolution1D(32, 3, border_mode='same'))\n",
    "model.add(Convolution1D(16, 3, border_mode='same'))\n",
    "model.add(MaxPooling1D())\n",
    "model.add(Flatten())\n",
    "model.add(Dropout(0.2))\n",
    "model.add(Dense(250,activation='relu'))\n",
    "model.add(Dropout(0.2))\n",
    "model.add(Dense(1,activation='sigmoid'))\n",
    "\n",
    "model.compile(loss='binary_crossentropy', optimizer='adam', metrics=['accuracy'])\n",
    "\n",
    "\n",
    "# Log to tensorboard\n",
    "from keras.callbacks import TensorBoard\n",
    "from keras_tqdm import TQDMNotebookCallback\n",
    "\n",
    "batch_size=128\n",
    "tensorBoardCallback = TensorBoard(log_dir='./logs/twittersentiment', write_graph=True)\n",
    "model.fit(train_vecs_w2v, y_train, nb_epoch=9, verbose=0, callbacks=[TQDMNotebookCallback(), tensorBoardCallback], batch_size=batch_size)\n",
    "\n",
    "# model.fit(X_train, y_train, nb_epoch=3, verbose=0, callbacks=[TQDMNotebookCallback()], batch_size=64)\n",
    "\n",
    "# Evaluation on the test set\n",
    "scores = model.evaluate(X_test, y_test, verbose=0)\n",
    "print(\"Accuracy: %.2f%%\" % (scores[1]*100))"
   ]
  },
  {
   "cell_type": "markdown",
   "metadata": {
    "deletable": true,
    "editable": true
   },
   "source": [
    "## Other Twitter Data\n",
    "Twitter Data from: ***SemEval-2016 Task 4: Sentiment Analysis on Twitter***"
   ]
  }
 ],
 "metadata": {
  "kernelspec": {
   "display_name": "Python 2",
   "language": "python",
   "name": "python2"
  },
  "language_info": {
   "codemirror_mode": {
    "name": "ipython",
    "version": 2
   },
   "file_extension": ".py",
   "mimetype": "text/x-python",
   "name": "python",
   "nbconvert_exporter": "python",
   "pygments_lexer": "ipython2",
   "version": "2.7.12"
  }
 },
 "nbformat": 4,
 "nbformat_minor": 2
}
